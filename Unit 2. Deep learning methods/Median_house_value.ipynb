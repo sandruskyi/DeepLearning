{
  "nbformat": 4,
  "nbformat_minor": 0,
  "metadata": {
    "colab": {
      "name": "Median_house_value.ipynb",
      "provenance": [],
      "collapsed_sections": []
    },
    "language_info": {
      "codemirror_mode": {
        "name": "ipython",
        "version": 3
      },
      "file_extension": ".py",
      "mimetype": "text/x-python",
      "name": "python",
      "nbconvert_exporter": "python",
      "pygments_lexer": "ipython3",
      "version": "3.6.7"
    },
    "kernelspec": {
      "name": "python3",
      "display_name": "Python 3"
    },
    "accelerator": "GPU"
  },
  "cells": [
    {
      "cell_type": "markdown",
      "metadata": {
        "id": "x0uJW5xqqqlm"
      },
      "source": [
        "# Machine learning program (median house value)"
      ]
    },
    {
      "cell_type": "code",
      "metadata": {
        "id": "V4Dwpm86q2jO",
        "outputId": "5ad9a9d6-6252-4b42-99a2-d0d1d4dc7d3b",
        "colab": {
          "base_uri": "https://localhost:8080/"
        }
      },
      "source": [
        "import tensorflow as tf\n",
        "from tensorflow import keras\n",
        "import pandas as pd\n",
        "import matplotlib.pyplot as plt\n",
        "import time\n",
        "\n",
        "print(\"Tensorflow version: \"+tf.__version__)"
      ],
      "execution_count": 1,
      "outputs": [
        {
          "output_type": "stream",
          "text": [
            "Tensorflow version: 2.3.0\n"
          ],
          "name": "stdout"
        }
      ]
    },
    {
      "cell_type": "markdown",
      "metadata": {
        "id": "zCo-PcwtxCbO"
      },
      "source": [
        "## Examples from datasets"
      ]
    },
    {
      "cell_type": "code",
      "metadata": {
        "id": "-SAQX4N2qqls",
        "outputId": "beaf7fdd-5a5a-4ffd-f009-107859b07e98",
        "colab": {
          "base_uri": "https://localhost:8080/"
        }
      },
      "source": [
        "# Google file system\n",
        "from google.colab import drive\n",
        "drive.mount('/GoogleDrive', force_remount=True)\n",
        "\n",
        "ATT_FILE =   \"/GoogleDrive/My Drive/Colab Notebooks/Datasets/MedianHouseValuePreparedCleanAttributes.csv\"\n",
        "LABEL_FILE = \"/GoogleDrive/My Drive/Colab Notebooks/Datasets/MedianHouseValueOneHotEncodedClasses.csv\"\n",
        "\n",
        "attributes = pd.read_csv(ATT_FILE)\n",
        "label =      pd.read_csv(LABEL_FILE)"
      ],
      "execution_count": 2,
      "outputs": [
        {
          "output_type": "stream",
          "text": [
            "Mounted at /GoogleDrive\n"
          ],
          "name": "stdout"
        }
      ]
    },
    {
      "cell_type": "code",
      "metadata": {
        "id": "xfEOrwcr-ft8",
        "outputId": "df0bff3d-27c0-40c9-fc8d-cbfe93f6f820",
        "colab": {
          "base_uri": "https://localhost:8080/"
        }
      },
      "source": [
        "TRAIN_RATIO = 0.8\n",
        "\n",
        "n_instances = attributes.shape[0]\n",
        "n_train = int(n_instances*TRAIN_RATIO)\n",
        "n_dev = int((n_instances - n_train)/2)\n",
        "\n",
        "x_train = attributes.values[:n_train]\n",
        "t_train = label.values[:n_train]\n",
        "x_dev =   attributes.values[n_train:n_train + n_dev]\n",
        "t_dev =   label.values[n_train:n_train + n_dev]\n",
        "\n",
        "INPUTS =  x_train.shape[1]\n",
        "OUTPUTS = t_train.shape[1]\n",
        "\n",
        "NUM_TRAINING_EXAMPLES = int(round(x_train.shape[0]/1))\n",
        "NUM_DEV_EXAMPLES =      int(round(x_dev.shape[0]/1))\n",
        "\n",
        "print (\"Number of training examples: \", NUM_TRAINING_EXAMPLES)\n",
        "print (\"Number of examples for development test: \", NUM_DEV_EXAMPLES)"
      ],
      "execution_count": 3,
      "outputs": [
        {
          "output_type": "stream",
          "text": [
            "Number of training examples:  16342\n",
            "Number of examples for development test:  2043\n"
          ],
          "name": "stdout"
        }
      ]
    },
    {
      "cell_type": "markdown",
      "metadata": {
        "id": "hisRDds_kfFb"
      },
      "source": [
        "## Model\n"
      ]
    },
    {
      "cell_type": "code",
      "metadata": {
        "id": "9llGmGvkqqmM"
      },
      "source": [
        "n_neurons_per_hlayer = [500, 250, 75, 25]\n",
        "learning_rate = 0.1\n"
      ],
      "execution_count": 4,
      "outputs": []
    },
    {
      "cell_type": "code",
      "metadata": {
        "id": "_HC6q86_IzO7"
      },
      "source": [
        "model = keras.Sequential(name=\"my_model\")\n",
        "\n",
        "model.add(keras.layers.InputLayer(input_shape=(INPUTS,)))\n",
        "for neurons in n_neurons_per_hlayer:\n",
        "  model.add(keras.layers.Dense(neurons, activation=\"relu\"))\n",
        "model.add(keras.layers.Dense(OUTPUTS, activation=\"softmax\"))"
      ],
      "execution_count": 5,
      "outputs": []
    },
    {
      "cell_type": "code",
      "metadata": {
        "id": "XisSOCL1UDh8",
        "outputId": "495cfcae-815e-45ce-ea31-a4cd2ff6fd61",
        "colab": {
          "base_uri": "https://localhost:8080/"
        }
      },
      "source": [
        "model.compile(loss=tf.keras.losses.categorical_crossentropy,\n",
        "              optimizer=tf.keras.optimizers.SGD(lr=learning_rate),\n",
        "              metrics=[\"categorical_accuracy\"])\n",
        "\n",
        "\n",
        "model.summary()"
      ],
      "execution_count": 6,
      "outputs": [
        {
          "output_type": "stream",
          "text": [
            "Model: \"my_model\"\n",
            "_________________________________________________________________\n",
            "Layer (type)                 Output Shape              Param #   \n",
            "=================================================================\n",
            "dense (Dense)                (None, 500)               5000      \n",
            "_________________________________________________________________\n",
            "dense_1 (Dense)              (None, 250)               125250    \n",
            "_________________________________________________________________\n",
            "dense_2 (Dense)              (None, 75)                18825     \n",
            "_________________________________________________________________\n",
            "dense_3 (Dense)              (None, 25)                1900      \n",
            "_________________________________________________________________\n",
            "dense_4 (Dense)              (None, 3)                 78        \n",
            "=================================================================\n",
            "Total params: 151,053\n",
            "Trainable params: 151,053\n",
            "Non-trainable params: 0\n",
            "_________________________________________________________________\n"
          ],
          "name": "stdout"
        }
      ]
    },
    {
      "cell_type": "markdown",
      "metadata": {
        "id": "oQZsDnk8bCa8"
      },
      "source": [
        "## Training\n",
        "Aqui vienen los parametros de entrenamiento, y en history empieza el proceso de entramiento (fit)"
      ]
    },
    {
      "cell_type": "code",
      "metadata": {
        "id": "7xiouC6pbG0m"
      },
      "source": [
        "n_epochs = 1000\n",
        "batch_size = 512\n",
        "start_time = time.clock()"
      ],
      "execution_count": 7,
      "outputs": []
    },
    {
      "cell_type": "code",
      "metadata": {
        "id": "2Z79Zz4Owszp"
      },
      "source": [
        "history = model.fit(x_train, t_train, \n",
        "                    batch_size = batch_size, \n",
        "                    epochs=n_epochs, \n",
        "                    verbose = 0, \n",
        "                    validation_data = (x_dev, t_dev))"
      ],
      "execution_count": 8,
      "outputs": []
    },
    {
      "cell_type": "markdown",
      "metadata": {
        "id": "JFjtHnWH8-99"
      },
      "source": [
        "## Results\n",
        "\n",
        "Se presentan los resultados y al final sale la info de error que utilizaremos para hacer los ejercicios"
      ]
    },
    {
      "cell_type": "code",
      "metadata": {
        "id": "ei8jQFBcgqQ1",
        "outputId": "c2c3cd41-534a-4b56-df21-e1065d72ee2f",
        "colab": {
          "base_uri": "https://localhost:8080/",
          "height": 338
        }
      },
      "source": [
        "results = pd.DataFrame(history.history)\n",
        "results.plot(figsize = (8, 5))\n",
        "plt.grid(True)\n",
        "plt.xlabel (\"Epochs\")\n",
        "plt.ylabel (\"Accuracy - Mean Log Loss\")\n",
        "plt.gca().set_ylim(0, 1) # set the vertical range to [0,1]\n",
        "plt.show()"
      ],
      "execution_count": 9,
      "outputs": [
        {
          "output_type": "display_data",
          "data": {
            "image/png": "[encoded data removed]",
            "text/plain": [
              "<Figure size 576x360 with 1 Axes>"
            ]
          },
          "metadata": {
            "tags": [],
            "needs_background": "light"
          }
        }
      ]
    },
    {
      "cell_type": "code",
      "metadata": {
        "id": "PWFtUYNKqqmX",
        "outputId": "1ade4c32-3f56-4ccf-8c7e-fd05cfa16bcd",
        "colab": {
          "base_uri": "https://localhost:8080/"
        }
      },
      "source": [
        "print (\"Error (training): \", \n",
        "       round((1 - results.categorical_accuracy.values[-1:][0])*100, 1), \"%\")\n",
        "print (\"Error (development test): \", \n",
        "       round((1 - results.val_categorical_accuracy.values[-1:][0])*100, 1), \"%\")\n",
        "print (\"Time: \", \n",
        "       round((time.clock() - start_time)),\"seconds\")"
      ],
      "execution_count": 10,
      "outputs": [
        {
          "output_type": "stream",
          "text": [
            "Error (training):  16.3 %\n",
            "Error (development test):  20.6 %\n",
            "Time:  100 seconds\n"
          ],
          "name": "stdout"
        }
      ]
    }
  ]
}