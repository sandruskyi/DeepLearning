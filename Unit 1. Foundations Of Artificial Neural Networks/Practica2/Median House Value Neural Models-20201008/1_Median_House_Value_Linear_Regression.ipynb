{
  "nbformat": 4,
  "nbformat_minor": 0,
  "metadata": {
    "colab": {
      "name": "1. Median House Value. Linear Regression.ipynb",
      "provenance": [],
      "collapsed_sections": []
    },
    "language_info": {
      "codemirror_mode": {
        "name": "ipython",
        "version": 3
      },
      "file_extension": ".py",
      "mimetype": "text/x-python",
      "name": "python",
      "nbconvert_exporter": "python",
      "pygments_lexer": "ipython3",
      "version": "3.6.7"
    },
    "kernelspec": {
      "name": "python3",
      "display_name": "Python 3"
    },
    "accelerator": "GPU"
  },
  "cells": [
    {
      "cell_type": "markdown",
      "metadata": {
        "id": "YX8-HjoCXqIm"
      },
      "source": [
        "# Median House Value as a Linear Regression Problem\n",
        "#### Tensorflow 2"
      ]
    },
    {
      "cell_type": "code",
      "metadata": {
        "id": "Rs6PTAC3q_oq",
        "outputId": "8658ad84-0f15-478d-dddd-67788ca47af7",
        "colab": {
          "base_uri": "https://localhost:8080/",
          "height": 492
        }
      },
      "source": [
        "from tensorflow.python.client import device_lib\n",
        "device_lib.list_local_devices()"
      ],
      "execution_count": null,
      "outputs": [
        {
          "output_type": "execute_result",
          "data": {
            "text/plain": [
              "[name: \"/device:CPU:0\"\n",
              " device_type: \"CPU\"\n",
              " memory_limit: 268435456\n",
              " locality {\n",
              " }\n",
              " incarnation: 1894979148391746553, name: \"/device:XLA_CPU:0\"\n",
              " device_type: \"XLA_CPU\"\n",
              " memory_limit: 17179869184\n",
              " locality {\n",
              " }\n",
              " incarnation: 17158808634239777010\n",
              " physical_device_desc: \"device: XLA_CPU device\", name: \"/device:XLA_GPU:0\"\n",
              " device_type: \"XLA_GPU\"\n",
              " memory_limit: 17179869184\n",
              " locality {\n",
              " }\n",
              " incarnation: 13753173846665234596\n",
              " physical_device_desc: \"device: XLA_GPU device\", name: \"/device:GPU:0\"\n",
              " device_type: \"GPU\"\n",
              " memory_limit: 15695549568\n",
              " locality {\n",
              "   bus_id: 1\n",
              "   links {\n",
              "   }\n",
              " }\n",
              " incarnation: 18215074821261507348\n",
              " physical_device_desc: \"device: 0, name: Tesla P100-PCIE-16GB, pci bus id: 0000:00:04.0, compute capability: 6.0\"]"
            ]
          },
          "metadata": {
            "tags": []
          },
          "execution_count": 1
        }
      ]
    },
    {
      "cell_type": "markdown",
      "metadata": {
        "id": "4GQVwaGvDdQS"
      },
      "source": [
        "# 1. Import libraries"
      ]
    },
    {
      "cell_type": "code",
      "metadata": {
        "id": "2NkGPBFJXqIo",
        "outputId": "e4f2b121-7c7f-45c3-cedf-b1a6ad875be0",
        "colab": {
          "base_uri": "https://localhost:8080/",
          "height": 35
        }
      },
      "source": [
        "import tensorflow as tf\n",
        "\n",
        "## Support libraries\n",
        "import numpy as np\n",
        "import pandas as pd\n",
        "import matplotlib.pyplot as plt\n",
        "from tqdm import tqdm\n",
        "from google.colab import drive\n",
        "drive.mount('/gdrive', force_remount=True)"
      ],
      "execution_count": null,
      "outputs": [
        {
          "output_type": "stream",
          "text": [
            "Mounted at /gdrive\n"
          ],
          "name": "stdout"
        }
      ]
    },
    {
      "cell_type": "markdown",
      "metadata": {
        "id": "IZZDcAJOXqIt"
      },
      "source": [
        "# 2. Load files"
      ]
    },
    {
      "cell_type": "code",
      "metadata": {
        "scrolled": true,
        "id": "XNJ3gowWXqIu",
        "outputId": "d5af95f6-880f-473c-8ac3-9214043c4d87",
        "colab": {
          "base_uri": "https://localhost:8080/",
          "height": 88
        }
      },
      "source": [
        "ATT_FILE = \"/gdrive/My Drive/Colab Notebooks/datasets/Housing/MedianHouseValue/MedianHouseValuePreparedCleanAttributes.csv\"\n",
        "LABEL_FILE = \"/gdrive/My Drive/Colab Notebooks/datasets/Housing/MedianHouseValue/MedianHouseValueContinuousOutput.csv\"\n",
        "\n",
        "TRAIN_RATE=0.8\n",
        "\n",
        "attributes = pd.read_csv(ATT_FILE)\n",
        "label = pd.read_csv(LABEL_FILE)\n",
        "\n",
        "n_instances = attributes.shape[0]\n",
        "n_train = int(n_instances*TRAIN_RATE)\n",
        "n_dev = int((n_instances-n_train)/2)\n",
        "#n_final_test = n_instances-n_train-n_dev\n",
        "\n",
        "x_train = attributes.values[:n_train]\n",
        "t_train = label.values[:n_train]\n",
        "\n",
        "x_dev = attributes.values[n_train:n_train+n_dev]\n",
        "t_dev = label.values[n_train:n_train+n_dev]\n",
        "\n",
        "print (\"x_train:\",x_train.shape)\n",
        "print (\"t_train:\",t_train.shape)\n",
        "\n",
        "print (\"x_dev:\",x_dev.shape)\n",
        "print (\"t_dev:\",t_dev.shape)\n",
        "\n",
        "# We cannot employ the final test examples yet, since this is not the final neural model.  "
      ],
      "execution_count": null,
      "outputs": [
        {
          "output_type": "stream",
          "text": [
            "x_train: (16342, 9)\n",
            "t_train: (16342, 1)\n",
            "x_dev: (2043, 9)\n",
            "t_dev: (2043, 1)\n"
          ],
          "name": "stdout"
        }
      ]
    },
    {
      "cell_type": "markdown",
      "metadata": {
        "id": "w5ReHgu5g-oW"
      },
      "source": [
        "Therefore, we consider 16,342 instances to train the regression model (adjusting the weights) and 2,043 cases for development tests to tune the hyperparameters, such as the learning rate or the number of epochs to train."
      ]
    },
    {
      "cell_type": "code",
      "metadata": {
        "id": "vYZ7jTdyXqI1"
      },
      "source": [
        "t_train = t_train.reshape((1,-1))[0]\n",
        "t_dev = t_dev.reshape((1,-1))[0]\n",
        "#t_final_test = t_test.reshape((1,-1))[0]"
      ],
      "execution_count": null,
      "outputs": []
    },
    {
      "cell_type": "markdown",
      "metadata": {
        "id": "co1vibPcXqI4"
      },
      "source": [
        "# 3. Initialize variables"
      ]
    },
    {
      "cell_type": "code",
      "metadata": {
        "id": "RUxAQyVwXYOg"
      },
      "source": [
        "INPUTS = x_train.shape[1]\n",
        "OUTPUTS = 1\n",
        "NUM_TRAINING_EXAMPLES = round(x_train.shape[0]/1) # training and dev examples can\n",
        "NUM_DEV_EXAMPLES = round (x_dev.shape[0]/1) # be reduced if needed. "
      ],
      "execution_count": null,
      "outputs": []
    },
    {
      "cell_type": "code",
      "metadata": {
        "id": "dtDE4UdnXqI8",
        "outputId": "9f7d230c-c540-4f6d-e1d9-1044895442c0",
        "colab": {
          "base_uri": "https://localhost:8080/",
          "height": 193
        }
      },
      "source": [
        "x_train[:5]"
      ],
      "execution_count": null,
      "outputs": [
        {
          "output_type": "execute_result",
          "data": {
            "text/plain": [
              "array([[ 0.21713147, -0.69394261,  0.41176471, -0.93926446, -0.88733706,\n",
              "        -0.90924634, -0.89278079, -0.77585137, -1.        ],\n",
              "       [-0.69322709,  0.17747078, -0.29411765, -0.91795107, -0.88671633,\n",
              "        -0.95448303, -0.88949186, -0.59159184,  1.        ],\n",
              "       [ 0.44820717, -0.95961743,  0.37254902, -0.8306628 , -0.80074488,\n",
              "        -0.89349477, -0.79575728, -0.5589716 ,  1.        ],\n",
              "       [ 0.29083665, -0.7088204 , -0.41176471, -0.87629076, -0.85909373,\n",
              "        -0.94315984, -0.84377569, -0.48705535, -1.        ],\n",
              "       [-0.40039841,  0.15834219, -0.49019608, -0.8418536 , -0.84574798,\n",
              "        -0.93413493, -0.82765992, -0.16468738, -0.33333333]])"
            ]
          },
          "metadata": {
            "tags": []
          },
          "execution_count": 6
        }
      ]
    },
    {
      "cell_type": "code",
      "metadata": {
        "id": "ZnoAKLVSXqJA",
        "outputId": "ff78bbc1-4e2b-4b82-dac2-ca2f9f6609ec",
        "colab": {
          "base_uri": "https://localhost:8080/",
          "height": 35
        }
      },
      "source": [
        "t_train[:5]"
      ],
      "execution_count": null,
      "outputs": [
        {
          "output_type": "execute_result",
          "data": {
            "text/plain": [
              "array([-0.61278098, -0.07711308, -0.55876058, -0.33484398, -0.09402023])"
            ]
          },
          "metadata": {
            "tags": []
          },
          "execution_count": 7
        }
      ]
    },
    {
      "cell_type": "code",
      "metadata": {
        "id": "m_WblGXGXqJD",
        "outputId": "9c676a71-ba2e-4ebf-ed09-ac18e98104e1",
        "colab": {
          "base_uri": "https://localhost:8080/",
          "height": 193
        }
      },
      "source": [
        "x_dev[:5]"
      ],
      "execution_count": null,
      "outputs": [
        {
          "output_type": "execute_result",
          "data": {
            "text/plain": [
              "array([[ 0.22908367, -0.67906482,  0.45098039, -0.83366397, -0.77343265,\n",
              "        -0.81524146, -0.76155238, -0.67868029, -1.        ],\n",
              "       [-0.61752988,  0.10308183,  1.        , -0.94201129, -0.93078833,\n",
              "        -0.97247681, -0.93257688, -0.37100178,  0.33333333],\n",
              "       [-0.39043825,  0.16046759, -0.88235294, -0.92929447, -0.90037244,\n",
              "        -0.90016536, -0.89870087, -0.74136908, -0.33333333],\n",
              "       [-0.24701195, -0.45377258, -0.33333333, -0.85156926, -0.82774674,\n",
              "        -0.94030102, -0.81877981, -0.58286093, -1.        ],\n",
              "       [ 0.22908367, -0.73645058, -0.25490196, -0.90589552, -0.82774674,\n",
              "        -0.90420135, -0.81746423, -0.86805699,  1.        ]])"
            ]
          },
          "metadata": {
            "tags": []
          },
          "execution_count": 8
        }
      ]
    },
    {
      "cell_type": "code",
      "metadata": {
        "id": "66CNtKhxXqJH",
        "outputId": "377625dd-9929-42cc-cddd-3835877e1d39",
        "colab": {
          "base_uri": "https://localhost:8080/",
          "height": 35
        }
      },
      "source": [
        "t_dev[:5]"
      ],
      "execution_count": null,
      "outputs": [
        {
          "output_type": "execute_result",
          "data": {
            "text/plain": [
              "array([-0.54020396,  0.17072095, -0.54845135, -0.41525602, -0.43298791])"
            ]
          },
          "metadata": {
            "tags": []
          },
          "execution_count": 9
        }
      ]
    },
    {
      "cell_type": "code",
      "metadata": {
        "id": "h7MjaJm-M6Cj"
      },
      "source": [
        "x_train = tf.cast(x_train,tf.float32)\n",
        "t_train = tf.cast(t_train,tf.float32)\n",
        "x_dev = tf.cast(x_dev,tf.float32)\n",
        "t_dev = tf.cast(t_dev,tf.float32)"
      ],
      "execution_count": null,
      "outputs": []
    },
    {
      "cell_type": "markdown",
      "metadata": {
        "id": "KvIHpejcXqJJ"
      },
      "source": [
        "## 4. Set hyperparameters "
      ]
    },
    {
      "cell_type": "code",
      "metadata": {
        "id": "WS6-VEjiXqJK"
      },
      "source": [
        "n_epochs = 1000\n",
        "learning_rate = 0.1"
      ],
      "execution_count": null,
      "outputs": []
    },
    {
      "cell_type": "markdown",
      "metadata": {
        "id": "Ld7muMHBXqJM"
      },
      "source": [
        "## 5. Build the neural model: linear regressor"
      ]
    },
    {
      "cell_type": "markdown",
      "metadata": {
        "id": "dLonW-N8XqJO"
      },
      "source": [
        "A variable can change its value during the execution phase. <b>W</b> is a matrix of weights (<b>kernel</b>). In this case, a column vector since there is just one output. <b>b</b> is the bias vector, a scalar in this study case. "
      ]
    },
    {
      "cell_type": "code",
      "metadata": {
        "id": "guGKwbMqXqJP"
      },
      "source": [
        "W = tf.Variable (tf.random.uniform([INPUTS,1], -1.0,1.0), name=\"W\")\n",
        "b = tf.Variable (.0, name=\"bias\")"
      ],
      "execution_count": null,
      "outputs": []
    },
    {
      "cell_type": "markdown",
      "metadata": {
        "id": "wLL4ezkFXqJQ"
      },
      "source": [
        "The output function computes the output **y**, called *computed output*, *predicted output*, or *prediction*. The code implemented here calculates $y=Wx+b$. Note that performing $Wx$ or $xW$ depends on the dimension of the vectors (matrices) involved."
      ]
    },
    {
      "cell_type": "code",
      "metadata": {
        "id": "MPKLq0mCXqJQ"
      },
      "source": [
        "def predict (x):\n",
        "  return tf.add (tf.matmul(x,W), b, name=\"y\")"
      ],
      "execution_count": null,
      "outputs": []
    },
    {
      "cell_type": "markdown",
      "metadata": {
        "id": "qfLqCKBOXqJR"
      },
      "source": [
        "The loss function is the SSE, defined by $E_p(W)=(y_p-t_p)^2$. The cost function is defined by $MSE=\\frac{1}{m} \\sum_{i=1}^{m}(y_i-t_i)^2$"
      ]
    },
    {
      "cell_type": "code",
      "metadata": {
        "id": "mekezzh4XqJS"
      },
      "source": [
        "def mse (y,t):\n",
        "  loss = tf.square(y-t)\n",
        "  return tf.reduce_mean(loss)"
      ],
      "execution_count": null,
      "outputs": []
    },
    {
      "cell_type": "markdown",
      "metadata": {
        "id": "RO2jqgznXqJT"
      },
      "source": [
        "The learning method is the gradient descent to minimize the cost MSE, with the previously defined (hyperparameter) learning rate $\\alpha$: $\\Delta^{(p)}w_{ij}=-\\alpha \\frac{\\partial E^{(p)}(W)}{\\partial w_{ij}}$; $w^{(p)}_{ij}(t+1) =w^{(p)}_{ij}(t)-\\alpha \\frac{\\partial E^{(p)}(W)}{\\partial w_{ij}}$ "
      ]
    },
    {
      "cell_type": "code",
      "metadata": {
        "id": "5cGE2GOvXqJT"
      },
      "source": [
        "def training_op(x, t, alpha_lr):\n",
        "        #First the we compute the error \n",
        "        with tf.GradientTape(persistent=True) as g: #persistent=True so parameters can change more than once\n",
        "            error = mse(predict(x),t)\n",
        "\n",
        "        #Then, the partial derivative of the error function regarding the weights; i.e., the parameters W and b    \n",
        "        dy_dW = g.gradient(error, W)\n",
        "        dy_db = g.gradient(error, b)\n",
        "        \n",
        "        #Finally, we multiply the partial derivative by the learning rate and apply the increment \n",
        "        W.assign_sub(alpha_lr * dy_dW)\n",
        "        b.assign_sub(alpha_lr * dy_db)\n",
        "\n",
        "        return error"
      ],
      "execution_count": null,
      "outputs": []
    },
    {
      "cell_type": "markdown",
      "metadata": {
        "id": "Kyoapx9WXqJW"
      },
      "source": [
        "# 6. Run the model"
      ]
    },
    {
      "cell_type": "markdown",
      "metadata": {
        "id": "Y-d4rq3ScKAH"
      },
      "source": [
        "The only operation to compute is *trainin_op* to perform a batch-update gradient iteration, i.e., an epoch. Therefore, the function receives the training dataset and the learning rate. "
      ]
    },
    {
      "cell_type": "code",
      "metadata": {
        "id": "9kHfe-_ZXqJX",
        "outputId": "813b3e31-3302-4a5e-fcfb-86a0f1a5dd18",
        "colab": {
          "base_uri": "https://localhost:8080/",
          "height": 35
        }
      },
      "source": [
        "mse_array = []\n",
        "for epoch in tqdm(range(n_epochs)): #for each epoch a learning iteration is computed\n",
        "    loss = training_op (x_train, t_train, learning_rate)\n",
        "    mse_array.append (loss)\n"
      ],
      "execution_count": null,
      "outputs": [
        {
          "output_type": "stream",
          "text": [
            "100%|██████████| 1000/1000 [00:49<00:00, 20.05it/s]\n"
          ],
          "name": "stderr"
        }
      ]
    },
    {
      "cell_type": "markdown",
      "metadata": {
        "id": "6M3yR2M0EPdj"
      },
      "source": [
        "# 7. Report results"
      ]
    },
    {
      "cell_type": "code",
      "metadata": {
        "id": "TeKb_uuPLtWq"
      },
      "source": [
        "final_training_mse = mse(predict(x_train),t_train)\n",
        "dev_mse = mse(predict(x_dev),t_dev)\n",
        "predictions = predict(x_dev)"
      ],
      "execution_count": null,
      "outputs": []
    },
    {
      "cell_type": "code",
      "metadata": {
        "scrolled": false,
        "id": "wr6oA8ExXqJZ",
        "outputId": "a60b0c0e-44f3-4ab0-d628-8f35c67195ee",
        "colab": {
          "base_uri": "https://localhost:8080/",
          "height": 312
        }
      },
      "source": [
        "plt.title(\"MSE Evolution\")\n",
        "plt.xlabel(\"Epochs\")\n",
        "plt.ylabel(\"MSE\");\n",
        "plt.plot(range(n_epochs),mse_array)"
      ],
      "execution_count": null,
      "outputs": [
        {
          "output_type": "execute_result",
          "data": {
            "text/plain": [
              "[<matplotlib.lines.Line2D at 0x7f3c90330978>]"
            ]
          },
          "metadata": {
            "tags": []
          },
          "execution_count": 17
        },
        {
          "output_type": "display_data",
          "data": {
            "image/png": "[encoded data removed]",
            "text/plain": [
              "<Figure size 432x288 with 1 Axes>"
            ]
          },
          "metadata": {
            "tags": [],
            "needs_background": "light"
          }
        }
      ]
    },
    {
      "cell_type": "markdown",
      "metadata": {
        "id": "6upahVBIXqJa"
      },
      "source": [
        "<b>The learning process falls into a local optimum</b>. The MSE evolution turns into a flat line from 200 epochs. A linear regression model is trying to solve a non-linear problem. "
      ]
    },
    {
      "cell_type": "code",
      "metadata": {
        "id": "a3nEuIIlXqJb",
        "outputId": "a10afae4-d163-400a-f25e-a08a641a08a1",
        "colab": {
          "base_uri": "https://localhost:8080/",
          "height": 37
        }
      },
      "source": [
        "\"Final training MSE: \" + str(final_training_mse.numpy())"
      ],
      "execution_count": null,
      "outputs": [
        {
          "output_type": "execute_result",
          "data": {
            "application/vnd.google.colaboratory.intrinsic+json": {
              "type": "string"
            },
            "text/plain": [
              "'Final training MSE: 0.22471023'"
            ]
          },
          "metadata": {
            "tags": []
          },
          "execution_count": 18
        }
      ]
    },
    {
      "cell_type": "code",
      "metadata": {
        "id": "--bBDO8IXqJc",
        "outputId": "3c0fb72d-11fb-41b2-cd09-401f8eeeeb86",
        "colab": {
          "base_uri": "https://localhost:8080/",
          "height": 37
        }
      },
      "source": [
        "\"Dev test set MSE: \" + str(dev_mse.numpy())"
      ],
      "execution_count": null,
      "outputs": [
        {
          "output_type": "execute_result",
          "data": {
            "application/vnd.google.colaboratory.intrinsic+json": {
              "type": "string"
            },
            "text/plain": [
              "'Dev test set MSE: 0.23895338'"
            ]
          },
          "metadata": {
            "tags": []
          },
          "execution_count": 19
        }
      ]
    },
    {
      "cell_type": "markdown",
      "metadata": {
        "id": "dQTDutHBXqJe"
      },
      "source": [
        "**The final MSE for both the training and development datasets are too high**. We did not expect good results since a linear regression algorithm is applied to solve a non-linear problem. \n",
        "\n",
        "The next cell shows a comparison between computed and target outputs for the ten first development examples."
      ]
    },
    {
      "cell_type": "code",
      "metadata": {
        "id": "NQRFmtQGXqJe"
      },
      "source": [
        "comparison = pd.DataFrame([[computed,true_dev] for computed, true_dev \n",
        "        in zip(predictions.numpy().reshape([predictions.shape[0]]), \n",
        "               t_dev[:NUM_DEV_EXAMPLES].numpy())], columns=[\"y\",\"t\"])"
      ],
      "execution_count": null,
      "outputs": []
    },
    {
      "cell_type": "code",
      "metadata": {
        "id": "Oxs4Th7hXqJf",
        "outputId": "d6d18d1f-58cc-4442-f20b-1778a3672f3c",
        "colab": {
          "base_uri": "https://localhost:8080/",
          "height": 366
        }
      },
      "source": [
        "comparison[:10]"
      ],
      "execution_count": null,
      "outputs": [
        {
          "output_type": "execute_result",
          "data": {
            "text/html": [
              "<div>\n",
              "<style scoped>\n",
              "    .dataframe tbody tr th:only-of-type {\n",
              "        vertical-align: middle;\n",
              "    }\n",
              "\n",
              "    .dataframe tbody tr th {\n",
              "        vertical-align: top;\n",
              "    }\n",
              "\n",
              "    .dataframe thead th {\n",
              "        text-align: right;\n",
              "    }\n",
              "</style>\n",
              "<table border=\"1\" class=\"dataframe\">\n",
              "  <thead>\n",
              "    <tr style=\"text-align: right;\">\n",
              "      <th></th>\n",
              "      <th>y</th>\n",
              "      <th>t</th>\n",
              "    </tr>\n",
              "  </thead>\n",
              "  <tbody>\n",
              "    <tr>\n",
              "      <th>0</th>\n",
              "      <td>-0.231531</td>\n",
              "      <td>-0.540204</td>\n",
              "    </tr>\n",
              "    <tr>\n",
              "      <th>1</th>\n",
              "      <td>-0.219068</td>\n",
              "      <td>0.170721</td>\n",
              "    </tr>\n",
              "    <tr>\n",
              "      <th>2</th>\n",
              "      <td>-0.246333</td>\n",
              "      <td>-0.548451</td>\n",
              "    </tr>\n",
              "    <tr>\n",
              "      <th>3</th>\n",
              "      <td>-0.228555</td>\n",
              "      <td>-0.415256</td>\n",
              "    </tr>\n",
              "    <tr>\n",
              "      <th>4</th>\n",
              "      <td>-0.230788</td>\n",
              "      <td>-0.432988</td>\n",
              "    </tr>\n",
              "    <tr>\n",
              "      <th>5</th>\n",
              "      <td>-0.209759</td>\n",
              "      <td>-0.268040</td>\n",
              "    </tr>\n",
              "    <tr>\n",
              "      <th>6</th>\n",
              "      <td>-0.202502</td>\n",
              "      <td>0.068866</td>\n",
              "    </tr>\n",
              "    <tr>\n",
              "      <th>7</th>\n",
              "      <td>-0.200215</td>\n",
              "      <td>0.751749</td>\n",
              "    </tr>\n",
              "    <tr>\n",
              "      <th>8</th>\n",
              "      <td>-0.242989</td>\n",
              "      <td>1.000000</td>\n",
              "    </tr>\n",
              "    <tr>\n",
              "      <th>9</th>\n",
              "      <td>-0.206390</td>\n",
              "      <td>-0.309689</td>\n",
              "    </tr>\n",
              "  </tbody>\n",
              "</table>\n",
              "</div>"
            ],
            "text/plain": [
              "          y         t\n",
              "0 -0.231531 -0.540204\n",
              "1 -0.219068  0.170721\n",
              "2 -0.246333 -0.548451\n",
              "3 -0.228555 -0.415256\n",
              "4 -0.230788 -0.432988\n",
              "5 -0.209759 -0.268040\n",
              "6 -0.202502  0.068866\n",
              "7 -0.200215  0.751749\n",
              "8 -0.242989  1.000000\n",
              "9 -0.206390 -0.309689"
            ]
          },
          "metadata": {
            "tags": []
          },
          "execution_count": 25
        }
      ]
    },
    {
      "cell_type": "markdown",
      "metadata": {
        "id": "77Fp58COXqJh"
      },
      "source": [
        "Note that the computed values are all around -0.2, the mean value of the target outputs (approximately 207,000 $) to minimize MSE. This linear neural network model can not achieve more accurate results.\n",
        "\n"
      ]
    }
  ]
}