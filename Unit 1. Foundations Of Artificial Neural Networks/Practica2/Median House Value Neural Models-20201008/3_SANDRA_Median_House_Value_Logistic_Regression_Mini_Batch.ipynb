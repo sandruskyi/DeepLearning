{
  "nbformat": 4,
  "nbformat_minor": 0,
  "metadata": {
    "colab": {
      "name": "3_SANDRA_Median_House_Value_Logistic_Regression_Mini_Batch.ipynb",
      "provenance": [],
      "collapsed_sections": []
    },
    "language_info": {
      "codemirror_mode": {
        "name": "ipython",
        "version": 3
      },
      "file_extension": ".py",
      "mimetype": "text/x-python",
      "name": "python",
      "nbconvert_exporter": "python",
      "pygments_lexer": "ipython3",
      "version": "3.6.7"
    },
    "kernelspec": {
      "name": "python3",
      "display_name": "Python 3"
    },
    "accelerator": "TPU"
  },
  "cells": [
    {
      "cell_type": "markdown",
      "metadata": {
        "id": "Jj3DZeL9MjBl"
      },
      "source": [
        "# Median House Value as a Logistic Regression Problem with Mini-batch\n",
        "\n",
        "### Tensorflow 2"
      ]
    },
    {
      "cell_type": "markdown",
      "metadata": {
        "id": "eCmgwThOYVeB"
      },
      "source": [
        "## 1. Import libraries"
      ]
    },
    {
      "cell_type": "code",
      "metadata": {
        "id": "ZUiiuvwZMjBn",
        "colab": {
          "base_uri": "https://localhost:8080/",
          "height": 35
        },
        "outputId": "f371f5a1-bbfd-45bd-8488-878ac703fe6a"
      },
      "source": [
        "import tensorflow as tf\n",
        "\n",
        "import numpy as np\n",
        "import pandas as pd\n",
        "import matplotlib.pyplot as plt\n",
        "from tqdm import tqdm\n",
        "from google.colab import drive\n",
        "drive.mount('/gdrive', force_remount=True)"
      ],
      "execution_count": null,
      "outputs": [
        {
          "output_type": "stream",
          "text": [
            "Mounted at /gdrive\n"
          ],
          "name": "stdout"
        }
      ]
    },
    {
      "cell_type": "markdown",
      "metadata": {
        "id": "dC_ve4KBYYjw"
      },
      "source": [
        "## 2. Load data"
      ]
    },
    {
      "cell_type": "code",
      "metadata": {
        "id": "irJPFG87MjBr",
        "colab": {
          "base_uri": "https://localhost:8080/",
          "height": 88
        },
        "outputId": "f8893857-86e2-4bba-a6fb-9935bc606acc"
      },
      "source": [
        "ATT_FILE = \"/gdrive/My Drive/Colab Notebooks/datasets/Housing/MedianHouseValue/MedianHouseValuePreparedCleanAttributes.csv\"\n",
        "LABEL_FILE = \"/gdrive/My Drive/Colab Notebooks/datasets/Housing/MedianHouseValue/MedianHouseValueOneHotEncodedClasses.csv\"\n",
        "\n",
        "TRAIN_RATE=0.8\n",
        "\n",
        "attributes = pd.read_csv(ATT_FILE)\n",
        "label = pd.read_csv(LABEL_FILE)\n",
        "\n",
        "n_instances = attributes.shape[0]\n",
        "n_train = int(n_instances*TRAIN_RATE)\n",
        "n_dev = int((n_instances-n_train)/2)\n",
        "#n_final_test = n_instances-n_train-n_dev\n",
        "\n",
        "x_train = attributes.values[:n_train]\n",
        "t_train = label.values[:n_train]\n",
        "\n",
        "x_dev = attributes.values[n_train:n_train+n_dev]\n",
        "t_dev = label.values[n_train:n_train+n_dev]\n",
        "\n",
        "print (\"x_train:\",x_train.shape)\n",
        "print (\"t_train:\",t_train.shape)\n",
        "\n",
        "print (\"x_dev:\",x_dev.shape)\n",
        "print (\"t_dev:\",t_dev.shape)\n",
        "\n",
        "# We cannot employ the final test examples yet, since this is not the final neural approach.  "
      ],
      "execution_count": null,
      "outputs": [
        {
          "output_type": "stream",
          "text": [
            "x_train: (16342, 9)\n",
            "t_train: (16342, 3)\n",
            "x_dev: (2043, 9)\n",
            "t_dev: (2043, 3)\n"
          ],
          "name": "stdout"
        }
      ]
    },
    {
      "cell_type": "markdown",
      "metadata": {
        "id": "LxM6TT50MjBw"
      },
      "source": [
        "## 3. Initialize variables"
      ]
    },
    {
      "cell_type": "code",
      "metadata": {
        "id": "7YoZU5oJMjBx"
      },
      "source": [
        "INPUTS = x_train.shape[1]\n",
        "OUTPUTS = t_train.shape[1]\n",
        "NUM_TRAINING_EXAMPLES = int(round(x_train.shape[0]/1))\n",
        "NUM_DEV_EXAMPLES = int (round (x_dev.shape[0]/1))"
      ],
      "execution_count": null,
      "outputs": []
    },
    {
      "cell_type": "markdown",
      "metadata": {
        "id": "GtVEkMkjMjBz"
      },
      "source": [
        "Some data is displayed to test correctness:"
      ]
    },
    {
      "cell_type": "code",
      "metadata": {
        "id": "YO7WqHOwMjCB",
        "colab": {
          "base_uri": "https://localhost:8080/",
          "height": 193
        },
        "outputId": "0c51e6e6-9d6b-4277-af44-418a4a1c1b77"
      },
      "source": [
        "x_train[:5]"
      ],
      "execution_count": null,
      "outputs": [
        {
          "output_type": "execute_result",
          "data": {
            "text/plain": [
              "array([[ 0.21713147, -0.69394261,  0.41176471, -0.93926446, -0.88733706,\n",
              "        -0.90924634, -0.89278079, -0.77585137, -1.        ],\n",
              "       [-0.69322709,  0.17747078, -0.29411765, -0.91795107, -0.88671633,\n",
              "        -0.95448303, -0.88949186, -0.59159184,  1.        ],\n",
              "       [ 0.44820717, -0.95961743,  0.37254902, -0.8306628 , -0.80074488,\n",
              "        -0.89349477, -0.79575728, -0.5589716 ,  1.        ],\n",
              "       [ 0.29083665, -0.7088204 , -0.41176471, -0.87629076, -0.85909373,\n",
              "        -0.94315984, -0.84377569, -0.48705535, -1.        ],\n",
              "       [-0.40039841,  0.15834219, -0.49019608, -0.8418536 , -0.84574798,\n",
              "        -0.93413493, -0.82765992, -0.16468738, -0.33333333]])"
            ]
          },
          "metadata": {
            "tags": []
          },
          "execution_count": 4
        }
      ]
    },
    {
      "cell_type": "code",
      "metadata": {
        "id": "O41mpo0GMjCE",
        "colab": {
          "base_uri": "https://localhost:8080/",
          "height": 105
        },
        "outputId": "f38f6b20-08e5-4b22-bf14-20eaf1990880"
      },
      "source": [
        "t_train[:5]"
      ],
      "execution_count": null,
      "outputs": [
        {
          "output_type": "execute_result",
          "data": {
            "text/plain": [
              "array([[1., 0., 0.],\n",
              "       [0., 0., 1.],\n",
              "       [1., 0., 0.],\n",
              "       [0., 1., 0.],\n",
              "       [0., 0., 1.]])"
            ]
          },
          "metadata": {
            "tags": []
          },
          "execution_count": 5
        }
      ]
    },
    {
      "cell_type": "code",
      "metadata": {
        "id": "XgYl9Rf8MjCH",
        "colab": {
          "base_uri": "https://localhost:8080/",
          "height": 193
        },
        "outputId": "8b82bb7c-a6ac-415b-8e10-62c7279ed0cd"
      },
      "source": [
        "x_dev[:5]"
      ],
      "execution_count": null,
      "outputs": [
        {
          "output_type": "execute_result",
          "data": {
            "text/plain": [
              "array([[ 0.22908367, -0.67906482,  0.45098039, -0.83366397, -0.77343265,\n",
              "        -0.81524146, -0.76155238, -0.67868029, -1.        ],\n",
              "       [-0.61752988,  0.10308183,  1.        , -0.94201129, -0.93078833,\n",
              "        -0.97247681, -0.93257688, -0.37100178,  0.33333333],\n",
              "       [-0.39043825,  0.16046759, -0.88235294, -0.92929447, -0.90037244,\n",
              "        -0.90016536, -0.89870087, -0.74136908, -0.33333333],\n",
              "       [-0.24701195, -0.45377258, -0.33333333, -0.85156926, -0.82774674,\n",
              "        -0.94030102, -0.81877981, -0.58286093, -1.        ],\n",
              "       [ 0.22908367, -0.73645058, -0.25490196, -0.90589552, -0.82774674,\n",
              "        -0.90420135, -0.81746423, -0.86805699,  1.        ]])"
            ]
          },
          "metadata": {
            "tags": []
          },
          "execution_count": 6
        }
      ]
    },
    {
      "cell_type": "code",
      "metadata": {
        "id": "QbCADt5hMjCJ",
        "colab": {
          "base_uri": "https://localhost:8080/",
          "height": 105
        },
        "outputId": "a158f05c-7446-43f4-dc40-a2ef6cb96a7d"
      },
      "source": [
        "t_dev[:5]"
      ],
      "execution_count": null,
      "outputs": [
        {
          "output_type": "execute_result",
          "data": {
            "text/plain": [
              "array([[1., 0., 0.],\n",
              "       [0., 0., 1.],\n",
              "       [1., 0., 0.],\n",
              "       [0., 1., 0.],\n",
              "       [0., 1., 0.]])"
            ]
          },
          "metadata": {
            "tags": []
          },
          "execution_count": 7
        }
      ]
    },
    {
      "cell_type": "code",
      "metadata": {
        "id": "ZRUVFgshYqM1"
      },
      "source": [
        "x_train = tf.cast(x_train,tf.float32)\n",
        "t_train = tf.cast(t_train,tf.float32)\n",
        "x_dev = tf.cast(x_dev,tf.float32)\n",
        "t_dev = tf.cast(t_dev,tf.float32)"
      ],
      "execution_count": null,
      "outputs": []
    },
    {
      "cell_type": "markdown",
      "metadata": {
        "id": "3XhSvnFyMjCL"
      },
      "source": [
        "## 4. Set hyperparameters"
      ]
    },
    {
      "cell_type": "markdown",
      "metadata": {
        "id": "KW9wUHvpMjCL"
      },
      "source": [
        "We must adjust a new hiperparameter: the size of the mini-batch"
      ]
    },
    {
      "cell_type": "code",
      "metadata": {
        "id": "IEEK1FTCMjCM"
      },
      "source": [
        "n_iterations = 20000  # 20000 iteraciones / 80 = 250 epochs # AHORA NO SON EPOCAS SI NO Nº DE ITERACIONES\n",
        "learning_rate = 0.1\n",
        "batch_size = 200 # Tamaño del batch. En muchos sitios dicen que interesan tamaños de minibatch potencia de 2, por los ordenadores, pero no está demostrado, el profe no crea que sea real porque eso se multiplica por 9 en el flujo del propio ordenador"
      ],
      "execution_count": null,
      "outputs": []
    },
    {
      "cell_type": "markdown",
      "metadata": {
        "id": "vi3vWWsjMjCP"
      },
      "source": [
        "# 5. Build the neural model: logistic classifier"
      ]
    },
    {
      "cell_type": "code",
      "metadata": {
        "id": "MxI0hgUGMjCQ"
      },
      "source": [
        "W = tf.Variable (tf.random.uniform ([INPUTS,OUTPUTS],-1,1), name=\"W\")\n",
        "b = tf.Variable (tf.zeros([OUTPUTS]), name = \"bias\")"
      ],
      "execution_count": null,
      "outputs": []
    },
    {
      "cell_type": "markdown",
      "metadata": {
        "id": "Qr9r66rQMjCR"
      },
      "source": [
        "Compute the $logits$ (net), then the output with the $Softmax$ activation function:"
      ]
    },
    {
      "cell_type": "code",
      "metadata": {
        "id": "dSbPRutfMjCR"
      },
      "source": [
        "def predict (X):\n",
        "  return tf.nn.softmax (logits=net(X), name=\"y\")\n",
        "\n",
        "def net (X):\n",
        "  return tf.add (tf.matmul(X,W), b, name=\"net\")"
      ],
      "execution_count": null,
      "outputs": []
    },
    {
      "cell_type": "markdown",
      "metadata": {
        "id": "YYz0R40DMjCS"
      },
      "source": [
        "The *log-loss*, *cross-entropy* $\\mathcal{L}$ (the sun of log-loss is a loss) and and *cost* $J$ (the mean of cross-entropy) functions: $J(W) = \\frac{1}{m}\\sum_{p=1}^{m}\\mathcal{L}^{(p)}(y,t)$, where $\\mathcal{L}^{(p)}(y,t)=-\\sum_{i=1}^{n_y}t_i\\log (y_i).$"
      ]
    },
    {
      "cell_type": "code",
      "metadata": {
        "id": "4qoX6CiaMjCT"
      },
      "source": [
        "def mean_log_loss (n,t):\n",
        "  cross_entropy = tf.nn.softmax_cross_entropy_with_logits (labels=t, logits=n)\n",
        "  return tf.reduce_mean (cross_entropy, name=\"cost\")"
      ],
      "execution_count": null,
      "outputs": []
    },
    {
      "cell_type": "markdown",
      "metadata": {
        "id": "wh-YJ7TTMjCV"
      },
      "source": [
        "The training algorithm is the gradient descent method with the *softmax* function in the output neurons"
      ]
    },
    {
      "cell_type": "code",
      "metadata": {
        "id": "DpMcxJ-VMjCV"
      },
      "source": [
        "def training_op(x, t, alpha_lr):\n",
        "        #First the we compute the error \n",
        "        with tf.GradientTape(persistent=True) as g: #persistent=True so parameters can change more than once\n",
        "            error = mean_log_loss(net(x),t)\n",
        "\n",
        "        #Then, the partial derivative of the error function regarding the weights; i.e., the parameters W and b    \n",
        "        dE_dW = g.gradient(error, W)\n",
        "        dE_db = g.gradient(error, b)\n",
        "        \n",
        "        #Finally, we multiply the partial derivative by the learning rate and apply the increment \n",
        "        W.assign_sub(alpha_lr * dE_dW)\n",
        "        b.assign_sub(alpha_lr * dE_db)\n",
        "\n",
        "        return error"
      ],
      "execution_count": null,
      "outputs": []
    },
    {
      "cell_type": "markdown",
      "metadata": {
        "id": "doX4ObfGMjCW"
      },
      "source": [
        "Model evaluation: accuracy. The percentage of correctly classified instances."
      ]
    },
    {
      "cell_type": "code",
      "metadata": {
        "id": "ccR4dWcpMjCW"
      },
      "source": [
        "def correct_predictions (y,t):\n",
        "  return tf.equal(tf.argmax(y,1),tf.argmax(t,1))\n",
        "\n",
        "def accuracy (y,t):\n",
        "  return tf.reduce_mean(tf.cast(correct_predictions(y,t),tf.float32))"
      ],
      "execution_count": null,
      "outputs": []
    },
    {
      "cell_type": "markdown",
      "metadata": {
        "id": "0vCgdrLUMjCX"
      },
      "source": [
        "## 6. Execute the model M-BGD"
      ]
    },
    {
      "cell_type": "code",
      "metadata": {
        "id": "jC68AVZcMjCY",
        "colab": {
          "base_uri": "https://localhost:8080/",
          "height": 35
        },
        "outputId": "5ec26c31-f1de-44cd-e00b-efcf153fc342"
      },
      "source": [
        "# AQUÍ EJECUTAREMOS ITERACIONES EN VEZ DE EPOCAS\n",
        "accuracy_train_history = np.empty([n_iterations])\n",
        "error_train_history = np.empty([n_iterations])\n",
        "for iteration in tqdm(range(n_iterations)): # Ejecutamos ahora iteraciones \n",
        "  offset = (iteration * batch_size) % (NUM_TRAINING_EXAMPLES - batch_size) # Desplazamiento\n",
        "  error = training_op (x_train[offset:(offset+batch_size)], # Va batch a batch. # Cuando ejecutamos la derivada no le pasamos el training set entero\n",
        "                       t_train[offset:(offset+batch_size)], learning_rate) # Le damos el conjunto de tamaño batch de las entradas y las salidas deseadas\n",
        "  accuracy_train_history[iteration] = accuracy (predict(x_train[offset:(offset+batch_size)]), \n",
        "                                                        t_train[offset:(offset+batch_size)])\n",
        "  error_train_history[iteration] = error\n",
        "    \n",
        "# Tarda menos como se puede ver con resultados similares "
      ],
      "execution_count": null,
      "outputs": [
        {
          "output_type": "stream",
          "text": [
            "100%|██████████| 20000/20000 [01:07<00:00, 296.64it/s]\n"
          ],
          "name": "stderr"
        }
      ]
    },
    {
      "cell_type": "markdown",
      "metadata": {
        "id": "-z_Sm07rcaVW"
      },
      "source": [
        "## 7. Get the results"
      ]
    },
    {
      "cell_type": "code",
      "metadata": {
        "scrolled": true,
        "id": "NlTswgZSMjCe",
        "colab": {
          "base_uri": "https://localhost:8080/",
          "height": 312
        },
        "outputId": "c582e482-4bfd-4869-a7cf-88cb8be0a500"
      },
      "source": [
        "plt.title (\"Accuracy Evolution\")\n",
        "plt.xlabel (\"Iterations\")\n",
        "plt.ylabel (\"Accuracy\")\n",
        "plt.plot (range(n_iterations),accuracy_train_history)"
      ],
      "execution_count": null,
      "outputs": [
        {
          "output_type": "execute_result",
          "data": {
            "text/plain": [
              "[<matplotlib.lines.Line2D at 0x7fb13be42860>]"
            ]
          },
          "metadata": {
            "tags": []
          },
          "execution_count": 16
        },
        {
          "output_type": "display_data",
          "data": {
            "image/png": "[encoded data removed]",
            "text/plain": [
              "<Figure size 432x288 with 1 Axes>"
            ]
          },
          "metadata": {
            "tags": [],
            "needs_background": "light"
          }
        }
      ]
    },
    {
      "cell_type": "code",
      "metadata": {
        "id": "vACcQLpRdnFv",
        "colab": {
          "base_uri": "https://localhost:8080/",
          "height": 312
        },
        "outputId": "3787c0ee-4130-4466-d5af-a9cb1d450741"
      },
      "source": [
        "plt.title (\"Mean Log Loss Evolution\")\n",
        "plt.xlabel (\"Iterations\")\n",
        "plt.ylabel (\"Mean Log Loss\")\n",
        "plt.plot (range(n_iterations),error_train_history)"
      ],
      "execution_count": null,
      "outputs": [
        {
          "output_type": "execute_result",
          "data": {
            "text/plain": [
              "[<matplotlib.lines.Line2D at 0x7fb13be426d8>]"
            ]
          },
          "metadata": {
            "tags": []
          },
          "execution_count": 17
        },
        {
          "output_type": "display_data",
          "data": {
            "image/png": "[encoded data removed]",
            "text/plain": [
              "<Figure size 432x288 with 1 Axes>"
            ]
          },
          "metadata": {
            "tags": [],
            "needs_background": "light"
          }
        }
      ]
    },
    {
      "cell_type": "markdown",
      "metadata": {
        "id": "obZwDOLtMjCf"
      },
      "source": [
        "Note that $zig$-$zags$ are due to mini-batch $zig$-$zagging$ errors. "
      ]
    },
    {
      "cell_type": "code",
      "metadata": {
        "id": "59cf9fE_d4ZL",
        "colab": {
          "base_uri": "https://localhost:8080/",
          "height": 88
        },
        "outputId": "d566346f-2fec-4534-a18d-e8490fe4163d"
      },
      "source": [
        "final_accuracy_train = accuracy (predict(x_train),t_train)\n",
        "final_accuracy_dev = accuracy (predict(x_dev),t_dev)\n",
        "final_train_mean_log_loss = mean_log_loss(net(x_train),t_train)\n",
        "final_dev_mean_log_loss = mean_log_loss(net(x_dev),t_dev)\n",
        "\n",
        "print (\"Final Accuracy in training: \"+str(final_accuracy_train.numpy()))\n",
        "print (\"Final Accuracy for the development test set: \"+str(final_accuracy_dev.numpy()))\n",
        "print (\"Final training mean-log-loss in training: \"+str(final_train_mean_log_loss.numpy()))\n",
        "print (\"Final mean-log-loss for the development test set: \"+str(final_dev_mean_log_loss.numpy()))\n",
        "\n",
        "# Accuracy in training: 70% de entrenamiento \n",
        "# Y prácticamente lo mismo para desarrollo "
      ],
      "execution_count": null,
      "outputs": [
        {
          "output_type": "stream",
          "text": [
            "Final Accuracy in training: 0.7053604\n",
            "Final Accuracy for the development test set: 0.7072932\n",
            "Final training mean-log-loss in training: 0.6748947\n",
            "Final mean-log-loss for the development test set: 0.64899725\n"
          ],
          "name": "stdout"
        }
      ]
    },
    {
      "cell_type": "code",
      "metadata": {
        "id": "82FNJLJBehHJ",
        "colab": {
          "base_uri": "https://localhost:8080/",
          "height": 369
        },
        "outputId": "b9e9e5f9-ff7b-4a4b-f9b7-37fae8b5bc40"
      },
      "source": [
        "predictions = predict(x_dev)\n",
        "predictions[:20].numpy()"
      ],
      "execution_count": null,
      "outputs": [
        {
          "output_type": "execute_result",
          "data": {
            "text/plain": [
              "array([[3.0207905e-01, 5.6190413e-01, 1.3601682e-01],\n",
              "       [8.6614424e-03, 1.2306381e-01, 8.6827475e-01],\n",
              "       [8.3271819e-01, 1.6423462e-01, 3.0472637e-03],\n",
              "       [2.0944068e-02, 4.1464368e-01, 5.6441218e-01],\n",
              "       [7.9367739e-01, 1.9176538e-01, 1.4557227e-02],\n",
              "       [5.7144657e-02, 5.5280608e-01, 3.9004931e-01],\n",
              "       [1.6176239e-02, 4.0911016e-01, 5.7471359e-01],\n",
              "       [1.2768910e-03, 1.1019058e-01, 8.8853252e-01],\n",
              "       [4.1066109e-08, 5.4470939e-04, 9.9945527e-01],\n",
              "       [5.3554827e-01, 4.0779570e-01, 5.6656044e-02],\n",
              "       [1.7457981e-01, 6.5204924e-01, 1.7337099e-01],\n",
              "       [4.2981005e-01, 4.6780270e-01, 1.0238733e-01],\n",
              "       [4.8141798e-01, 4.3767595e-01, 8.0906048e-02],\n",
              "       [3.4934905e-01, 4.5605946e-01, 1.9459152e-01],\n",
              "       [9.9402535e-01, 5.9664333e-03, 8.1910475e-06],\n",
              "       [3.0294770e-02, 2.0089613e-01, 7.6880908e-01],\n",
              "       [8.2444239e-01, 1.6416708e-01, 1.1390484e-02],\n",
              "       [1.1641766e-03, 1.4465749e-01, 8.5417837e-01],\n",
              "       [1.2973650e-01, 5.8369094e-01, 2.8657249e-01],\n",
              "       [4.0255365e-04, 3.1027630e-02, 9.6856982e-01]], dtype=float32)"
            ]
          },
          "metadata": {
            "tags": []
          },
          "execution_count": 19
        }
      ]
    },
    {
      "cell_type": "code",
      "metadata": {
        "id": "TwwGH0wRMjCh",
        "colab": {
          "base_uri": "https://localhost:8080/",
          "height": 369
        },
        "outputId": "cd7c14b4-381f-40ef-e9c2-d77605d215e4"
      },
      "source": [
        "rounded_predictions=np.round(predictions)\n",
        "indices = np.argmax(predictions,1)\n",
        "for row, index in zip(rounded_predictions, indices): row[index]=1\n",
        "rounded_predictions[:20]"
      ],
      "execution_count": null,
      "outputs": [
        {
          "output_type": "execute_result",
          "data": {
            "text/plain": [
              "array([[0., 1., 0.],\n",
              "       [0., 0., 1.],\n",
              "       [1., 0., 0.],\n",
              "       [0., 0., 1.],\n",
              "       [1., 0., 0.],\n",
              "       [0., 1., 0.],\n",
              "       [0., 0., 1.],\n",
              "       [0., 0., 1.],\n",
              "       [0., 0., 1.],\n",
              "       [1., 0., 0.],\n",
              "       [0., 1., 0.],\n",
              "       [0., 1., 0.],\n",
              "       [1., 0., 0.],\n",
              "       [0., 1., 0.],\n",
              "       [1., 0., 0.],\n",
              "       [0., 0., 1.],\n",
              "       [1., 0., 0.],\n",
              "       [0., 0., 1.],\n",
              "       [0., 1., 0.],\n",
              "       [0., 0., 1.]], dtype=float32)"
            ]
          },
          "metadata": {
            "tags": []
          },
          "execution_count": 20
        }
      ]
    },
    {
      "cell_type": "code",
      "metadata": {
        "id": "T438DyydMjCi",
        "colab": {
          "base_uri": "https://localhost:8080/",
          "height": 369
        },
        "outputId": "ac6eea8f-c3fa-4bcc-a639-ced8710e6f8c"
      },
      "source": [
        "t_dev[:20].numpy()"
      ],
      "execution_count": null,
      "outputs": [
        {
          "output_type": "execute_result",
          "data": {
            "text/plain": [
              "array([[1., 0., 0.],\n",
              "       [0., 0., 1.],\n",
              "       [1., 0., 0.],\n",
              "       [0., 1., 0.],\n",
              "       [0., 1., 0.],\n",
              "       [0., 1., 0.],\n",
              "       [0., 0., 1.],\n",
              "       [0., 0., 1.],\n",
              "       [0., 0., 1.],\n",
              "       [0., 1., 0.],\n",
              "       [0., 1., 0.],\n",
              "       [0., 1., 0.],\n",
              "       [1., 0., 0.],\n",
              "       [0., 0., 1.],\n",
              "       [1., 0., 0.],\n",
              "       [0., 0., 1.],\n",
              "       [1., 0., 0.],\n",
              "       [0., 0., 1.],\n",
              "       [0., 1., 0.],\n",
              "       [0., 0., 1.]], dtype=float32)"
            ]
          },
          "metadata": {
            "tags": []
          },
          "execution_count": 21
        }
      ]
    },
    {
      "cell_type": "code",
      "metadata": {
        "id": "aVLM2RrgMjCk",
        "colab": {
          "base_uri": "https://localhost:8080/",
          "height": 70
        },
        "outputId": "900aa3b4-960d-49f4-e2b6-334b8be47db3"
      },
      "source": [
        "dev_predictions = correct_predictions(predict(x_dev),t_dev).numpy()\n",
        "dev_predictions[:20]"
      ],
      "execution_count": null,
      "outputs": [
        {
          "output_type": "execute_result",
          "data": {
            "text/plain": [
              "array([False,  True,  True, False, False,  True,  True,  True,  True,\n",
              "       False,  True,  True,  True, False,  True,  True,  True,  True,\n",
              "        True,  True])"
            ]
          },
          "metadata": {
            "tags": []
          },
          "execution_count": 22
        }
      ]
    },
    {
      "cell_type": "code",
      "metadata": {
        "id": "ZA_uAiwLIqyd",
        "colab": {
          "base_uri": "https://localhost:8080/",
          "height": 35
        },
        "outputId": "294b8d08-0f06-4d1d-9441-7889ae8d6b2a"
      },
      "source": [
        "from collections import Counter\n",
        "Counter(dev_predictions)\n",
        "# Vemos que hay 598 fallos y 1445 aciertos"
      ],
      "execution_count": null,
      "outputs": [
        {
          "output_type": "execute_result",
          "data": {
            "text/plain": [
              "Counter({False: 598, True: 1445})"
            ]
          },
          "metadata": {
            "tags": []
          },
          "execution_count": 23
        }
      ]
    },
    {
      "cell_type": "markdown",
      "metadata": {
        "id": "Psyz2POGMjCo"
      },
      "source": [
        "<b>MBGD employs less epochs than BGD to achieve similar results</b> for the same task. TPU runtime type has been employed.  \n",
        "\n",
        "\n",
        "Conclusión: El mini-batch gradient descendent emplea menos épocas y alcanza resultados similares para la misma tarea"
      ]
    }
  ]
}