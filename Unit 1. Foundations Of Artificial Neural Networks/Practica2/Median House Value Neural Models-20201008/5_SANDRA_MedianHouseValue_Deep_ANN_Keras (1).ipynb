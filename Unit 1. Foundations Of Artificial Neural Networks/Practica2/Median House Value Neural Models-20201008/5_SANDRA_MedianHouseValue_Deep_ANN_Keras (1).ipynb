{
 "cells": [
  {
   "cell_type": "markdown",
   "metadata": {
    "id": "x0uJW5xqqqlm"
   },
   "source": [
    "# Solving Median House Value classification problem with deep neural networks and tf.Keras"
   ]
  },
  {
   "cell_type": "markdown",
   "metadata": {
    "id": "rUtv2wc70nzi"
   },
   "source": [
    "## 1. Import libraries "
   ]
  },
  {
   "cell_type": "code",
   "execution_count": null,
   "metadata": {
    "colab": {
     "base_uri": "https://localhost:8080/",
     "height": 35
    },
    "id": "V4Dwpm86q2jO",
    "outputId": "b1baf4ff-a92a-443a-c4d3-55d800bdf834"
   },
   "outputs": [
    {
     "name": "stdout",
     "output_type": "stream",
     "text": [
      "Mounted at /gdrive\n"
     ]
    }
   ],
   "source": [
    "# Tensorflow and tf.keras\n",
    "import tensorflow as tf\n",
    "from tensorflow import keras\n",
    "\n",
    "#Helper libraries\n",
    "import numpy as np\n",
    "import pandas as pd\n",
    "import matplotlib.pyplot as plt\n",
    "from tqdm import tqdm\n",
    "\n",
    "# Google file system\n",
    "from google.colab import drive\n",
    "drive.mount('/gdrive', force_remount=True)"
   ]
  },
  {
   "cell_type": "markdown",
   "metadata": {
    "id": "DO_C0SJq0pai"
   },
   "source": [
    "## 2. Load data"
   ]
  },
  {
   "cell_type": "code",
   "execution_count": null,
   "metadata": {
    "colab": {
     "base_uri": "https://localhost:8080/",
     "height": 88
    },
    "id": "-SAQX4N2qqls",
    "outputId": "e1fcd511-8418-41d6-b745-979786db28d6"
   },
   "outputs": [
    {
     "name": "stdout",
     "output_type": "stream",
     "text": [
      "x_train: (16342, 9)\n",
      "t_train: (16342, 3)\n",
      "x_dev: (2043, 9)\n",
      "t_dev: (2043, 3)\n"
     ]
    }
   ],
   "source": [
    "ATT_FILE = \"/gdrive/My Drive/Colab Notebooks/datasets/Housing/MedianHouseValue/MedianHouseValuePreparedCleanAttributes.csv\"\n",
    "LABEL_FILE = \"/gdrive/My Drive/Colab Notebooks/datasets/Housing/MedianHouseValue/MedianHouseValueOneHotEncodedClasses.csv\"\n",
    "\n",
    "TRAIN_RATE=0.8\n",
    "\n",
    "attributes = pd.read_csv(ATT_FILE)\n",
    "label = pd.read_csv(LABEL_FILE)\n",
    "\n",
    "n_instances = attributes.shape[0]\n",
    "n_train = int(n_instances*TRAIN_RATE)\n",
    "n_dev = int((n_instances-n_train)/2)\n",
    "\n",
    "x_train = attributes.values[:n_train]\n",
    "t_train = label.values[:n_train]\n",
    "\n",
    "x_dev = attributes.values[n_train:n_train+n_dev]\n",
    "t_dev = label.values[n_train:n_train+n_dev]\n",
    "\n",
    "print (\"x_train:\",x_train.shape)\n",
    "print (\"t_train:\",t_train.shape)\n",
    "\n",
    "print (\"x_dev:\",x_dev.shape)\n",
    "print (\"t_dev:\",t_dev.shape)"
   ]
  },
  {
   "cell_type": "markdown",
   "metadata": {
    "id": "dawlzBekqql1"
   },
   "source": [
    "## 3. Initialize variables"
   ]
  },
  {
   "cell_type": "code",
   "execution_count": null,
   "metadata": {
    "id": "kdnGXfsNqql2"
   },
   "outputs": [],
   "source": [
    "INPUTS = x_train.shape[1]\n",
    "OUTPUTS = t_train.shape[1]\n",
    "NUM_TRAINING_EXAMPLES = int(round(x_train.shape[0]/1))\n",
    "NUM_DEV_EXAMPLES = int (round (x_dev.shape[0]/1))"
   ]
  },
  {
   "cell_type": "markdown",
   "metadata": {
    "id": "_Vg7Bfaqqql5"
   },
   "source": [
    "Some data is displayed to test correctness:"
   ]
  },
  {
   "cell_type": "code",
   "execution_count": null,
   "metadata": {
    "colab": {
     "base_uri": "https://localhost:8080/",
     "height": 193
    },
    "id": "7iy9Yc1mqqmE",
    "outputId": "e4718279-b7b7-4e48-9cf9-616d475b0e51"
   },
   "outputs": [
    {
     "data": {
      "text/plain": [
       "array([[ 0.21713147, -0.69394261,  0.41176471, -0.93926446, -0.88733706,\n",
       "        -0.90924634, -0.89278079, -0.77585137, -1.        ],\n",
       "       [-0.69322709,  0.17747078, -0.29411765, -0.91795107, -0.88671633,\n",
       "        -0.95448303, -0.88949186, -0.59159184,  1.        ],\n",
       "       [ 0.44820717, -0.95961743,  0.37254902, -0.8306628 , -0.80074488,\n",
       "        -0.89349477, -0.79575728, -0.5589716 ,  1.        ],\n",
       "       [ 0.29083665, -0.7088204 , -0.41176471, -0.87629076, -0.85909373,\n",
       "        -0.94315984, -0.84377569, -0.48705535, -1.        ],\n",
       "       [-0.40039841,  0.15834219, -0.49019608, -0.8418536 , -0.84574798,\n",
       "        -0.93413493, -0.82765992, -0.16468738, -0.33333333]])"
      ]
     },
     "execution_count": 4,
     "metadata": {
      "tags": []
     },
     "output_type": "execute_result"
    }
   ],
   "source": [
    "x_train[:5]"
   ]
  },
  {
   "cell_type": "code",
   "execution_count": null,
   "metadata": {
    "colab": {
     "base_uri": "https://localhost:8080/",
     "height": 193
    },
    "id": "DmdArrI0qqmG",
    "outputId": "19bb0299-1bb0-438b-e445-78920538963e"
   },
   "outputs": [
    {
     "data": {
      "text/plain": [
       "array([[1., 0., 0.],\n",
       "       [0., 0., 1.],\n",
       "       [1., 0., 0.],\n",
       "       [0., 1., 0.],\n",
       "       [0., 0., 1.],\n",
       "       [1., 0., 0.],\n",
       "       [1., 0., 0.],\n",
       "       [0., 0., 1.],\n",
       "       [0., 0., 1.],\n",
       "       [0., 0., 1.]])"
      ]
     },
     "execution_count": 5,
     "metadata": {
      "tags": []
     },
     "output_type": "execute_result"
    }
   ],
   "source": [
    "t_train[:10]"
   ]
  },
  {
   "cell_type": "code",
   "execution_count": null,
   "metadata": {
    "colab": {
     "base_uri": "https://localhost:8080/",
     "height": 193
    },
    "id": "dJEJkVdpqqmH",
    "outputId": "c8398967-40be-4ccf-aec8-5c3a16fa59a5"
   },
   "outputs": [
    {
     "data": {
      "text/plain": [
       "array([[ 0.22908367, -0.67906482,  0.45098039, -0.83366397, -0.77343265,\n",
       "        -0.81524146, -0.76155238, -0.67868029, -1.        ],\n",
       "       [-0.61752988,  0.10308183,  1.        , -0.94201129, -0.93078833,\n",
       "        -0.97247681, -0.93257688, -0.37100178,  0.33333333],\n",
       "       [-0.39043825,  0.16046759, -0.88235294, -0.92929447, -0.90037244,\n",
       "        -0.90016536, -0.89870087, -0.74136908, -0.33333333],\n",
       "       [-0.24701195, -0.45377258, -0.33333333, -0.85156926, -0.82774674,\n",
       "        -0.94030102, -0.81877981, -0.58286093, -1.        ],\n",
       "       [ 0.22908367, -0.73645058, -0.25490196, -0.90589552, -0.82774674,\n",
       "        -0.90420135, -0.81746423, -0.86805699,  1.        ]])"
      ]
     },
     "execution_count": 6,
     "metadata": {
      "tags": []
     },
     "output_type": "execute_result"
    }
   ],
   "source": [
    "x_dev[:5]"
   ]
  },
  {
   "cell_type": "code",
   "execution_count": null,
   "metadata": {
    "colab": {
     "base_uri": "https://localhost:8080/",
     "height": 105
    },
    "id": "DTfWBp2aqqmJ",
    "outputId": "ccc75de6-b6af-43ed-81f7-0c56c7b901a4"
   },
   "outputs": [
    {
     "data": {
      "text/plain": [
       "array([[1., 0., 0.],\n",
       "       [0., 0., 1.],\n",
       "       [1., 0., 0.],\n",
       "       [0., 1., 0.],\n",
       "       [0., 1., 0.]])"
      ]
     },
     "execution_count": 7,
     "metadata": {
      "tags": []
     },
     "output_type": "execute_result"
    }
   ],
   "source": [
    "t_dev[:5]"
   ]
  },
  {
   "cell_type": "markdown",
   "metadata": {
    "id": "zzdGAahIqqmL"
   },
   "source": [
    "## 4. Set hyperparameters"
   ]
  },
  {
   "cell_type": "code",
   "execution_count": null,
   "metadata": {
    "id": "9llGmGvkqqmM"
   },
   "outputs": [],
   "source": [
    "n_epochs = 1000 # En la transpa pone 500 pero bueno, da igual \n",
    "learning_rate = 0.1\n",
    "batch_size = 500\n",
    "n_neurons_per_hlayer = [500, 250, 75, 25] # nº de neuronas por capa, 4 capas ocultas"
   ]
  },
  {
   "cell_type": "markdown",
   "metadata": {
    "id": "Dl-AsL42qqmN"
   },
   "source": [
    "## 5. Build the model: a 9-500-250-75-25-3 full-connected deep neural network architecture"
   ]
  },
  {
   "cell_type": "markdown",
   "metadata": {
    "id": "ekeUf4K3H8TQ"
   },
   "source": [
    "First, the topology: sequential."
   ]
  },
  {
   "cell_type": "code",
   "execution_count": null,
   "metadata": {
    "id": "qOVJ3QSyImxj"
   },
   "outputs": [],
   "source": [
    "model = keras.Sequential(name=\"DeepFeedforward\")"
   ]
  },
  {
   "cell_type": "markdown",
   "metadata": {
    "id": "_YoyNRtuLubc"
   },
   "source": [
    "Define the deep neural network topology. The **ReLU** activation function is chosen for the hidden layers and **softmax** for the output layer. \n",
    "\n",
    "Adding layers to the model. First, the model takes as input arrays with *INPUTS* columns. *InputLayer* creates a placeholder where the data is ready to feed the network. Then, the hidden layers with 500, 250, 75, and 25 neurons and the *ReLU* activation function are created. Finally, the output layer with the *softmax* activation function is appended. "
   ]
  },
  {
   "cell_type": "code",
   "execution_count": null,
   "metadata": {
    "colab": {
     "base_uri": "https://localhost:8080/",
     "height": 334
    },
    "id": "_HC6q86_IzO7",
    "outputId": "eb63cf8f-9080-4e37-e54d-c2e99e7c6877"
   },
   "outputs": [
    {
     "name": "stdout",
     "output_type": "stream",
     "text": [
      "Model: \"DeepFeedforward\"\n",
      "_________________________________________________________________\n",
      "Layer (type)                 Output Shape              Param #   \n",
      "=================================================================\n",
      "dense (Dense)                (None, 500)               5000      \n",
      "_________________________________________________________________\n",
      "dense_1 (Dense)              (None, 250)               125250    \n",
      "_________________________________________________________________\n",
      "dense_2 (Dense)              (None, 75)                18825     \n",
      "_________________________________________________________________\n",
      "dense_3 (Dense)              (None, 25)                1900      \n",
      "_________________________________________________________________\n",
      "dense_4 (Dense)              (None, 3)                 78        \n",
      "=================================================================\n",
      "Total params: 151,053\n",
      "Trainable params: 151,053\n",
      "Non-trainable params: 0\n",
      "_________________________________________________________________\n"
     ]
    }
   ],
   "source": [
    "model.add(keras.layers.InputLayer(input_shape=(INPUTS,), batch_size=None))\n",
    "\n",
    "for neurons in n_neurons_per_hlayer:\n",
    "  model.add(keras.layers.Dense(neurons, activation=\"relu\"))\n",
    "\n",
    "model.add(keras.layers.Dense(OUTPUTS, activation=\"softmax\"))\n",
    "model.summary()"
   ]
  },
  {
   "cell_type": "markdown",
   "metadata": {
    "id": "UHB1vBGXRmRe"
   },
   "source": [
    "For example, the last layer's kernel comprises 78 parameters to adjust: 25 neurons in the previous layer by 3 neurons in the output layer plus the 3 biases, one for each output neuron. "
   ]
  },
  {
   "cell_type": "code",
   "execution_count": null,
   "metadata": {
    "colab": {
     "base_uri": "https://localhost:8080/",
     "height": 105
    },
    "id": "yf9kooY8RLmO",
    "outputId": "ca4b293d-56e3-4f54-f8b4-e72c129666d1"
   },
   "outputs": [
    {
     "data": {
      "text/plain": [
       "[<tensorflow.python.keras.layers.core.Dense at 0x7fcaff158588>,\n",
       " <tensorflow.python.keras.layers.core.Dense at 0x7fcaff158b38>,\n",
       " <tensorflow.python.keras.layers.core.Dense at 0x7fcaff158e10>,\n",
       " <tensorflow.python.keras.layers.core.Dense at 0x7fcaf00b29b0>,\n",
       " <tensorflow.python.keras.layers.core.Dense at 0x7fcaf00bb518>]"
      ]
     },
     "execution_count": 11,
     "metadata": {
      "tags": []
     },
     "output_type": "execute_result"
    }
   ],
   "source": [
    "model.layers"
   ]
  },
  {
   "cell_type": "code",
   "execution_count": null,
   "metadata": {
    "colab": {
     "base_uri": "https://localhost:8080/",
     "height": 105
    },
    "id": "md6YxH5iRTPj",
    "outputId": "302394d9-d0c8-4ea6-b674-07050a8d694e"
   },
   "outputs": [
    {
     "name": "stdout",
     "output_type": "stream",
     "text": [
      "dense\n",
      "dense_1\n",
      "dense_2\n",
      "dense_3\n",
      "dense_4\n"
     ]
    }
   ],
   "source": [
    "for l in model.layers: print (l.name)"
   ]
  },
  {
   "cell_type": "markdown",
   "metadata": {
    "id": "U0gULZpfScnW"
   },
   "source": [
    "All the parameters of a layer can bee accessed:"
   ]
  },
  {
   "cell_type": "code",
   "execution_count": null,
   "metadata": {
    "colab": {
     "base_uri": "https://localhost:8080/",
     "height": 35
    },
    "id": "LzorJMMJSg1d",
    "outputId": "b72a43e7-63c9-4646-8126-60df20fbbaf9"
   },
   "outputs": [
    {
     "data": {
      "text/plain": [
       "(9, 500)"
      ]
     },
     "execution_count": 13,
     "metadata": {
      "tags": []
     },
     "output_type": "execute_result"
    }
   ],
   "source": [
    "weights, biases = model.layers[0].get_weights()\n",
    "weights.shape"
   ]
  },
  {
   "cell_type": "code",
   "execution_count": null,
   "metadata": {
    "colab": {
     "base_uri": "https://localhost:8080/",
     "height": 545
    },
    "id": "nG-cVDSiTHJl",
    "outputId": "93d7764f-8460-4168-effd-0abc477aa9fd"
   },
   "outputs": [
    {
     "data": {
      "text/plain": [
       "array([0., 0., 0., 0., 0., 0., 0., 0., 0., 0., 0., 0., 0., 0., 0., 0., 0.,\n",
       "       0., 0., 0., 0., 0., 0., 0., 0., 0., 0., 0., 0., 0., 0., 0., 0., 0.,\n",
       "       0., 0., 0., 0., 0., 0., 0., 0., 0., 0., 0., 0., 0., 0., 0., 0., 0.,\n",
       "       0., 0., 0., 0., 0., 0., 0., 0., 0., 0., 0., 0., 0., 0., 0., 0., 0.,\n",
       "       0., 0., 0., 0., 0., 0., 0., 0., 0., 0., 0., 0., 0., 0., 0., 0., 0.,\n",
       "       0., 0., 0., 0., 0., 0., 0., 0., 0., 0., 0., 0., 0., 0., 0., 0., 0.,\n",
       "       0., 0., 0., 0., 0., 0., 0., 0., 0., 0., 0., 0., 0., 0., 0., 0., 0.,\n",
       "       0., 0., 0., 0., 0., 0., 0., 0., 0., 0., 0., 0., 0., 0., 0., 0., 0.,\n",
       "       0., 0., 0., 0., 0., 0., 0., 0., 0., 0., 0., 0., 0., 0., 0., 0., 0.,\n",
       "       0., 0., 0., 0., 0., 0., 0., 0., 0., 0., 0., 0., 0., 0., 0., 0., 0.,\n",
       "       0., 0., 0., 0., 0., 0., 0., 0., 0., 0., 0., 0., 0., 0., 0., 0., 0.,\n",
       "       0., 0., 0., 0., 0., 0., 0., 0., 0., 0., 0., 0., 0., 0., 0., 0., 0.,\n",
       "       0., 0., 0., 0., 0., 0., 0., 0., 0., 0., 0., 0., 0., 0., 0., 0., 0.,\n",
       "       0., 0., 0., 0., 0., 0., 0., 0., 0., 0., 0., 0., 0., 0., 0., 0., 0.,\n",
       "       0., 0., 0., 0., 0., 0., 0., 0., 0., 0., 0., 0., 0., 0., 0., 0., 0.,\n",
       "       0., 0., 0., 0., 0., 0., 0., 0., 0., 0., 0., 0., 0., 0., 0., 0., 0.,\n",
       "       0., 0., 0., 0., 0., 0., 0., 0., 0., 0., 0., 0., 0., 0., 0., 0., 0.,\n",
       "       0., 0., 0., 0., 0., 0., 0., 0., 0., 0., 0., 0., 0., 0., 0., 0., 0.,\n",
       "       0., 0., 0., 0., 0., 0., 0., 0., 0., 0., 0., 0., 0., 0., 0., 0., 0.,\n",
       "       0., 0., 0., 0., 0., 0., 0., 0., 0., 0., 0., 0., 0., 0., 0., 0., 0.,\n",
       "       0., 0., 0., 0., 0., 0., 0., 0., 0., 0., 0., 0., 0., 0., 0., 0., 0.,\n",
       "       0., 0., 0., 0., 0., 0., 0., 0., 0., 0., 0., 0., 0., 0., 0., 0., 0.,\n",
       "       0., 0., 0., 0., 0., 0., 0., 0., 0., 0., 0., 0., 0., 0., 0., 0., 0.,\n",
       "       0., 0., 0., 0., 0., 0., 0., 0., 0., 0., 0., 0., 0., 0., 0., 0., 0.,\n",
       "       0., 0., 0., 0., 0., 0., 0., 0., 0., 0., 0., 0., 0., 0., 0., 0., 0.,\n",
       "       0., 0., 0., 0., 0., 0., 0., 0., 0., 0., 0., 0., 0., 0., 0., 0., 0.,\n",
       "       0., 0., 0., 0., 0., 0., 0., 0., 0., 0., 0., 0., 0., 0., 0., 0., 0.,\n",
       "       0., 0., 0., 0., 0., 0., 0., 0., 0., 0., 0., 0., 0., 0., 0., 0., 0.,\n",
       "       0., 0., 0., 0., 0., 0., 0., 0., 0., 0., 0., 0., 0., 0., 0., 0., 0.,\n",
       "       0., 0., 0., 0., 0., 0., 0.], dtype=float32)"
      ]
     },
     "execution_count": 14,
     "metadata": {
      "tags": []
     },
     "output_type": "execute_result"
    }
   ],
   "source": [
    "biases # Bias de la primera capa: 500 bias inicializados a 0 "
   ]
  },
  {
   "cell_type": "code",
   "execution_count": null,
   "metadata": {
    "colab": {
     "base_uri": "https://localhost:8080/",
     "height": 35
    },
    "id": "7gu0SkqLTP6l",
    "outputId": "5bc2231f-38eb-4428-96f3-e34c966c3417"
   },
   "outputs": [
    {
     "data": {
      "text/plain": [
       "(500,)"
      ]
     },
     "execution_count": 15,
     "metadata": {
      "tags": []
     },
     "output_type": "execute_result"
    }
   ],
   "source": [
    "biases.shape"
   ]
  },
  {
   "cell_type": "markdown",
   "metadata": {
    "id": "zeHjWFsrTg1j"
   },
   "source": [
    "## 6. Compile the model"
   ]
  },
  {
   "cell_type": "markdown",
   "metadata": {
    "id": "b2nH4ki3TlqB"
   },
   "source": [
    "Compiling the model means specifying the *loss* function (the $log-loss$,  $cross-entropy$, the sum of log-loss is a loss) and the *optimizer* (Gradient Descent) to use. Optionally, you can also set a list of additional *metrics* (Accuracy) to compute during training and evaluation. "
   ]
  },
  {
   "cell_type": "code",
   "execution_count": null,
   "metadata": {
    "id": "XisSOCL1UDh8"
   },
   "outputs": [],
   "source": [
    "model.compile(loss=tf.keras.losses.categorical_crossentropy,\n",
    "              optimizer=tf.keras.optimizers.SGD(lr=learning_rate),\n",
    "              metrics=[\"categorical_accuracy\"])"
   ]
  },
  {
   "cell_type": "markdown",
   "metadata": {
    "id": "aeM5hW8qUXgC"
   },
   "source": [
    "There are several loss functions, optimizers, and metrics. Full lists are available at: https://keras.io/losses/, https://keras.io/optimizers/ and https://keras.io/metrics/.\n"
   ]
  },
  {
   "cell_type": "markdown",
   "metadata": {
    "id": "oQZsDnk8bCa8"
   },
   "source": [
    "## 7. Train the model with M-BGD"
   ]
  },
  {
   "cell_type": "markdown",
   "metadata": {
    "id": "Qxora106dX1a"
   },
   "source": [
    "Note that an **epoch** is an iteration over the entire training dataset."
   ]
  },
  {
   "cell_type": "code",
   "execution_count": null,
   "metadata": {
    "colab": {
     "base_uri": "https://localhost:8080/",
     "height": 35
    },
    "id": "7xiouC6pbG0m",
    "outputId": "c71a7de6-588b-4553-aef7-5bcbb30948cc"
   },
   "outputs": [
    {
     "name": "stdout",
     "output_type": "stream",
     "text": [
      "92.825377\n"
     ]
    }
   ],
   "source": [
    "import time\n",
    "start = time.clock()\n",
    "history = model.fit(x_train, t_train, batch_size=batch_size, epochs=n_epochs, verbose=0, validation_data=(x_dev, t_dev))    \n",
    "print (time.clock() - start)"
   ]
  },
  {
   "cell_type": "markdown",
   "metadata": {
    "id": "3PAP6f8o1rBc"
   },
   "source": [
    "## 8. Get the results"
   ]
  },
  {
   "cell_type": "code",
   "execution_count": null,
   "metadata": {
    "colab": {
     "base_uri": "https://localhost:8080/",
     "height": 338
    },
    "id": "ei8jQFBcgqQ1",
    "outputId": "a6a6f704-ce8e-4f2b-c955-7d339c548d91"
   },
   "outputs": [
    {
     "data": {
      "image/png": "[encoded data removed]",
      "text/plain": [
       "<Figure size 576x360 with 1 Axes>"
      ]
     },
     "metadata": {
      "needs_background": "light",
      "tags": []
     },
     "output_type": "display_data"
    }
   ],
   "source": [
    "results=pd.DataFrame(history.history)\n",
    "results.plot(figsize=(8, 5))\n",
    "plt.grid(True)\n",
    "plt.xlabel (\"Epochs\")\n",
    "plt.ylabel (\"Accuracy - Mean Log Loss\")\n",
    "plt.gca().set_ylim(0, 1) # set the vertical range to [0-1]\n",
    "plt.show()\n",
    "\n",
    "# Habría que pararlo en 500, sino se sobreentrena\n",
    "# Hay sobreentrenamiento tanto en error como en accuracy"
   ]
  },
  {
   "cell_type": "code",
   "execution_count": null,
   "metadata": {
    "colab": {
     "base_uri": "https://localhost:8080/",
     "height": 35
    },
    "id": "UV5Pfxp8hAWZ",
    "outputId": "60392285-7b1b-4b18-a654-7aab329db04d"
   },
   "outputs": [
    {
     "data": {
      "text/plain": [
       "{'epochs': 1000, 'steps': 33, 'verbose': 0}"
      ]
     },
     "execution_count": 19,
     "metadata": {
      "tags": []
     },
     "output_type": "execute_result"
    }
   ],
   "source": [
    "history.params"
   ]
  },
  {
   "cell_type": "code",
   "execution_count": null,
   "metadata": {
    "colab": {
     "base_uri": "https://localhost:8080/",
     "height": 81
    },
    "id": "roAiIXx2h7Gw",
    "outputId": "bf225f05-eb9d-4a2f-b905-a52c8b49ab77"
   },
   "outputs": [
    {
     "data": {
      "text/html": [
       "<div>\n",
       "<style scoped>\n",
       "    .dataframe tbody tr th:only-of-type {\n",
       "        vertical-align: middle;\n",
       "    }\n",
       "\n",
       "    .dataframe tbody tr th {\n",
       "        vertical-align: top;\n",
       "    }\n",
       "\n",
       "    .dataframe thead th {\n",
       "        text-align: right;\n",
       "    }\n",
       "</style>\n",
       "<table border=\"1\" class=\"dataframe\">\n",
       "  <thead>\n",
       "    <tr style=\"text-align: right;\">\n",
       "      <th></th>\n",
       "      <th>loss</th>\n",
       "      <th>categorical_accuracy</th>\n",
       "      <th>val_loss</th>\n",
       "      <th>val_categorical_accuracy</th>\n",
       "    </tr>\n",
       "  </thead>\n",
       "  <tbody>\n",
       "    <tr>\n",
       "      <th>999</th>\n",
       "      <td>0.382891</td>\n",
       "      <td>0.830865</td>\n",
       "      <td>0.560751</td>\n",
       "      <td>0.773372</td>\n",
       "    </tr>\n",
       "  </tbody>\n",
       "</table>\n",
       "</div>"
      ],
      "text/plain": [
       "         loss  categorical_accuracy  val_loss  val_categorical_accuracy\n",
       "999  0.382891              0.830865  0.560751                  0.773372"
      ]
     },
     "execution_count": 20,
     "metadata": {
      "tags": []
     },
     "output_type": "execute_result"
    }
   ],
   "source": [
    "results[-1:] # Accuracy de 83% contra 77%"
   ]
  },
  {
   "cell_type": "code",
   "execution_count": null,
   "metadata": {
    "colab": {
     "base_uri": "https://localhost:8080/",
     "height": 35
    },
    "id": "PWFtUYNKqqmX",
    "outputId": "898c9531-f45a-4512-a47c-d570762e9ddc"
   },
   "outputs": [
    {
     "name": "stdout",
     "output_type": "stream",
     "text": [
      "Accuracy for the training set:  0.8308652639389038\n"
     ]
    }
   ],
   "source": [
    "print (\"Accuracy for the training set: \", results.categorical_accuracy.values[-1:][0])"
   ]
  },
  {
   "cell_type": "code",
   "execution_count": null,
   "metadata": {
    "colab": {
     "base_uri": "https://localhost:8080/",
     "height": 35
    },
    "id": "yP53JgeQqqma",
    "outputId": "0579f259-9d40-424e-a97d-14d7eaeb8104",
    "scrolled": true
   },
   "outputs": [
    {
     "name": "stdout",
     "output_type": "stream",
     "text": [
      "Accuracy for the development test set:  0.77337247133255\n"
     ]
    }
   ],
   "source": [
    "print (\"Accuracy for the development test set: \", results.val_categorical_accuracy.values[-1:][0])"
   ]
  },
  {
   "cell_type": "markdown",
   "metadata": {
    "id": "2wtSZeG6fH_V"
   },
   "source": [
    "Now the accuracy is 83% on training and 77% on the development test set "
   ]
  },
  {
   "cell_type": "markdown",
   "metadata": {
    "id": "H5X5iQSKfTOY"
   },
   "source": [
    "Let's see how the model predicts using the development test set:"
   ]
  },
  {
   "cell_type": "code",
   "execution_count": null,
   "metadata": {
    "colab": {
     "base_uri": "https://localhost:8080/",
     "height": 369
    },
    "id": "t3gUC7-vfgL8",
    "outputId": "4ffdc827-fcf1-4964-a378-692ee2187051"
   },
   "outputs": [
    {
     "data": {
      "text/plain": [
       "array([[0.02, 0.98, 0.  ],\n",
       "       [0.  , 0.  , 1.  ],\n",
       "       [0.86, 0.1 , 0.04],\n",
       "       [0.02, 0.8 , 0.18],\n",
       "       [0.09, 0.89, 0.02],\n",
       "       [0.  , 0.37, 0.62],\n",
       "       [0.  , 0.09, 0.91],\n",
       "       [0.  , 0.  , 1.  ],\n",
       "       [0.  , 0.  , 1.  ],\n",
       "       [0.59, 0.4 , 0.01],\n",
       "       [0.07, 0.92, 0.01],\n",
       "       [0.15, 0.78, 0.07],\n",
       "       [0.75, 0.13, 0.12],\n",
       "       [0.  , 0.61, 0.38],\n",
       "       [1.  , 0.  , 0.  ],\n",
       "       [0.  , 0.03, 0.97],\n",
       "       [1.  , 0.  , 0.  ],\n",
       "       [0.  , 0.  , 1.  ],\n",
       "       [0.  , 0.95, 0.05],\n",
       "       [0.01, 0.01, 0.99]], dtype=float32)"
      ]
     },
     "execution_count": 23,
     "metadata": {
      "tags": []
     },
     "output_type": "execute_result"
    }
   ],
   "source": [
    "dev_predictions=model.predict(x_dev).round(2)\n",
    "dev_predictions[:20]"
   ]
  },
  {
   "cell_type": "code",
   "execution_count": null,
   "metadata": {
    "colab": {
     "base_uri": "https://localhost:8080/",
     "height": 369
    },
    "id": "JGueKhZHqqmd",
    "outputId": "e44f0996-de1a-4a50-95c3-b693a46d77db"
   },
   "outputs": [
    {
     "data": {
      "text/plain": [
       "array([[0., 1., 0.],\n",
       "       [0., 0., 1.],\n",
       "       [1., 0., 0.],\n",
       "       [0., 1., 0.],\n",
       "       [0., 1., 0.],\n",
       "       [0., 0., 1.],\n",
       "       [0., 0., 1.],\n",
       "       [0., 0., 1.],\n",
       "       [0., 0., 1.],\n",
       "       [1., 0., 0.],\n",
       "       [0., 1., 0.],\n",
       "       [0., 1., 0.],\n",
       "       [1., 0., 0.],\n",
       "       [0., 1., 0.],\n",
       "       [1., 0., 0.],\n",
       "       [0., 0., 1.],\n",
       "       [1., 0., 0.],\n",
       "       [0., 0., 1.],\n",
       "       [0., 1., 0.],\n",
       "       [0., 0., 1.]], dtype=float32)"
      ]
     },
     "execution_count": 24,
     "metadata": {
      "tags": []
     },
     "output_type": "execute_result"
    }
   ],
   "source": [
    "dev_rounded_predictions=np.round(dev_predictions)\n",
    "indices = np.argmax(dev_predictions,1)\n",
    "for row, index in zip(dev_rounded_predictions, indices): row[index]=1\n",
    "dev_rounded_predictions[:20]"
   ]
  },
  {
   "cell_type": "code",
   "execution_count": null,
   "metadata": {
    "colab": {
     "base_uri": "https://localhost:8080/",
     "height": 369
    },
    "id": "vWmB9Pc-qqme",
    "outputId": "24c9b5f2-a866-4e6e-a57b-da66b421e7ad"
   },
   "outputs": [
    {
     "data": {
      "text/plain": [
       "array([[1., 0., 0.],\n",
       "       [0., 0., 1.],\n",
       "       [1., 0., 0.],\n",
       "       [0., 1., 0.],\n",
       "       [0., 1., 0.],\n",
       "       [0., 1., 0.],\n",
       "       [0., 0., 1.],\n",
       "       [0., 0., 1.],\n",
       "       [0., 0., 1.],\n",
       "       [0., 1., 0.],\n",
       "       [0., 1., 0.],\n",
       "       [0., 1., 0.],\n",
       "       [1., 0., 0.],\n",
       "       [0., 0., 1.],\n",
       "       [1., 0., 0.],\n",
       "       [0., 0., 1.],\n",
       "       [1., 0., 0.],\n",
       "       [0., 0., 1.],\n",
       "       [0., 1., 0.],\n",
       "       [0., 0., 1.]])"
      ]
     },
     "execution_count": 25,
     "metadata": {
      "tags": []
     },
     "output_type": "execute_result"
    }
   ],
   "source": [
    "t_dev[:20] #target classes"
   ]
  },
  {
   "cell_type": "code",
   "execution_count": null,
   "metadata": {
    "colab": {
     "base_uri": "https://localhost:8080/",
     "height": 70
    },
    "id": "efzEzJ5tqqmf",
    "outputId": "c11c5e8a-3c4f-4c3d-d2b1-75e4bce23868"
   },
   "outputs": [
    {
     "name": "stdout",
     "output_type": "stream",
     "text": [
      "[False  True  True  True  True False  True  True  True False  True  True\n",
      "  True False  True  True  True  True  True  True  True  True  True  True\n",
      "  True  True  True  True  True  True]\n"
     ]
    }
   ],
   "source": [
    "dev_correct_predictions = np.equal(np.argmax(dev_rounded_predictions,1),np.argmax(t_dev,1))\n",
    "print (dev_correct_predictions[:30])"
   ]
  },
  {
   "cell_type": "code",
   "execution_count": null,
   "metadata": {
    "colab": {
     "base_uri": "https://localhost:8080/",
     "height": 35
    },
    "id": "w9vjCo41Zn_e",
    "outputId": "5bad4589-f71b-4f95-b55d-8d34bfc7a928"
   },
   "outputs": [
    {
     "data": {
      "text/plain": [
       "Counter({False: 461, True: 1582})"
      ]
     },
     "execution_count": 27,
     "metadata": {
      "tags": []
     },
     "output_type": "execute_result"
    }
   ],
   "source": [
    "from collections import Counter\n",
    "Counter (dev_correct_predictions)"
   ]
  },
  {
   "cell_type": "markdown",
   "metadata": {
    "id": "ndJZiR4KPoOY"
   },
   "source": [
    "## 8. Final Test"
   ]
  },
  {
   "cell_type": "markdown",
   "metadata": {
    "id": "bWF5P5ojajvy"
   },
   "source": [
    "### 8.1 Load the final test set"
   ]
  },
  {
   "cell_type": "code",
   "execution_count": null,
   "metadata": {
    "colab": {
     "base_uri": "https://localhost:8080/",
     "height": 52
    },
    "id": "GLANwPojPpvm",
    "outputId": "420aad8a-5533-42da-8c53-c2b6fea4c518"
   },
   "outputs": [
    {
     "name": "stdout",
     "output_type": "stream",
     "text": [
      "x_test: (2043, 9)\n",
      "t_test: (2043, 3)\n"
     ]
    }
   ],
   "source": [
    "n_final_test = n_instances-n_train-n_dev\n",
    "\n",
    "x_final_test = attributes.values[n_train+n_dev:n_instances]\n",
    "t_final_test = label.values[n_train+n_dev:n_instances]\n",
    "\n",
    "print (\"x_test:\",x_final_test.shape)\n",
    "print (\"t_test:\",t_final_test.shape)"
   ]
  },
  {
   "cell_type": "markdown",
   "metadata": {
    "id": "OrAI-lpxatiy"
   },
   "source": [
    "### 8.2 Evaluate the model"
   ]
  },
  {
   "cell_type": "code",
   "execution_count": null,
   "metadata": {
    "colab": {
     "base_uri": "https://localhost:8080/",
     "height": 52
    },
    "id": "mj5U-CQ1Qo6d",
    "outputId": "8fb5d74b-5451-4a8f-b2c0-67e82b53e482"
   },
   "outputs": [
    {
     "name": "stdout",
     "output_type": "stream",
     "text": [
      "64/64 [==============================] - 0s 2ms/step - loss: 0.5591 - categorical_accuracy: 0.7675\n"
     ]
    },
    {
     "data": {
      "text/plain": [
       "[0.5591034293174744, 0.767498791217804]"
      ]
     },
     "execution_count": 29,
     "metadata": {
      "tags": []
     },
     "output_type": "execute_result"
    }
   ],
   "source": [
    "model.evaluate(x_final_test, t_final_test) # Un 77 es un accuracy bajo "
   ]
  },
  {
   "cell_type": "markdown",
   "metadata": {
    "id": "jDMPjYTlfBpt"
   },
   "source": [
    "77% accuracy on the final test set"
   ]
  },
  {
   "cell_type": "markdown",
   "metadata": {
    "id": "KEYMVO4xclnW"
   },
   "source": [
    "The outputs computed by the neural network for the final testing dataset. "
   ]
  },
  {
   "cell_type": "code",
   "execution_count": null,
   "metadata": {
    "colab": {
     "base_uri": "https://localhost:8080/",
     "height": 369
    },
    "id": "Aa10Bcn9RhFk",
    "outputId": "29d4e0bd-7dfd-4f29-fdfa-8c84316dff1e"
   },
   "outputs": [
    {
     "data": {
      "text/plain": [
       "array([[0., 0., 1.],\n",
       "       [0., 0., 1.],\n",
       "       [1., 0., 0.],\n",
       "       [1., 0., 0.],\n",
       "       [0., 1., 0.],\n",
       "       [1., 0., 0.],\n",
       "       [0., 0., 1.],\n",
       "       [0., 0., 1.],\n",
       "       [0., 0., 1.],\n",
       "       [1., 0., 0.],\n",
       "       [0., 0., 1.],\n",
       "       [1., 0., 0.],\n",
       "       [0., 0., 1.],\n",
       "       [0., 1., 0.],\n",
       "       [0., 0., 1.],\n",
       "       [1., 0., 0.],\n",
       "       [0., 0., 1.],\n",
       "       [0., 1., 0.],\n",
       "       [1., 0., 0.],\n",
       "       [1., 0., 0.]], dtype=float32)"
      ]
     },
     "execution_count": 30,
     "metadata": {
      "tags": []
     },
     "output_type": "execute_result"
    }
   ],
   "source": [
    "test_predictions=model.predict(x_final_test)\n",
    "test_rounded_predictions=np.round(test_predictions)\n",
    "indices = np.argmax(test_predictions,1)\n",
    "for row, index in zip(test_rounded_predictions, indices): row[index]=1\n",
    "test_rounded_predictions[:20]"
   ]
  },
  {
   "cell_type": "markdown",
   "metadata": {
    "id": "zua5c5QCcwRK"
   },
   "source": [
    "The target outputs."
   ]
  },
  {
   "cell_type": "code",
   "execution_count": null,
   "metadata": {
    "colab": {
     "base_uri": "https://localhost:8080/",
     "height": 369
    },
    "id": "qwzb_R8WTIUt",
    "outputId": "ec1766d6-517a-4949-a1b9-0de86c674c77"
   },
   "outputs": [
    {
     "data": {
      "text/plain": [
       "array([[0., 0., 1.],\n",
       "       [0., 0., 1.],\n",
       "       [1., 0., 0.],\n",
       "       [1., 0., 0.],\n",
       "       [1., 0., 0.],\n",
       "       [1., 0., 0.],\n",
       "       [0., 0., 1.],\n",
       "       [0., 0., 1.],\n",
       "       [0., 1., 0.],\n",
       "       [1., 0., 0.],\n",
       "       [0., 1., 0.],\n",
       "       [1., 0., 0.],\n",
       "       [0., 0., 1.],\n",
       "       [0., 1., 0.],\n",
       "       [0., 0., 1.],\n",
       "       [1., 0., 0.],\n",
       "       [0., 0., 1.],\n",
       "       [0., 1., 0.],\n",
       "       [1., 0., 0.],\n",
       "       [1., 0., 0.]])"
      ]
     },
     "execution_count": 31,
     "metadata": {
      "tags": []
     },
     "output_type": "execute_result"
    }
   ],
   "source": [
    "t_final_test[:20]"
   ]
  },
  {
   "cell_type": "markdown",
   "metadata": {
    "id": "oSmWOlgkc1st"
   },
   "source": [
    "The first 30 predictions. True means that the neural network correctly classifies the input vector.  "
   ]
  },
  {
   "cell_type": "code",
   "execution_count": null,
   "metadata": {
    "colab": {
     "base_uri": "https://localhost:8080/",
     "height": 88
    },
    "id": "wDgC389LTuae",
    "outputId": "addb3325-be53-4b71-c8df-f5ab2fcb8b30"
   },
   "outputs": [
    {
     "data": {
      "text/plain": [
       "array([ True,  True,  True,  True, False,  True,  True,  True, False,\n",
       "        True, False,  True,  True,  True,  True,  True,  True,  True,\n",
       "        True,  True,  True,  True,  True, False,  True,  True,  True,\n",
       "        True,  True,  True])"
      ]
     },
     "execution_count": 32,
     "metadata": {
      "tags": []
     },
     "output_type": "execute_result"
    }
   ],
   "source": [
    "test_correct_predictions = np.equal(np.argmax(test_rounded_predictions,1),np.argmax(t_final_test,1))\n",
    "test_correct_predictions[:30]"
   ]
  },
  {
   "cell_type": "markdown",
   "metadata": {
    "id": "URxPwu30f_6Z"
   },
   "source": [
    "**The final test accuracy.**"
   ]
  },
  {
   "cell_type": "code",
   "execution_count": null,
   "metadata": {
    "colab": {
     "base_uri": "https://localhost:8080/",
     "height": 35
    },
    "id": "GZLK8XnNdj-q",
    "outputId": "1a88df9c-bda1-4689-97ac-9fefe7479a1f"
   },
   "outputs": [
    {
     "data": {
      "text/plain": [
       "Counter({False: 475, True: 1568})"
      ]
     },
     "execution_count": 33,
     "metadata": {
      "tags": []
     },
     "output_type": "execute_result"
    }
   ],
   "source": [
    "from collections import Counter\n",
    "final_test_prediction_results=Counter(test_correct_predictions)\n",
    "final_test_prediction_results"
   ]
  },
  {
   "cell_type": "code",
   "execution_count": null,
   "metadata": {
    "colab": {
     "base_uri": "https://localhost:8080/",
     "height": 35
    },
    "id": "u6snhFGwdtZ3",
    "outputId": "603f3473-2247-435b-ef2c-f197324afb03"
   },
   "outputs": [
    {
     "data": {
      "text/plain": [
       "0.767498776309349"
      ]
     },
     "execution_count": 34,
     "metadata": {
      "tags": []
     },
     "output_type": "execute_result"
    }
   ],
   "source": [
    "final_test_prediction_results[True]/sum(final_test_prediction_results.values())"
   ]
  }
 ],
 "metadata": {
  "accelerator": "GPU",
  "colab": {
   "collapsed_sections": [],
   "name": "5_MedianHouseValue_Deep_ANN_Keras.ipynb",
   "provenance": []
  },
  "kernelspec": {
   "display_name": "Python 3",
   "language": "python",
   "name": "python3"
  },
  "language_info": {
   "codemirror_mode": {
    "name": "ipython",
    "version": 3
   },
   "file_extension": ".py",
   "mimetype": "text/x-python",
   "name": "python",
   "nbconvert_exporter": "python",
   "pygments_lexer": "ipython3",
   "version": "3.8.5"
  }
 },
 "nbformat": 4,
 "nbformat_minor": 1
}
