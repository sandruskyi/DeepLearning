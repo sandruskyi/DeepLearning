{
  "nbformat": 4,
  "nbformat_minor": 0,
  "metadata": {
    "colab": {
      "name": "Example DQN Cartpole.ipynb",
      "provenance": []
    },
    "kernelspec": {
      "name": "python3",
      "display_name": "Python 3"
    },
    "accelerator": "TPU"
  },
  "cells": [
    {
      "cell_type": "markdown",
      "metadata": {
        "id": "8TT3LPGc5PuK"
      },
      "source": [
        "# Deep Q-Learnig for Cartpole\n",
        "\n",
        "This example is an implementation of Deep Q-learning for the cartpole problem  (see [OpenAI's Cartpole](https://gym.openai.com/envs/CartPole-v0/)).\n",
        "\n",
        "This is an adapted version (by Martin Molina 2020) based on the implementation of [[Surma 2018](https://github.com/gsurma/cartpole)]\n"
      ]
    },
    {
      "cell_type": "code",
      "metadata": {
        "id": "LjLS1WetFhCE"
      },
      "source": [
        "import random\n",
        "import gym\n",
        "import numpy as np\n",
        "import matplotlib.pyplot as plt\n",
        "import time\n",
        "from collections import deque\n",
        "from keras.models import Sequential\n",
        "from keras.layers import Dense\n",
        "from keras.optimizers import Adam"
      ],
      "execution_count": null,
      "outputs": []
    },
    {
      "cell_type": "code",
      "metadata": {
        "id": "4N2yVwtuFlBu"
      },
      "source": [
        "ENV_NAME = \"CartPole-v1\"\n",
        "\n",
        "GAMMA = 0.95\n",
        "LEARNING_RATE = 0.001\n",
        "MEMORY_SIZE = 1000000\n",
        "BATCH_SIZE = 20\n",
        "EXPLORATION_MAX = 1.0\n",
        "EXPLORATION_MIN = 0.01\n",
        "EXPLORATION_DECAY = 0.995\n",
        "NUMBER_OF_EPISODES = 100\n",
        "MAX_STEPS = 200"
      ],
      "execution_count": null,
      "outputs": []
    },
    {
      "cell_type": "code",
      "metadata": {
        "id": "NZ6P4Gj0FtnU"
      },
      "source": [
        "class DQNSolver:\n",
        "\n",
        "    def __init__(self, observation_space, action_space):\n",
        "    # Intialize the class\n",
        "\n",
        "        self.exploration_rate = EXPLORATION_MAX\n",
        "        self.action_space = action_space\n",
        "        self.memory = deque(maxlen=MEMORY_SIZE)\n",
        "        self.results = []\n",
        "\n",
        "        # Neural model \n",
        "        self.model = Sequential()\n",
        "        self.model.add(Dense(24, input_shape=(observation_space,), activation=\"relu\"))\n",
        "        self.model.add(Dense(24, activation=\"relu\"))\n",
        "        self.model.add(Dense(self.action_space, activation=\"linear\"))\n",
        "        self.model.compile(loss=\"mse\", optimizer=Adam(lr=LEARNING_RATE))\n",
        "\n",
        "    def add_result(self, step):\n",
        "        self.results.append(step)\n",
        "\n",
        "    def show_results(self):\n",
        "        plt.plot(self.results)\n",
        "        plt.xlabel(\"Episode\")\n",
        "        plt.ylabel(\"Score\")\n",
        "\n",
        "    def remember(self, state, action, reward, next_state, done):\n",
        "    # Store a tuple (s, a, r, s') for experience replay\n",
        "\n",
        "        self.memory.append((state, action, reward, next_state, done))\n",
        "\n",
        "    def select(self, state):\n",
        "    # Generate an action for a given state considering random generation for exploration\n",
        "\n",
        "        if np.random.rand() < self.exploration_rate:\n",
        "            return random.randrange(self.action_space)\n",
        "        q_values = self.model.predict(state)\n",
        "        return np.argmax(q_values[0])\n",
        "\n",
        "    def learn(self):\n",
        "    # Learn the value Q using a sample of examples in the memory of experiences\n",
        "\n",
        "        # If the size of the stored steps is small, skip this \n",
        "        if len(self.memory) < BATCH_SIZE:\n",
        "            return\n",
        "\n",
        "        # Select a set of examples randomly    \n",
        "        batch = random.sample(self.memory, BATCH_SIZE)\n",
        "\n",
        "        # Update the neural model for each example\n",
        "        for state, action, reward, next_state, terminal in batch:\n",
        "            \n",
        "            if not terminal:\n",
        "               q_predicted_next_state = self.model.predict(next_state)\n",
        "               q_target_for_action = reward + GAMMA * np.amax(q_predicted_next_state[0])\n",
        "            else:\n",
        "               q_target_for_action = reward\n",
        "            \n",
        "            q_target = self.model.predict(state)\n",
        "            q_target[0][action] = q_target_for_action\n",
        "\n",
        "            # Training the neural network with the new q_values\n",
        "            self.model.train_on_batch(state, q_target)\n",
        "\n",
        "        # Decrease exploration rate\n",
        "        self.exploration_rate *= EXPLORATION_DECAY\n",
        "        self.exploration_rate = max(EXPLORATION_MIN, self.exploration_rate)\n",
        "  \n",
        "            "
      ],
      "execution_count": null,
      "outputs": []
    },
    {
      "cell_type": "code",
      "metadata": {
        "id": "yuzI0m5u5vVf"
      },
      "source": [
        "def cartpole():\n",
        "# Main program\n",
        "\n",
        "    # Initialization\n",
        "    env = gym.make(ENV_NAME)\n",
        "    observation_space = env.observation_space.shape[0]\n",
        "    action_space = env.action_space.n\n",
        "    dqn_solver = DQNSolver(observation_space, action_space)\n",
        "    episode = 0\n",
        "    goal_reached = False\n",
        "\n",
        "    start_time = time.clock()\n",
        "\n",
        "    while (episode < NUMBER_OF_EPISODES) and not (goal_reached):\n",
        "        episode += 1\n",
        "        state = env.reset()\n",
        "        state = np.reshape(state, [1, observation_space])\n",
        "        step = 0\n",
        "        while True:\n",
        "            step += 1\n",
        "            \n",
        "            # An action is selected using the neural network\n",
        "            action = dqn_solver.select(state)\n",
        "\n",
        "            # The action is executed  in the environment using AI Gym and a reward is obtained\n",
        "            state_next, reward, terminal, info = env.step(action)\n",
        "\n",
        "            # If the next state is terminal reward is negative\n",
        "            reward = reward if not terminal else -reward\n",
        "\n",
        "            state_next = np.reshape(state_next, [1, observation_space])\n",
        "\n",
        "            # The result of the action is stored in memory (to be sampled later)\n",
        "            dqn_solver.remember(state, action, reward, state_next, terminal)\n",
        "\n",
        "            state = state_next\n",
        "\n",
        "            # Learn using the experience stored in memory\n",
        "            dqn_solver.learn()\n",
        "\n",
        "            if terminal or step == MAX_STEPS:\n",
        "                dqn_solver.add_result(step)\n",
        "                rounded_exploration_rate = round(dqn_solver.exploration_rate,2)\n",
        "                print(\"Episode \" + str(episode) + \" of \" + str(NUMBER_OF_EPISODES) + \": \" + str(step) + \" (exploration rate: \" + str(rounded_exploration_rate) + \")\")\n",
        "                if step == MAX_STEPS: \n",
        "                   goal_reached = True\n",
        "                break \n",
        "\n",
        "    dqn_solver.show_results()\n",
        "    seconds = round((time.clock() - start_time))\n",
        "    if goal_reached: \n",
        "       print(\"Reached goal sucessfully\")\n",
        "    else:\n",
        "       print(\"Failure to reach the goal\")\n",
        "    print (\"Time:\", round(seconds/60), \"minutes\")\n",
        "\n",
        "\n"
      ],
      "execution_count": null,
      "outputs": []
    },
    {
      "cell_type": "code",
      "metadata": {
        "id": "CdlbWELRzNs7",
        "outputId": "2cefdb42-fc92-48a9-8005-d404644ee9ed",
        "colab": {
          "base_uri": "https://localhost:8080/",
          "height": 1000
        }
      },
      "source": [
        "cartpole()"
      ],
      "execution_count": null,
      "outputs": [
        {
          "output_type": "stream",
          "text": [
            "Episode 1 of 100: 11 (exploration rate: 1.0)\n",
            "Episode 2 of 100: 10 (exploration rate: 0.99)\n",
            "Episode 3 of 100: 12 (exploration rate: 0.93)\n",
            "Episode 4 of 100: 14 (exploration rate: 0.87)\n",
            "Episode 5 of 100: 10 (exploration rate: 0.83)\n",
            "Episode 6 of 100: 40 (exploration rate: 0.68)\n",
            "Episode 7 of 100: 15 (exploration rate: 0.63)\n",
            "Episode 8 of 100: 11 (exploration rate: 0.59)\n",
            "Episode 9 of 100: 16 (exploration rate: 0.55)\n",
            "Episode 10 of 100: 9 (exploration rate: 0.52)\n",
            "Episode 11 of 100: 11 (exploration rate: 0.5)\n",
            "Episode 12 of 100: 11 (exploration rate: 0.47)\n",
            "Episode 13 of 100: 10 (exploration rate: 0.45)\n",
            "Episode 14 of 100: 13 (exploration rate: 0.42)\n",
            "Episode 15 of 100: 17 (exploration rate: 0.38)\n",
            "Episode 16 of 100: 13 (exploration rate: 0.36)\n",
            "Episode 17 of 100: 14 (exploration rate: 0.34)\n",
            "Episode 18 of 100: 10 (exploration rate: 0.32)\n",
            "Episode 19 of 100: 13 (exploration rate: 0.3)\n",
            "Episode 20 of 100: 9 (exploration rate: 0.29)\n",
            "Episode 21 of 100: 13 (exploration rate: 0.27)\n",
            "Episode 22 of 100: 21 (exploration rate: 0.24)\n",
            "Episode 23 of 100: 8 (exploration rate: 0.23)\n",
            "Episode 24 of 100: 13 (exploration rate: 0.22)\n",
            "Episode 25 of 100: 10 (exploration rate: 0.21)\n",
            "Episode 26 of 100: 11 (exploration rate: 0.2)\n",
            "Episode 27 of 100: 11 (exploration rate: 0.18)\n",
            "Episode 28 of 100: 10 (exploration rate: 0.18)\n",
            "Episode 29 of 100: 17 (exploration rate: 0.16)\n",
            "Episode 30 of 100: 25 (exploration rate: 0.14)\n",
            "Episode 31 of 100: 25 (exploration rate: 0.13)\n",
            "Episode 32 of 100: 41 (exploration rate: 0.1)\n",
            "Episode 33 of 100: 40 (exploration rate: 0.08)\n",
            "Episode 34 of 100: 45 (exploration rate: 0.07)\n",
            "Episode 35 of 100: 105 (exploration rate: 0.04)\n",
            "Episode 36 of 100: 55 (exploration rate: 0.03)\n",
            "Episode 37 of 100: 60 (exploration rate: 0.02)\n",
            "Episode 38 of 100: 70 (exploration rate: 0.02)\n",
            "Episode 39 of 100: 69 (exploration rate: 0.01)\n",
            "Episode 40 of 100: 92 (exploration rate: 0.01)\n",
            "Episode 41 of 100: 41 (exploration rate: 0.01)\n",
            "Episode 42 of 100: 65 (exploration rate: 0.01)\n",
            "Episode 43 of 100: 45 (exploration rate: 0.01)\n",
            "Episode 44 of 100: 62 (exploration rate: 0.01)\n",
            "Episode 45 of 100: 125 (exploration rate: 0.01)\n",
            "Episode 46 of 100: 114 (exploration rate: 0.01)\n",
            "Episode 47 of 100: 142 (exploration rate: 0.01)\n",
            "Episode 48 of 100: 200 (exploration rate: 0.01)\n",
            "Reached goal sucessfully\n",
            "Time: 46 minutes\n"
          ],
          "name": "stdout"
        },
        {
          "output_type": "display_data",
          "data": {
            "image/png": "[encoded data removed]",
            "text/plain": [
              "<Figure size 432x288 with 1 Axes>"
            ]
          },
          "metadata": {
            "tags": [],
            "needs_background": "light"
          }
        }
      ]
    }
  ]
}