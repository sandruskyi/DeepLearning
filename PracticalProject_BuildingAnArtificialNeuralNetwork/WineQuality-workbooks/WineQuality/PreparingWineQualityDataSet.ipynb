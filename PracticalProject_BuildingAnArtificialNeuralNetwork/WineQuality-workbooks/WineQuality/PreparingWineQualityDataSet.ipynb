{
 "cells": [
  {
   "cell_type": "markdown",
   "metadata": {
    "id": "Nkq7WexywaIa"
   },
   "source": [
    "# Wine Quality Dataset Cleaning and Preparing"
   ]
  },
  {
   "cell_type": "markdown",
   "metadata": {
    "id": "q7Kqq7ZxIPk0"
   },
   "source": [
    "This Wine Quality dataset has been downloaded from the UCI repository https://archive.ics.uci.edu/ml/datasets/wine+quality. The details of this dataset are described in P. Cortez, A. Cerdeira, F. Almeida, T. Matos and J. Reis. (2009) Modeling wine preferences by data mining from physicochemical properties. *Decision Support Systems* 47(4):547-553."
   ]
  },
  {
   "cell_type": "code",
   "execution_count": 15,
   "metadata": {
    "colab": {
     "base_uri": "https://localhost:8080/"
    },
    "executionInfo": {
     "elapsed": 3018,
     "status": "ok",
     "timestamp": 1606930840394,
     "user": {
      "displayName": "Alicia Germán",
      "photoUrl": "",
      "userId": "00608908109085749123"
     },
     "user_tz": -60
    },
    "id": "MwYmB0yYIPk-",
    "outputId": "d8ea74b8-01d5-48ca-f8f3-3a8297fc594f"
   },
   "outputs": [
    {
     "name": "stdout",
     "output_type": "stream",
     "text": [
      "Mounted at /gdrive\n"
     ]
    }
   ],
   "source": [
    "import numpy as np\n",
    "import pandas as pd\n",
    "\n",
    "from sklearn.preprocessing import LabelEncoder, OneHotEncoder, minmax_scale, scale\n",
    "\n",
    "import matplotlib.pyplot as plt\n",
    "import seaborn as sns\n",
    "import bokeh as bk\n",
    "\n",
    "from google.colab import drive\n",
    "drive.mount('/gdrive', force_remount=True)"
   ]
  },
  {
   "cell_type": "code",
   "execution_count": 16,
   "metadata": {
    "executionInfo": {
     "elapsed": 7180,
     "status": "ok",
     "timestamp": 1606930844580,
     "user": {
      "displayName": "Alicia Germán",
      "photoUrl": "",
      "userId": "00608908109085749123"
     },
     "user_tz": -60
    },
    "id": "y_17S3yKIPlE"
   },
   "outputs": [],
   "source": [
    "INPUT_FILE_NAME = \"/gdrive/My Drive/Colab Notebooks/datasets/WineQuality/WineQualityRawDataset.csv\"\n",
    "ATT_FILE_NAME = \"/gdrive/My Drive/Colab Notebooks/datasets/WineQuality/WineQualityPreparedCleanAttributes.csv\"\n",
    "ONE_HOT_ENCODED_CLASSES_FILE_NAME = \"/gdrive/My Drive/Colab Notebooks/datasets/WineQuality/WineQualityOneHotEncodedClasses.csv\""
   ]
  },
  {
   "cell_type": "code",
   "execution_count": 17,
   "metadata": {
    "executionInfo": {
     "elapsed": 7168,
     "status": "ok",
     "timestamp": 1606930844583,
     "user": {
      "displayName": "Alicia Germán",
      "photoUrl": "",
      "userId": "00608908109085749123"
     },
     "user_tz": -60
    },
    "id": "n2IwfHvnIPlI"
   },
   "outputs": [],
   "source": [
    "dataset = pd.read_csv(INPUT_FILE_NAME, sep=\";\")"
   ]
  },
  {
   "cell_type": "code",
   "execution_count": 18,
   "metadata": {
    "colab": {
     "base_uri": "https://localhost:8080/"
    },
    "executionInfo": {
     "elapsed": 7167,
     "status": "ok",
     "timestamp": 1606930844591,
     "user": {
      "displayName": "Alicia Germán",
      "photoUrl": "",
      "userId": "00608908109085749123"
     },
     "user_tz": -60
    },
    "id": "22nhMjsxIPlL",
    "outputId": "71fffeb2-4928-455e-a8d8-207522ba3f85"
   },
   "outputs": [
    {
     "name": "stdout",
     "output_type": "stream",
     "text": [
      "<class 'pandas.core.frame.DataFrame'>\n",
      "RangeIndex: 4898 entries, 0 to 4897\n",
      "Data columns (total 12 columns):\n",
      " #   Column                Non-Null Count  Dtype  \n",
      "---  ------                --------------  -----  \n",
      " 0   fixed acidity         4898 non-null   float64\n",
      " 1   volatile acidity      4898 non-null   float64\n",
      " 2   citric acid           4898 non-null   float64\n",
      " 3   residual sugar        4898 non-null   float64\n",
      " 4   chlorides             4898 non-null   float64\n",
      " 5   free sulfur dioxide   4898 non-null   float64\n",
      " 6   total sulfur dioxide  4898 non-null   float64\n",
      " 7   density               4898 non-null   float64\n",
      " 8   pH                    4898 non-null   float64\n",
      " 9   sulphates             4898 non-null   float64\n",
      " 10  alcohol               4898 non-null   float64\n",
      " 11  quality               4898 non-null   int64  \n",
      "dtypes: float64(11), int64(1)\n",
      "memory usage: 459.3 KB\n"
     ]
    }
   ],
   "source": [
    "dataset.info()"
   ]
  },
  {
   "cell_type": "code",
   "execution_count": 19,
   "metadata": {
    "colab": {
     "base_uri": "https://localhost:8080/",
     "height": 359
    },
    "executionInfo": {
     "elapsed": 7146,
     "status": "ok",
     "timestamp": 1606930844593,
     "user": {
      "displayName": "Alicia Germán",
      "photoUrl": "",
      "userId": "00608908109085749123"
     },
     "user_tz": -60
    },
    "id": "XP1dKetrIPlQ",
    "outputId": "6b7abc9b-e14a-4e51-ffdd-cf717f09f4e7"
   },
   "outputs": [
    {
     "data": {
      "text/html": [
       "<div>\n",
       "<style scoped>\n",
       "    .dataframe tbody tr th:only-of-type {\n",
       "        vertical-align: middle;\n",
       "    }\n",
       "\n",
       "    .dataframe tbody tr th {\n",
       "        vertical-align: top;\n",
       "    }\n",
       "\n",
       "    .dataframe thead th {\n",
       "        text-align: right;\n",
       "    }\n",
       "</style>\n",
       "<table border=\"1\" class=\"dataframe\">\n",
       "  <thead>\n",
       "    <tr style=\"text-align: right;\">\n",
       "      <th></th>\n",
       "      <th>fixed acidity</th>\n",
       "      <th>volatile acidity</th>\n",
       "      <th>citric acid</th>\n",
       "      <th>residual sugar</th>\n",
       "      <th>chlorides</th>\n",
       "      <th>free sulfur dioxide</th>\n",
       "      <th>total sulfur dioxide</th>\n",
       "      <th>density</th>\n",
       "      <th>pH</th>\n",
       "      <th>sulphates</th>\n",
       "      <th>alcohol</th>\n",
       "      <th>quality</th>\n",
       "    </tr>\n",
       "  </thead>\n",
       "  <tbody>\n",
       "    <tr>\n",
       "      <th>0</th>\n",
       "      <td>7.0</td>\n",
       "      <td>0.27</td>\n",
       "      <td>0.36</td>\n",
       "      <td>20.7</td>\n",
       "      <td>0.045</td>\n",
       "      <td>45.0</td>\n",
       "      <td>170.0</td>\n",
       "      <td>1.0010</td>\n",
       "      <td>3.00</td>\n",
       "      <td>0.45</td>\n",
       "      <td>8.8</td>\n",
       "      <td>6</td>\n",
       "    </tr>\n",
       "    <tr>\n",
       "      <th>1</th>\n",
       "      <td>6.3</td>\n",
       "      <td>0.30</td>\n",
       "      <td>0.34</td>\n",
       "      <td>1.6</td>\n",
       "      <td>0.049</td>\n",
       "      <td>14.0</td>\n",
       "      <td>132.0</td>\n",
       "      <td>0.9940</td>\n",
       "      <td>3.30</td>\n",
       "      <td>0.49</td>\n",
       "      <td>9.5</td>\n",
       "      <td>6</td>\n",
       "    </tr>\n",
       "    <tr>\n",
       "      <th>2</th>\n",
       "      <td>8.1</td>\n",
       "      <td>0.28</td>\n",
       "      <td>0.40</td>\n",
       "      <td>6.9</td>\n",
       "      <td>0.050</td>\n",
       "      <td>30.0</td>\n",
       "      <td>97.0</td>\n",
       "      <td>0.9951</td>\n",
       "      <td>3.26</td>\n",
       "      <td>0.44</td>\n",
       "      <td>10.1</td>\n",
       "      <td>6</td>\n",
       "    </tr>\n",
       "    <tr>\n",
       "      <th>3</th>\n",
       "      <td>7.2</td>\n",
       "      <td>0.23</td>\n",
       "      <td>0.32</td>\n",
       "      <td>8.5</td>\n",
       "      <td>0.058</td>\n",
       "      <td>47.0</td>\n",
       "      <td>186.0</td>\n",
       "      <td>0.9956</td>\n",
       "      <td>3.19</td>\n",
       "      <td>0.40</td>\n",
       "      <td>9.9</td>\n",
       "      <td>6</td>\n",
       "    </tr>\n",
       "    <tr>\n",
       "      <th>4</th>\n",
       "      <td>7.2</td>\n",
       "      <td>0.23</td>\n",
       "      <td>0.32</td>\n",
       "      <td>8.5</td>\n",
       "      <td>0.058</td>\n",
       "      <td>47.0</td>\n",
       "      <td>186.0</td>\n",
       "      <td>0.9956</td>\n",
       "      <td>3.19</td>\n",
       "      <td>0.40</td>\n",
       "      <td>9.9</td>\n",
       "      <td>6</td>\n",
       "    </tr>\n",
       "    <tr>\n",
       "      <th>5</th>\n",
       "      <td>8.1</td>\n",
       "      <td>0.28</td>\n",
       "      <td>0.40</td>\n",
       "      <td>6.9</td>\n",
       "      <td>0.050</td>\n",
       "      <td>30.0</td>\n",
       "      <td>97.0</td>\n",
       "      <td>0.9951</td>\n",
       "      <td>3.26</td>\n",
       "      <td>0.44</td>\n",
       "      <td>10.1</td>\n",
       "      <td>6</td>\n",
       "    </tr>\n",
       "    <tr>\n",
       "      <th>6</th>\n",
       "      <td>6.2</td>\n",
       "      <td>0.32</td>\n",
       "      <td>0.16</td>\n",
       "      <td>7.0</td>\n",
       "      <td>0.045</td>\n",
       "      <td>30.0</td>\n",
       "      <td>136.0</td>\n",
       "      <td>0.9949</td>\n",
       "      <td>3.18</td>\n",
       "      <td>0.47</td>\n",
       "      <td>9.6</td>\n",
       "      <td>6</td>\n",
       "    </tr>\n",
       "    <tr>\n",
       "      <th>7</th>\n",
       "      <td>7.0</td>\n",
       "      <td>0.27</td>\n",
       "      <td>0.36</td>\n",
       "      <td>20.7</td>\n",
       "      <td>0.045</td>\n",
       "      <td>45.0</td>\n",
       "      <td>170.0</td>\n",
       "      <td>1.0010</td>\n",
       "      <td>3.00</td>\n",
       "      <td>0.45</td>\n",
       "      <td>8.8</td>\n",
       "      <td>6</td>\n",
       "    </tr>\n",
       "    <tr>\n",
       "      <th>8</th>\n",
       "      <td>6.3</td>\n",
       "      <td>0.30</td>\n",
       "      <td>0.34</td>\n",
       "      <td>1.6</td>\n",
       "      <td>0.049</td>\n",
       "      <td>14.0</td>\n",
       "      <td>132.0</td>\n",
       "      <td>0.9940</td>\n",
       "      <td>3.30</td>\n",
       "      <td>0.49</td>\n",
       "      <td>9.5</td>\n",
       "      <td>6</td>\n",
       "    </tr>\n",
       "    <tr>\n",
       "      <th>9</th>\n",
       "      <td>8.1</td>\n",
       "      <td>0.22</td>\n",
       "      <td>0.43</td>\n",
       "      <td>1.5</td>\n",
       "      <td>0.044</td>\n",
       "      <td>28.0</td>\n",
       "      <td>129.0</td>\n",
       "      <td>0.9938</td>\n",
       "      <td>3.22</td>\n",
       "      <td>0.45</td>\n",
       "      <td>11.0</td>\n",
       "      <td>6</td>\n",
       "    </tr>\n",
       "  </tbody>\n",
       "</table>\n",
       "</div>"
      ],
      "text/plain": [
       "   fixed acidity  volatile acidity  citric acid  ...  sulphates  alcohol  quality\n",
       "0            7.0              0.27         0.36  ...       0.45      8.8        6\n",
       "1            6.3              0.30         0.34  ...       0.49      9.5        6\n",
       "2            8.1              0.28         0.40  ...       0.44     10.1        6\n",
       "3            7.2              0.23         0.32  ...       0.40      9.9        6\n",
       "4            7.2              0.23         0.32  ...       0.40      9.9        6\n",
       "5            8.1              0.28         0.40  ...       0.44     10.1        6\n",
       "6            6.2              0.32         0.16  ...       0.47      9.6        6\n",
       "7            7.0              0.27         0.36  ...       0.45      8.8        6\n",
       "8            6.3              0.30         0.34  ...       0.49      9.5        6\n",
       "9            8.1              0.22         0.43  ...       0.45     11.0        6\n",
       "\n",
       "[10 rows x 12 columns]"
      ]
     },
     "execution_count": 19,
     "metadata": {
      "tags": []
     },
     "output_type": "execute_result"
    }
   ],
   "source": [
    "dataset[:10]"
   ]
  },
  {
   "cell_type": "code",
   "execution_count": 20,
   "metadata": {
    "colab": {
     "base_uri": "https://localhost:8080/",
     "height": 376
    },
    "executionInfo": {
     "elapsed": 7126,
     "status": "ok",
     "timestamp": 1606930844604,
     "user": {
      "displayName": "Alicia Germán",
      "photoUrl": "",
      "userId": "00608908109085749123"
     },
     "user_tz": -60
    },
    "id": "ypyjO_omIPlT",
    "outputId": "9883ccb4-feec-42a1-bdeb-e000d9d330cb"
   },
   "outputs": [
    {
     "data": {
      "text/html": [
       "<div>\n",
       "<style scoped>\n",
       "    .dataframe tbody tr th:only-of-type {\n",
       "        vertical-align: middle;\n",
       "    }\n",
       "\n",
       "    .dataframe tbody tr th {\n",
       "        vertical-align: top;\n",
       "    }\n",
       "\n",
       "    .dataframe thead th {\n",
       "        text-align: right;\n",
       "    }\n",
       "</style>\n",
       "<table border=\"1\" class=\"dataframe\">\n",
       "  <thead>\n",
       "    <tr style=\"text-align: right;\">\n",
       "      <th></th>\n",
       "      <th>fixed acidity</th>\n",
       "      <th>volatile acidity</th>\n",
       "      <th>citric acid</th>\n",
       "      <th>residual sugar</th>\n",
       "      <th>chlorides</th>\n",
       "      <th>free sulfur dioxide</th>\n",
       "      <th>total sulfur dioxide</th>\n",
       "      <th>density</th>\n",
       "      <th>pH</th>\n",
       "      <th>sulphates</th>\n",
       "      <th>alcohol</th>\n",
       "      <th>quality</th>\n",
       "    </tr>\n",
       "  </thead>\n",
       "  <tbody>\n",
       "    <tr>\n",
       "      <th>4888</th>\n",
       "      <td>6.8</td>\n",
       "      <td>0.220</td>\n",
       "      <td>0.36</td>\n",
       "      <td>1.20</td>\n",
       "      <td>0.052</td>\n",
       "      <td>38.0</td>\n",
       "      <td>127.0</td>\n",
       "      <td>0.99330</td>\n",
       "      <td>3.04</td>\n",
       "      <td>0.54</td>\n",
       "      <td>9.2</td>\n",
       "      <td>5</td>\n",
       "    </tr>\n",
       "    <tr>\n",
       "      <th>4889</th>\n",
       "      <td>4.9</td>\n",
       "      <td>0.235</td>\n",
       "      <td>0.27</td>\n",
       "      <td>11.75</td>\n",
       "      <td>0.030</td>\n",
       "      <td>34.0</td>\n",
       "      <td>118.0</td>\n",
       "      <td>0.99540</td>\n",
       "      <td>3.07</td>\n",
       "      <td>0.50</td>\n",
       "      <td>9.4</td>\n",
       "      <td>6</td>\n",
       "    </tr>\n",
       "    <tr>\n",
       "      <th>4890</th>\n",
       "      <td>6.1</td>\n",
       "      <td>0.340</td>\n",
       "      <td>0.29</td>\n",
       "      <td>2.20</td>\n",
       "      <td>0.036</td>\n",
       "      <td>25.0</td>\n",
       "      <td>100.0</td>\n",
       "      <td>0.98938</td>\n",
       "      <td>3.06</td>\n",
       "      <td>0.44</td>\n",
       "      <td>11.8</td>\n",
       "      <td>6</td>\n",
       "    </tr>\n",
       "    <tr>\n",
       "      <th>4891</th>\n",
       "      <td>5.7</td>\n",
       "      <td>0.210</td>\n",
       "      <td>0.32</td>\n",
       "      <td>0.90</td>\n",
       "      <td>0.038</td>\n",
       "      <td>38.0</td>\n",
       "      <td>121.0</td>\n",
       "      <td>0.99074</td>\n",
       "      <td>3.24</td>\n",
       "      <td>0.46</td>\n",
       "      <td>10.6</td>\n",
       "      <td>6</td>\n",
       "    </tr>\n",
       "    <tr>\n",
       "      <th>4892</th>\n",
       "      <td>6.5</td>\n",
       "      <td>0.230</td>\n",
       "      <td>0.38</td>\n",
       "      <td>1.30</td>\n",
       "      <td>0.032</td>\n",
       "      <td>29.0</td>\n",
       "      <td>112.0</td>\n",
       "      <td>0.99298</td>\n",
       "      <td>3.29</td>\n",
       "      <td>0.54</td>\n",
       "      <td>9.7</td>\n",
       "      <td>5</td>\n",
       "    </tr>\n",
       "    <tr>\n",
       "      <th>4893</th>\n",
       "      <td>6.2</td>\n",
       "      <td>0.210</td>\n",
       "      <td>0.29</td>\n",
       "      <td>1.60</td>\n",
       "      <td>0.039</td>\n",
       "      <td>24.0</td>\n",
       "      <td>92.0</td>\n",
       "      <td>0.99114</td>\n",
       "      <td>3.27</td>\n",
       "      <td>0.50</td>\n",
       "      <td>11.2</td>\n",
       "      <td>6</td>\n",
       "    </tr>\n",
       "    <tr>\n",
       "      <th>4894</th>\n",
       "      <td>6.6</td>\n",
       "      <td>0.320</td>\n",
       "      <td>0.36</td>\n",
       "      <td>8.00</td>\n",
       "      <td>0.047</td>\n",
       "      <td>57.0</td>\n",
       "      <td>168.0</td>\n",
       "      <td>0.99490</td>\n",
       "      <td>3.15</td>\n",
       "      <td>0.46</td>\n",
       "      <td>9.6</td>\n",
       "      <td>5</td>\n",
       "    </tr>\n",
       "    <tr>\n",
       "      <th>4895</th>\n",
       "      <td>6.5</td>\n",
       "      <td>0.240</td>\n",
       "      <td>0.19</td>\n",
       "      <td>1.20</td>\n",
       "      <td>0.041</td>\n",
       "      <td>30.0</td>\n",
       "      <td>111.0</td>\n",
       "      <td>0.99254</td>\n",
       "      <td>2.99</td>\n",
       "      <td>0.46</td>\n",
       "      <td>9.4</td>\n",
       "      <td>6</td>\n",
       "    </tr>\n",
       "    <tr>\n",
       "      <th>4896</th>\n",
       "      <td>5.5</td>\n",
       "      <td>0.290</td>\n",
       "      <td>0.30</td>\n",
       "      <td>1.10</td>\n",
       "      <td>0.022</td>\n",
       "      <td>20.0</td>\n",
       "      <td>110.0</td>\n",
       "      <td>0.98869</td>\n",
       "      <td>3.34</td>\n",
       "      <td>0.38</td>\n",
       "      <td>12.8</td>\n",
       "      <td>7</td>\n",
       "    </tr>\n",
       "    <tr>\n",
       "      <th>4897</th>\n",
       "      <td>6.0</td>\n",
       "      <td>0.210</td>\n",
       "      <td>0.38</td>\n",
       "      <td>0.80</td>\n",
       "      <td>0.020</td>\n",
       "      <td>22.0</td>\n",
       "      <td>98.0</td>\n",
       "      <td>0.98941</td>\n",
       "      <td>3.26</td>\n",
       "      <td>0.32</td>\n",
       "      <td>11.8</td>\n",
       "      <td>6</td>\n",
       "    </tr>\n",
       "  </tbody>\n",
       "</table>\n",
       "</div>"
      ],
      "text/plain": [
       "      fixed acidity  volatile acidity  citric acid  ...  sulphates  alcohol  quality\n",
       "4888            6.8             0.220         0.36  ...       0.54      9.2        5\n",
       "4889            4.9             0.235         0.27  ...       0.50      9.4        6\n",
       "4890            6.1             0.340         0.29  ...       0.44     11.8        6\n",
       "4891            5.7             0.210         0.32  ...       0.46     10.6        6\n",
       "4892            6.5             0.230         0.38  ...       0.54      9.7        5\n",
       "4893            6.2             0.210         0.29  ...       0.50     11.2        6\n",
       "4894            6.6             0.320         0.36  ...       0.46      9.6        5\n",
       "4895            6.5             0.240         0.19  ...       0.46      9.4        6\n",
       "4896            5.5             0.290         0.30  ...       0.38     12.8        7\n",
       "4897            6.0             0.210         0.38  ...       0.32     11.8        6\n",
       "\n",
       "[10 rows x 12 columns]"
      ]
     },
     "execution_count": 20,
     "metadata": {
      "tags": []
     },
     "output_type": "execute_result"
    }
   ],
   "source": [
    "dataset[-10:]"
   ]
  },
  {
   "cell_type": "markdown",
   "metadata": {
    "id": "3BRBLQSjIPlb"
   },
   "source": [
    "**First Step:** find out whether or not there are missing values. "
   ]
  },
  {
   "cell_type": "code",
   "execution_count": 21,
   "metadata": {
    "colab": {
     "base_uri": "https://localhost:8080/"
    },
    "executionInfo": {
     "elapsed": 7092,
     "status": "ok",
     "timestamp": 1606930844605,
     "user": {
      "displayName": "Alicia Germán",
      "photoUrl": "",
      "userId": "00608908109085749123"
     },
     "user_tz": -60
    },
    "id": "zD6rSJ9XIPlb",
    "outputId": "2fa42974-9207-4ad1-db5b-d32dbde19052"
   },
   "outputs": [
    {
     "data": {
      "text/plain": [
       "{'alcohol': 0,\n",
       " 'chlorides': 0,\n",
       " 'citric acid': 0,\n",
       " 'density': 0,\n",
       " 'fixed acidity': 0,\n",
       " 'free sulfur dioxide': 0,\n",
       " 'pH': 0,\n",
       " 'quality': 0,\n",
       " 'residual sugar': 0,\n",
       " 'sulphates': 0,\n",
       " 'total sulfur dioxide': 0,\n",
       " 'volatile acidity': 0}"
      ]
     },
     "execution_count": 21,
     "metadata": {
      "tags": []
     },
     "output_type": "execute_result"
    }
   ],
   "source": [
    "{att : dataset[dataset[att].isnull()].shape[0] for att in dataset.columns}"
   ]
  },
  {
   "cell_type": "markdown",
   "metadata": {
    "id": "Ncc0p8nWIPld"
   },
   "source": [
    "There are not missing values."
   ]
  },
  {
   "cell_type": "markdown",
   "metadata": {
    "id": "yCV8pV-ZS8f-"
   },
   "source": [
    "**Second Step**: Check outliers and scale data. There are several actions to consider regarding outliers:\n",
    "\n",
    "\n",
    "1.   **Scale** each attribute based on its mean and standard deviation (normalization). This approach may produce values larger than 1 or lower than -1.\n",
    "2.   **Remove** rows containing outliers; at least some of them. The disadvantage is that we do not have so many examples in the dataset.\n",
    "3.   **Curate** data by modifying outliers."
   ]
  },
  {
   "cell_type": "code",
   "execution_count": 22,
   "metadata": {
    "colab": {
     "base_uri": "https://localhost:8080/",
     "height": 436
    },
    "executionInfo": {
     "elapsed": 7066,
     "status": "ok",
     "timestamp": 1606930844606,
     "user": {
      "displayName": "Alicia Germán",
      "photoUrl": "",
      "userId": "00608908109085749123"
     },
     "user_tz": -60
    },
    "id": "wtLvlXiMVbC5",
    "outputId": "10d1d0f8-7f62-4261-8cc6-5852bc517c4d"
   },
   "outputs": [
    {
     "data": {
      "text/html": [
       "<div>\n",
       "<style scoped>\n",
       "    .dataframe tbody tr th:only-of-type {\n",
       "        vertical-align: middle;\n",
       "    }\n",
       "\n",
       "    .dataframe tbody tr th {\n",
       "        vertical-align: top;\n",
       "    }\n",
       "\n",
       "    .dataframe thead th {\n",
       "        text-align: right;\n",
       "    }\n",
       "</style>\n",
       "<table border=\"1\" class=\"dataframe\">\n",
       "  <thead>\n",
       "    <tr style=\"text-align: right;\">\n",
       "      <th></th>\n",
       "      <th>fixed acidity</th>\n",
       "      <th>volatile acidity</th>\n",
       "      <th>citric acid</th>\n",
       "      <th>residual sugar</th>\n",
       "      <th>chlorides</th>\n",
       "      <th>free sulfur dioxide</th>\n",
       "      <th>total sulfur dioxide</th>\n",
       "      <th>density</th>\n",
       "      <th>pH</th>\n",
       "      <th>sulphates</th>\n",
       "      <th>alcohol</th>\n",
       "    </tr>\n",
       "  </thead>\n",
       "  <tbody>\n",
       "    <tr>\n",
       "      <th>0</th>\n",
       "      <td>0.172097</td>\n",
       "      <td>-0.081770</td>\n",
       "      <td>0.213280</td>\n",
       "      <td>2.821349</td>\n",
       "      <td>-0.035355</td>\n",
       "      <td>0.569932</td>\n",
       "      <td>0.744565</td>\n",
       "      <td>2.331512</td>\n",
       "      <td>-1.246921</td>\n",
       "      <td>-0.349184</td>\n",
       "      <td>-1.393152</td>\n",
       "    </tr>\n",
       "    <tr>\n",
       "      <th>1</th>\n",
       "      <td>-0.657501</td>\n",
       "      <td>0.215896</td>\n",
       "      <td>0.048001</td>\n",
       "      <td>-0.944765</td>\n",
       "      <td>0.147747</td>\n",
       "      <td>-1.253019</td>\n",
       "      <td>-0.149685</td>\n",
       "      <td>-0.009154</td>\n",
       "      <td>0.740029</td>\n",
       "      <td>0.001342</td>\n",
       "      <td>-0.824276</td>\n",
       "    </tr>\n",
       "    <tr>\n",
       "      <th>2</th>\n",
       "      <td>1.475751</td>\n",
       "      <td>0.017452</td>\n",
       "      <td>0.543838</td>\n",
       "      <td>0.100282</td>\n",
       "      <td>0.193523</td>\n",
       "      <td>-0.312141</td>\n",
       "      <td>-0.973336</td>\n",
       "      <td>0.358665</td>\n",
       "      <td>0.475102</td>\n",
       "      <td>-0.436816</td>\n",
       "      <td>-0.336667</td>\n",
       "    </tr>\n",
       "    <tr>\n",
       "      <th>3</th>\n",
       "      <td>0.409125</td>\n",
       "      <td>-0.478657</td>\n",
       "      <td>-0.117278</td>\n",
       "      <td>0.415768</td>\n",
       "      <td>0.559727</td>\n",
       "      <td>0.687541</td>\n",
       "      <td>1.121091</td>\n",
       "      <td>0.525855</td>\n",
       "      <td>0.011480</td>\n",
       "      <td>-0.787342</td>\n",
       "      <td>-0.499203</td>\n",
       "    </tr>\n",
       "    <tr>\n",
       "      <th>4</th>\n",
       "      <td>0.409125</td>\n",
       "      <td>-0.478657</td>\n",
       "      <td>-0.117278</td>\n",
       "      <td>0.415768</td>\n",
       "      <td>0.559727</td>\n",
       "      <td>0.687541</td>\n",
       "      <td>1.121091</td>\n",
       "      <td>0.525855</td>\n",
       "      <td>0.011480</td>\n",
       "      <td>-0.787342</td>\n",
       "      <td>-0.499203</td>\n",
       "    </tr>\n",
       "    <tr>\n",
       "      <th>...</th>\n",
       "      <td>...</td>\n",
       "      <td>...</td>\n",
       "      <td>...</td>\n",
       "      <td>...</td>\n",
       "      <td>...</td>\n",
       "      <td>...</td>\n",
       "      <td>...</td>\n",
       "      <td>...</td>\n",
       "      <td>...</td>\n",
       "      <td>...</td>\n",
       "      <td>...</td>\n",
       "    </tr>\n",
       "    <tr>\n",
       "      <th>4893</th>\n",
       "      <td>-0.776015</td>\n",
       "      <td>-0.677101</td>\n",
       "      <td>-0.365197</td>\n",
       "      <td>-0.944765</td>\n",
       "      <td>-0.310008</td>\n",
       "      <td>-0.664970</td>\n",
       "      <td>-1.091000</td>\n",
       "      <td>-0.965483</td>\n",
       "      <td>0.541334</td>\n",
       "      <td>0.088973</td>\n",
       "      <td>0.557282</td>\n",
       "    </tr>\n",
       "    <tr>\n",
       "      <th>4894</th>\n",
       "      <td>-0.301959</td>\n",
       "      <td>0.414339</td>\n",
       "      <td>0.213280</td>\n",
       "      <td>0.317179</td>\n",
       "      <td>0.056196</td>\n",
       "      <td>1.275590</td>\n",
       "      <td>0.697499</td>\n",
       "      <td>0.291789</td>\n",
       "      <td>-0.253446</td>\n",
       "      <td>-0.261553</td>\n",
       "      <td>-0.743008</td>\n",
       "    </tr>\n",
       "    <tr>\n",
       "      <th>4895</th>\n",
       "      <td>-0.420473</td>\n",
       "      <td>-0.379435</td>\n",
       "      <td>-1.191592</td>\n",
       "      <td>-1.023637</td>\n",
       "      <td>-0.218457</td>\n",
       "      <td>-0.312141</td>\n",
       "      <td>-0.643875</td>\n",
       "      <td>-0.497350</td>\n",
       "      <td>-1.313153</td>\n",
       "      <td>-0.261553</td>\n",
       "      <td>-0.905544</td>\n",
       "    </tr>\n",
       "    <tr>\n",
       "      <th>4896</th>\n",
       "      <td>-1.605613</td>\n",
       "      <td>0.116674</td>\n",
       "      <td>-0.282557</td>\n",
       "      <td>-1.043355</td>\n",
       "      <td>-1.088192</td>\n",
       "      <td>-0.900190</td>\n",
       "      <td>-0.667408</td>\n",
       "      <td>-1.784717</td>\n",
       "      <td>1.004955</td>\n",
       "      <td>-0.962605</td>\n",
       "      <td>1.857572</td>\n",
       "    </tr>\n",
       "    <tr>\n",
       "      <th>4897</th>\n",
       "      <td>-1.013043</td>\n",
       "      <td>-0.677101</td>\n",
       "      <td>0.378559</td>\n",
       "      <td>-1.102508</td>\n",
       "      <td>-1.179743</td>\n",
       "      <td>-0.782580</td>\n",
       "      <td>-0.949803</td>\n",
       "      <td>-1.543962</td>\n",
       "      <td>0.475102</td>\n",
       "      <td>-1.488394</td>\n",
       "      <td>1.044891</td>\n",
       "    </tr>\n",
       "  </tbody>\n",
       "</table>\n",
       "<p>4898 rows × 11 columns</p>\n",
       "</div>"
      ],
      "text/plain": [
       "      fixed acidity  volatile acidity  ...  sulphates   alcohol\n",
       "0          0.172097         -0.081770  ...  -0.349184 -1.393152\n",
       "1         -0.657501          0.215896  ...   0.001342 -0.824276\n",
       "2          1.475751          0.017452  ...  -0.436816 -0.336667\n",
       "3          0.409125         -0.478657  ...  -0.787342 -0.499203\n",
       "4          0.409125         -0.478657  ...  -0.787342 -0.499203\n",
       "...             ...               ...  ...        ...       ...\n",
       "4893      -0.776015         -0.677101  ...   0.088973  0.557282\n",
       "4894      -0.301959          0.414339  ...  -0.261553 -0.743008\n",
       "4895      -0.420473         -0.379435  ...  -0.261553 -0.905544\n",
       "4896      -1.605613          0.116674  ...  -0.962605  1.857572\n",
       "4897      -1.013043         -0.677101  ...  -1.488394  1.044891\n",
       "\n",
       "[4898 rows x 11 columns]"
      ]
     },
     "execution_count": 22,
     "metadata": {
      "tags": []
     },
     "output_type": "execute_result"
    }
   ],
   "source": [
    "normalized_ds = pd.DataFrame (scale (dataset.drop (columns=\"quality\"), axis=0, copy=True),columns=dataset.drop (columns=\"quality\").columns) \n",
    "normalized_ds"
   ]
  },
  {
   "cell_type": "code",
   "execution_count": 23,
   "metadata": {
    "colab": {
     "base_uri": "https://localhost:8080/",
     "height": 445
    },
    "executionInfo": {
     "elapsed": 7031,
     "status": "ok",
     "timestamp": 1606930844609,
     "user": {
      "displayName": "Alicia Germán",
      "photoUrl": "",
      "userId": "00608908109085749123"
     },
     "user_tz": -60
    },
    "id": "KnTvbwWGYHcd",
    "outputId": "2dc9289c-e982-4379-9c75-bf5758b1795d"
   },
   "outputs": [
    {
     "data": {
      "text/plain": [
       "<matplotlib.axes._subplots.AxesSubplot at 0x7fb9e06dc198>"
      ]
     },
     "execution_count": 23,
     "metadata": {
      "tags": []
     },
     "output_type": "execute_result"
    },
    {
     "data": {
      "image/png": "[encoded data removed]",
      "text/plain": [
       "<Figure size 1440x504 with 1 Axes>"
      ]
     },
     "metadata": {
      "needs_background": "light",
      "tags": []
     },
     "output_type": "display_data"
    }
   ],
   "source": [
    "normalized_ds.boxplot(figsize=(20,7))"
   ]
  },
  {
   "cell_type": "code",
   "execution_count": 24,
   "metadata": {
    "colab": {
     "base_uri": "https://localhost:8080/",
     "height": 419
    },
    "executionInfo": {
     "elapsed": 6991,
     "status": "ok",
     "timestamp": 1606930844611,
     "user": {
      "displayName": "Alicia Germán",
      "photoUrl": "",
      "userId": "00608908109085749123"
     },
     "user_tz": -60
    },
    "id": "XVVmfMrBZhCW",
    "outputId": "09888e15-ec97-4477-d00d-ed79f4b1885c"
   },
   "outputs": [
    {
     "data": {
      "text/html": [
       "<div>\n",
       "<style scoped>\n",
       "    .dataframe tbody tr th:only-of-type {\n",
       "        vertical-align: middle;\n",
       "    }\n",
       "\n",
       "    .dataframe tbody tr th {\n",
       "        vertical-align: top;\n",
       "    }\n",
       "\n",
       "    .dataframe thead th {\n",
       "        text-align: right;\n",
       "    }\n",
       "</style>\n",
       "<table border=\"1\" class=\"dataframe\">\n",
       "  <thead>\n",
       "    <tr style=\"text-align: right;\">\n",
       "      <th></th>\n",
       "      <th>fixed acidity</th>\n",
       "      <th>volatile acidity</th>\n",
       "      <th>citric acid</th>\n",
       "      <th>residual sugar</th>\n",
       "      <th>chlorides</th>\n",
       "      <th>free sulfur dioxide</th>\n",
       "      <th>total sulfur dioxide</th>\n",
       "      <th>density</th>\n",
       "      <th>pH</th>\n",
       "      <th>sulphates</th>\n",
       "      <th>alcohol</th>\n",
       "    </tr>\n",
       "  </thead>\n",
       "  <tbody>\n",
       "    <tr>\n",
       "      <th>0</th>\n",
       "      <td>0.307692</td>\n",
       "      <td>0.186275</td>\n",
       "      <td>0.216867</td>\n",
       "      <td>0.308282</td>\n",
       "      <td>0.106825</td>\n",
       "      <td>0.149826</td>\n",
       "      <td>0.373550</td>\n",
       "      <td>0.267785</td>\n",
       "      <td>0.254545</td>\n",
       "      <td>0.267442</td>\n",
       "      <td>0.129032</td>\n",
       "    </tr>\n",
       "    <tr>\n",
       "      <th>1</th>\n",
       "      <td>0.240385</td>\n",
       "      <td>0.215686</td>\n",
       "      <td>0.204819</td>\n",
       "      <td>0.015337</td>\n",
       "      <td>0.118694</td>\n",
       "      <td>0.041812</td>\n",
       "      <td>0.285383</td>\n",
       "      <td>0.132832</td>\n",
       "      <td>0.527273</td>\n",
       "      <td>0.313953</td>\n",
       "      <td>0.241935</td>\n",
       "    </tr>\n",
       "    <tr>\n",
       "      <th>2</th>\n",
       "      <td>0.413462</td>\n",
       "      <td>0.196078</td>\n",
       "      <td>0.240964</td>\n",
       "      <td>0.096626</td>\n",
       "      <td>0.121662</td>\n",
       "      <td>0.097561</td>\n",
       "      <td>0.204176</td>\n",
       "      <td>0.154039</td>\n",
       "      <td>0.490909</td>\n",
       "      <td>0.255814</td>\n",
       "      <td>0.338710</td>\n",
       "    </tr>\n",
       "    <tr>\n",
       "      <th>3</th>\n",
       "      <td>0.326923</td>\n",
       "      <td>0.147059</td>\n",
       "      <td>0.192771</td>\n",
       "      <td>0.121166</td>\n",
       "      <td>0.145401</td>\n",
       "      <td>0.156794</td>\n",
       "      <td>0.410673</td>\n",
       "      <td>0.163678</td>\n",
       "      <td>0.427273</td>\n",
       "      <td>0.209302</td>\n",
       "      <td>0.306452</td>\n",
       "    </tr>\n",
       "    <tr>\n",
       "      <th>4</th>\n",
       "      <td>0.326923</td>\n",
       "      <td>0.147059</td>\n",
       "      <td>0.192771</td>\n",
       "      <td>0.121166</td>\n",
       "      <td>0.145401</td>\n",
       "      <td>0.156794</td>\n",
       "      <td>0.410673</td>\n",
       "      <td>0.163678</td>\n",
       "      <td>0.427273</td>\n",
       "      <td>0.209302</td>\n",
       "      <td>0.306452</td>\n",
       "    </tr>\n",
       "    <tr>\n",
       "      <th>...</th>\n",
       "      <td>...</td>\n",
       "      <td>...</td>\n",
       "      <td>...</td>\n",
       "      <td>...</td>\n",
       "      <td>...</td>\n",
       "      <td>...</td>\n",
       "      <td>...</td>\n",
       "      <td>...</td>\n",
       "      <td>...</td>\n",
       "      <td>...</td>\n",
       "      <td>...</td>\n",
       "    </tr>\n",
       "    <tr>\n",
       "      <th>4893</th>\n",
       "      <td>0.230769</td>\n",
       "      <td>0.127451</td>\n",
       "      <td>0.174699</td>\n",
       "      <td>0.015337</td>\n",
       "      <td>0.089021</td>\n",
       "      <td>0.076655</td>\n",
       "      <td>0.192575</td>\n",
       "      <td>0.077694</td>\n",
       "      <td>0.500000</td>\n",
       "      <td>0.325581</td>\n",
       "      <td>0.516129</td>\n",
       "    </tr>\n",
       "    <tr>\n",
       "      <th>4894</th>\n",
       "      <td>0.269231</td>\n",
       "      <td>0.235294</td>\n",
       "      <td>0.216867</td>\n",
       "      <td>0.113497</td>\n",
       "      <td>0.112760</td>\n",
       "      <td>0.191638</td>\n",
       "      <td>0.368910</td>\n",
       "      <td>0.150183</td>\n",
       "      <td>0.390909</td>\n",
       "      <td>0.279070</td>\n",
       "      <td>0.258065</td>\n",
       "    </tr>\n",
       "    <tr>\n",
       "      <th>4895</th>\n",
       "      <td>0.259615</td>\n",
       "      <td>0.156863</td>\n",
       "      <td>0.114458</td>\n",
       "      <td>0.009202</td>\n",
       "      <td>0.094955</td>\n",
       "      <td>0.097561</td>\n",
       "      <td>0.236659</td>\n",
       "      <td>0.104685</td>\n",
       "      <td>0.245455</td>\n",
       "      <td>0.279070</td>\n",
       "      <td>0.225806</td>\n",
       "    </tr>\n",
       "    <tr>\n",
       "      <th>4896</th>\n",
       "      <td>0.163462</td>\n",
       "      <td>0.205882</td>\n",
       "      <td>0.180723</td>\n",
       "      <td>0.007669</td>\n",
       "      <td>0.038576</td>\n",
       "      <td>0.062718</td>\n",
       "      <td>0.234339</td>\n",
       "      <td>0.030461</td>\n",
       "      <td>0.563636</td>\n",
       "      <td>0.186047</td>\n",
       "      <td>0.774194</td>\n",
       "    </tr>\n",
       "    <tr>\n",
       "      <th>4897</th>\n",
       "      <td>0.211538</td>\n",
       "      <td>0.127451</td>\n",
       "      <td>0.228916</td>\n",
       "      <td>0.003067</td>\n",
       "      <td>0.032641</td>\n",
       "      <td>0.069686</td>\n",
       "      <td>0.206497</td>\n",
       "      <td>0.044342</td>\n",
       "      <td>0.490909</td>\n",
       "      <td>0.116279</td>\n",
       "      <td>0.612903</td>\n",
       "    </tr>\n",
       "  </tbody>\n",
       "</table>\n",
       "<p>4898 rows × 11 columns</p>\n",
       "</div>"
      ],
      "text/plain": [
       "      fixed acidity  volatile acidity  ...  sulphates   alcohol\n",
       "0          0.307692          0.186275  ...   0.267442  0.129032\n",
       "1          0.240385          0.215686  ...   0.313953  0.241935\n",
       "2          0.413462          0.196078  ...   0.255814  0.338710\n",
       "3          0.326923          0.147059  ...   0.209302  0.306452\n",
       "4          0.326923          0.147059  ...   0.209302  0.306452\n",
       "...             ...               ...  ...        ...       ...\n",
       "4893       0.230769          0.127451  ...   0.325581  0.516129\n",
       "4894       0.269231          0.235294  ...   0.279070  0.258065\n",
       "4895       0.259615          0.156863  ...   0.279070  0.225806\n",
       "4896       0.163462          0.205882  ...   0.186047  0.774194\n",
       "4897       0.211538          0.127451  ...   0.116279  0.612903\n",
       "\n",
       "[4898 rows x 11 columns]"
      ]
     },
     "execution_count": 24,
     "metadata": {
      "tags": []
     },
     "output_type": "execute_result"
    }
   ],
   "source": [
    "standardized_ds = pd.DataFrame (minmax_scale (dataset.drop (columns=\"quality\"), axis=0, copy=True),columns=dataset.drop (columns=\"quality\").columns) \n",
    "standardized_ds"
   ]
  },
  {
   "cell_type": "code",
   "execution_count": 25,
   "metadata": {
    "colab": {
     "base_uri": "https://localhost:8080/",
     "height": 445
    },
    "executionInfo": {
     "elapsed": 6962,
     "status": "ok",
     "timestamp": 1606930844612,
     "user": {
      "displayName": "Alicia Germán",
      "photoUrl": "",
      "userId": "00608908109085749123"
     },
     "user_tz": -60
    },
    "id": "GFf_zJI6Z1BK",
    "outputId": "f874fe33-c91c-4141-a87b-14eb95ccd02f"
   },
   "outputs": [
    {
     "data": {
      "text/plain": [
       "<matplotlib.axes._subplots.AxesSubplot at 0x7fba040b0320>"
      ]
     },
     "execution_count": 25,
     "metadata": {
      "tags": []
     },
     "output_type": "execute_result"
    },
    {
     "data": {
      "image/png": "[encoded data removed]",
      "text/plain": [
       "<Figure size 1440x504 with 1 Axes>"
      ]
     },
     "metadata": {
      "needs_background": "light",
      "tags": []
     },
     "output_type": "display_data"
    }
   ],
   "source": [
    "standardized_ds.boxplot(figsize=(20,7))"
   ]
  },
  {
   "cell_type": "markdown",
   "metadata": {
    "id": "FZDPBzDfacso"
   },
   "source": [
    "Note that both boxplot figures show the existence of outliers. Moreover, normalized data have a great amplitude of values, ranging from -2.5 to 2.5. Therefore, we proceed to curate the data."
   ]
  },
  {
   "cell_type": "markdown",
   "metadata": {
    "id": "I_eOwhr3bCns"
   },
   "source": [
    "**We study each attribute** and apply modifications to outliers to get them into the normal distribution."
   ]
  },
  {
   "cell_type": "code",
   "execution_count": 26,
   "metadata": {
    "colab": {
     "base_uri": "https://localhost:8080/",
     "height": 386
    },
    "executionInfo": {
     "elapsed": 7818,
     "status": "ok",
     "timestamp": 1606930845504,
     "user": {
      "displayName": "Alicia Germán",
      "photoUrl": "",
      "userId": "00608908109085749123"
     },
     "user_tz": -60
    },
    "id": "5tSVkAsJ3GUy",
    "outputId": "916932a8-eb5f-45ba-d33b-d4d14aad158d"
   },
   "outputs": [
    {
     "data": {
      "text/plain": [
       "<seaborn.axisgrid.FacetGrid at 0x7fb9de73a358>"
      ]
     },
     "execution_count": 26,
     "metadata": {
      "tags": []
     },
     "output_type": "execute_result"
    },
    {
     "data": {
      "image/png": "[encoded data removed]",
      "text/plain": [
       "<Figure size 360x360 with 1 Axes>"
      ]
     },
     "metadata": {
      "needs_background": "light",
      "tags": []
     },
     "output_type": "display_data"
    }
   ],
   "source": [
    "sns.displot(dataset[\"fixed acidity\"],kde=False,rug=True)"
   ]
  },
  {
   "cell_type": "code",
   "execution_count": 27,
   "metadata": {
    "colab": {
     "base_uri": "https://localhost:8080/",
     "height": 282
    },
    "executionInfo": {
     "elapsed": 7791,
     "status": "ok",
     "timestamp": 1606930845506,
     "user": {
      "displayName": "Alicia Germán",
      "photoUrl": "",
      "userId": "00608908109085749123"
     },
     "user_tz": -60
    },
    "id": "9ZztqoEgwjHX",
    "outputId": "ab16c555-c710-4310-bb49-09624565fa9e"
   },
   "outputs": [
    {
     "data": {
      "text/plain": [
       "<matplotlib.axes._subplots.AxesSubplot at 0x7fb9de63c240>"
      ]
     },
     "execution_count": 27,
     "metadata": {
      "tags": []
     },
     "output_type": "execute_result"
    },
    {
     "data": {
      "image/png": "[encoded data removed]",
      "text/plain": [
       "<Figure size 432x288 with 1 Axes>"
      ]
     },
     "metadata": {
      "needs_background": "light",
      "tags": []
     },
     "output_type": "display_data"
    }
   ],
   "source": [
    "dataset.boxplot(column=[\"fixed acidity\"])"
   ]
  },
  {
   "cell_type": "code",
   "execution_count": 28,
   "metadata": {
    "colab": {
     "base_uri": "https://localhost:8080/"
    },
    "executionInfo": {
     "elapsed": 7763,
     "status": "ok",
     "timestamp": 1606930845507,
     "user": {
      "displayName": "Alicia Germán",
      "photoUrl": "",
      "userId": "00608908109085749123"
     },
     "user_tz": -60
    },
    "id": "arC5SPTLIicH",
    "outputId": "eda24b6a-9585-4134-fe88-32a35e2a8e7e"
   },
   "outputs": [
    {
     "name": "stdout",
     "output_type": "stream",
     "text": [
      "minimum:  3.8 Maximum:  14.2\n"
     ]
    }
   ],
   "source": [
    "print(\"minimum: \",np.amin(dataset[\"fixed acidity\"].values), \"Maximum: \", np.amax(dataset[\"fixed acidity\"].values))"
   ]
  },
  {
   "cell_type": "code",
   "execution_count": 29,
   "metadata": {
    "executionInfo": {
     "elapsed": 7756,
     "status": "ok",
     "timestamp": 1606930845509,
     "user": {
      "displayName": "Alicia Germán",
      "photoUrl": "",
      "userId": "00608908109085749123"
     },
     "user_tz": -60
    },
    "id": "qEI2af9t-M-T"
   },
   "outputs": [],
   "source": [
    "dataset.loc[dataset['fixed acidity'] > 10,'fixed acidity']=10"
   ]
  },
  {
   "cell_type": "code",
   "execution_count": 30,
   "metadata": {
    "executionInfo": {
     "elapsed": 7746,
     "status": "ok",
     "timestamp": 1606930845510,
     "user": {
      "displayName": "Alicia Germán",
      "photoUrl": "",
      "userId": "00608908109085749123"
     },
     "user_tz": -60
    },
    "id": "2BWrTqSnw6nw"
   },
   "outputs": [],
   "source": [
    "dataset.loc[dataset['fixed acidity'] < 4.5,'fixed acidity']=4.5"
   ]
  },
  {
   "cell_type": "code",
   "execution_count": 31,
   "metadata": {
    "colab": {
     "base_uri": "https://localhost:8080/",
     "height": 282
    },
    "executionInfo": {
     "elapsed": 7715,
     "status": "ok",
     "timestamp": 1606930845511,
     "user": {
      "displayName": "Alicia Germán",
      "photoUrl": "",
      "userId": "00608908109085749123"
     },
     "user_tz": -60
    },
    "id": "fyt0KPbC-QY_",
    "outputId": "1e4019ff-ed0d-4e32-c9f4-c6484fcf41e8"
   },
   "outputs": [
    {
     "data": {
      "text/plain": [
       "<matplotlib.axes._subplots.AxesSubplot at 0x7fb9daf3c630>"
      ]
     },
     "execution_count": 31,
     "metadata": {
      "tags": []
     },
     "output_type": "execute_result"
    },
    {
     "data": {
      "image/png": "[encoded data removed]",
      "text/plain": [
       "<Figure size 432x288 with 1 Axes>"
      ]
     },
     "metadata": {
      "needs_background": "light",
      "tags": []
     },
     "output_type": "display_data"
    }
   ],
   "source": [
    "dataset.boxplot(column=[\"fixed acidity\"])"
   ]
  },
  {
   "cell_type": "code",
   "execution_count": 32,
   "metadata": {
    "colab": {
     "base_uri": "https://localhost:8080/",
     "height": 386
    },
    "executionInfo": {
     "elapsed": 7687,
     "status": "ok",
     "timestamp": 1606930845513,
     "user": {
      "displayName": "Alicia Germán",
      "photoUrl": "",
      "userId": "00608908109085749123"
     },
     "user_tz": -60
    },
    "id": "aFQpLX8lAJiG",
    "outputId": "ee438f7b-4c7f-4be5-b41d-53a2c5073c4f"
   },
   "outputs": [
    {
     "data": {
      "text/plain": [
       "<seaborn.axisgrid.FacetGrid at 0x7fb9daf3c5f8>"
      ]
     },
     "execution_count": 32,
     "metadata": {
      "tags": []
     },
     "output_type": "execute_result"
    },
    {
     "data": {
      "image/png": "[encoded data removed]",
      "text/plain": [
       "<Figure size 360x360 with 1 Axes>"
      ]
     },
     "metadata": {
      "needs_background": "light",
      "tags": []
     },
     "output_type": "display_data"
    }
   ],
   "source": [
    "sns.displot(dataset[\"volatile acidity\"],kde=False,rug=True)"
   ]
  },
  {
   "cell_type": "code",
   "execution_count": 33,
   "metadata": {
    "colab": {
     "base_uri": "https://localhost:8080/",
     "height": 282
    },
    "executionInfo": {
     "elapsed": 7654,
     "status": "ok",
     "timestamp": 1606930845517,
     "user": {
      "displayName": "Alicia Germán",
      "photoUrl": "",
      "userId": "00608908109085749123"
     },
     "user_tz": -60
    },
    "id": "ak1q8NjdADHZ",
    "outputId": "41efaa10-a3e4-4fd2-ee3d-bc35fc499af1"
   },
   "outputs": [
    {
     "data": {
      "text/plain": [
       "<matplotlib.axes._subplots.AxesSubplot at 0x7fb9dab5a4a8>"
      ]
     },
     "execution_count": 33,
     "metadata": {
      "tags": []
     },
     "output_type": "execute_result"
    },
    {
     "data": {
      "image/png": "[encoded data removed]",
      "text/plain": [
       "<Figure size 432x288 with 1 Axes>"
      ]
     },
     "metadata": {
      "needs_background": "light",
      "tags": []
     },
     "output_type": "display_data"
    }
   ],
   "source": [
    "dataset.boxplot(column=[\"volatile acidity\"])"
   ]
  },
  {
   "cell_type": "code",
   "execution_count": 34,
   "metadata": {
    "colab": {
     "base_uri": "https://localhost:8080/"
    },
    "executionInfo": {
     "elapsed": 7624,
     "status": "ok",
     "timestamp": 1606930845519,
     "user": {
      "displayName": "Alicia Germán",
      "photoUrl": "",
      "userId": "00608908109085749123"
     },
     "user_tz": -60
    },
    "id": "PMT9NbmeAVcO",
    "outputId": "cc7f2ca6-6b1b-4ae7-a6d0-45bc264a2d7b"
   },
   "outputs": [
    {
     "name": "stdout",
     "output_type": "stream",
     "text": [
      "minimum:  0.08 Maximum:  1.1\n"
     ]
    }
   ],
   "source": [
    "print(\"minimum: \",np.amin(dataset[\"volatile acidity\"].values), \"Maximum: \", np.amax(dataset[\"volatile acidity\"].values))"
   ]
  },
  {
   "cell_type": "code",
   "execution_count": 35,
   "metadata": {
    "executionInfo": {
     "elapsed": 7615,
     "status": "ok",
     "timestamp": 1606930845521,
     "user": {
      "displayName": "Alicia Germán",
      "photoUrl": "",
      "userId": "00608908109085749123"
     },
     "user_tz": -60
    },
    "id": "Obr6b6D5x4K-"
   },
   "outputs": [],
   "source": [
    "dataset.loc[dataset['volatile acidity'] > 0.8,'volatile acidity']=0.8"
   ]
  },
  {
   "cell_type": "code",
   "execution_count": 36,
   "metadata": {
    "colab": {
     "base_uri": "https://localhost:8080/",
     "height": 282
    },
    "executionInfo": {
     "elapsed": 7578,
     "status": "ok",
     "timestamp": 1606930845523,
     "user": {
      "displayName": "Alicia Germán",
      "photoUrl": "",
      "userId": "00608908109085749123"
     },
     "user_tz": -60
    },
    "id": "XJnCEf3iA1vc",
    "outputId": "ddb2a3ef-77db-44d6-b20d-7226470f0c55"
   },
   "outputs": [
    {
     "data": {
      "text/plain": [
       "<matplotlib.axes._subplots.AxesSubplot at 0x7fb9daab0198>"
      ]
     },
     "execution_count": 36,
     "metadata": {
      "tags": []
     },
     "output_type": "execute_result"
    },
    {
     "data": {
      "image/png": "[encoded data removed]",
      "text/plain": [
       "<Figure size 432x288 with 1 Axes>"
      ]
     },
     "metadata": {
      "needs_background": "light",
      "tags": []
     },
     "output_type": "display_data"
    }
   ],
   "source": [
    "dataset.boxplot(column=[\"volatile acidity\"])"
   ]
  },
  {
   "cell_type": "code",
   "execution_count": 37,
   "metadata": {
    "colab": {
     "base_uri": "https://localhost:8080/",
     "height": 386
    },
    "executionInfo": {
     "elapsed": 7543,
     "status": "ok",
     "timestamp": 1606930845524,
     "user": {
      "displayName": "Alicia Germán",
      "photoUrl": "",
      "userId": "00608908109085749123"
     },
     "user_tz": -60
    },
    "id": "JKhHDZ6nCx6t",
    "outputId": "72310eac-0be1-46f9-a108-916ba7287db8"
   },
   "outputs": [
    {
     "data": {
      "text/plain": [
       "<seaborn.axisgrid.FacetGrid at 0x7fb9daa30f28>"
      ]
     },
     "execution_count": 37,
     "metadata": {
      "tags": []
     },
     "output_type": "execute_result"
    },
    {
     "data": {
      "image/png": "[encoded data removed]",
      "text/plain": [
       "<Figure size 360x360 with 1 Axes>"
      ]
     },
     "metadata": {
      "needs_background": "light",
      "tags": []
     },
     "output_type": "display_data"
    }
   ],
   "source": [
    "sns.displot(dataset[\"citric acid\"],kde=False,rug=True)"
   ]
  },
  {
   "cell_type": "code",
   "execution_count": 38,
   "metadata": {
    "colab": {
     "base_uri": "https://localhost:8080/",
     "height": 282
    },
    "executionInfo": {
     "elapsed": 8109,
     "status": "ok",
     "timestamp": 1606930846119,
     "user": {
      "displayName": "Alicia Germán",
      "photoUrl": "",
      "userId": "00608908109085749123"
     },
     "user_tz": -60
    },
    "id": "l_DduWTzCp7J",
    "outputId": "5889f411-6f8d-43c6-f501-e2b0d69c014d"
   },
   "outputs": [
    {
     "data": {
      "text/plain": [
       "<matplotlib.axes._subplots.AxesSubplot at 0x7fb9da647390>"
      ]
     },
     "execution_count": 38,
     "metadata": {
      "tags": []
     },
     "output_type": "execute_result"
    },
    {
     "data": {
      "image/png": "[encoded data removed]",
      "text/plain": [
       "<Figure size 432x288 with 1 Axes>"
      ]
     },
     "metadata": {
      "needs_background": "light",
      "tags": []
     },
     "output_type": "display_data"
    }
   ],
   "source": [
    "dataset.boxplot(column=[\"citric acid\"])"
   ]
  },
  {
   "cell_type": "code",
   "execution_count": 39,
   "metadata": {
    "colab": {
     "base_uri": "https://localhost:8080/"
    },
    "executionInfo": {
     "elapsed": 8086,
     "status": "ok",
     "timestamp": 1606930846121,
     "user": {
      "displayName": "Alicia Germán",
      "photoUrl": "",
      "userId": "00608908109085749123"
     },
     "user_tz": -60
    },
    "id": "MtQqkGGgH5KS",
    "outputId": "2c492e5a-5805-4e2d-e492-892c731526c8"
   },
   "outputs": [
    {
     "name": "stdout",
     "output_type": "stream",
     "text": [
      "minimum:  0.0 Maximum:  1.66\n"
     ]
    }
   ],
   "source": [
    "print(\"minimum: \",np.amin(dataset[\"citric acid\"].values), \"Maximum: \", np.amax(dataset[\"citric acid\"].values))"
   ]
  },
  {
   "cell_type": "code",
   "execution_count": 40,
   "metadata": {
    "executionInfo": {
     "elapsed": 8076,
     "status": "ok",
     "timestamp": 1606930846123,
     "user": {
      "displayName": "Alicia Germán",
      "photoUrl": "",
      "userId": "00608908109085749123"
     },
     "user_tz": -60
    },
    "id": "7fa2ylqzJDNY"
   },
   "outputs": [],
   "source": [
    "dataset.loc[dataset['citric acid'] > 0.75,'citric acid']=0.75"
   ]
  },
  {
   "cell_type": "code",
   "execution_count": 41,
   "metadata": {
    "colab": {
     "base_uri": "https://localhost:8080/",
     "height": 282
    },
    "executionInfo": {
     "elapsed": 8048,
     "status": "ok",
     "timestamp": 1606930846125,
     "user": {
      "displayName": "Alicia Germán",
      "photoUrl": "",
      "userId": "00608908109085749123"
     },
     "user_tz": -60
    },
    "id": "MKNtduliflOi",
    "outputId": "ef7c6d8a-ca04-4342-da27-729d29da0d47"
   },
   "outputs": [
    {
     "data": {
      "text/plain": [
       "<matplotlib.axes._subplots.AxesSubplot at 0x7fb9da617198>"
      ]
     },
     "execution_count": 41,
     "metadata": {
      "tags": []
     },
     "output_type": "execute_result"
    },
    {
     "data": {
      "image/png": "[encoded data removed]",
      "text/plain": [
       "<Figure size 432x288 with 1 Axes>"
      ]
     },
     "metadata": {
      "needs_background": "light",
      "tags": []
     },
     "output_type": "display_data"
    }
   ],
   "source": [
    "dataset.boxplot(column=[\"citric acid\"])"
   ]
  },
  {
   "cell_type": "code",
   "execution_count": 42,
   "metadata": {
    "colab": {
     "base_uri": "https://localhost:8080/",
     "height": 386
    },
    "executionInfo": {
     "elapsed": 8019,
     "status": "ok",
     "timestamp": 1606930846127,
     "user": {
      "displayName": "Alicia Germán",
      "photoUrl": "",
      "userId": "00608908109085749123"
     },
     "user_tz": -60
    },
    "id": "lKmuDZVZJxJ4",
    "outputId": "e39b38e4-223c-472a-9e1d-063d47d9b274"
   },
   "outputs": [
    {
     "data": {
      "text/plain": [
       "<seaborn.axisgrid.FacetGrid at 0x7fb9da584eb8>"
      ]
     },
     "execution_count": 42,
     "metadata": {
      "tags": []
     },
     "output_type": "execute_result"
    },
    {
     "data": {
      "image/png": "[encoded data removed]",
      "text/plain": [
       "<Figure size 360x360 with 1 Axes>"
      ]
     },
     "metadata": {
      "needs_background": "light",
      "tags": []
     },
     "output_type": "display_data"
    }
   ],
   "source": [
    "sns.displot(dataset[\"residual sugar\"],kde=False,rug=True)"
   ]
  },
  {
   "cell_type": "code",
   "execution_count": 43,
   "metadata": {
    "colab": {
     "base_uri": "https://localhost:8080/",
     "height": 282
    },
    "executionInfo": {
     "elapsed": 7994,
     "status": "ok",
     "timestamp": 1606930846131,
     "user": {
      "displayName": "Alicia Germán",
      "photoUrl": "",
      "userId": "00608908109085749123"
     },
     "user_tz": -60
    },
    "id": "cP7LyOfUJTH4",
    "outputId": "27436cbb-55f9-4e7c-f773-370062b7db2f"
   },
   "outputs": [
    {
     "data": {
      "text/plain": [
       "<matplotlib.axes._subplots.AxesSubplot at 0x7fb9da536b70>"
      ]
     },
     "execution_count": 43,
     "metadata": {
      "tags": []
     },
     "output_type": "execute_result"
    },
    {
     "data": {
      "image/png": "[encoded data removed]",
      "text/plain": [
       "<Figure size 432x288 with 1 Axes>"
      ]
     },
     "metadata": {
      "needs_background": "light",
      "tags": []
     },
     "output_type": "display_data"
    }
   ],
   "source": [
    "dataset.boxplot(column=[\"residual sugar\"])"
   ]
  },
  {
   "cell_type": "code",
   "execution_count": 44,
   "metadata": {
    "executionInfo": {
     "elapsed": 7987,
     "status": "ok",
     "timestamp": 1606930846133,
     "user": {
      "displayName": "Alicia Germán",
      "photoUrl": "",
      "userId": "00608908109085749123"
     },
     "user_tz": -60
    },
    "id": "dfy6tNZMJ5jf"
   },
   "outputs": [],
   "source": [
    "dataset.loc[dataset['residual sugar'] > 21,'residual sugar']=21"
   ]
  },
  {
   "cell_type": "code",
   "execution_count": 45,
   "metadata": {
    "colab": {
     "base_uri": "https://localhost:8080/",
     "height": 282
    },
    "executionInfo": {
     "elapsed": 8333,
     "status": "ok",
     "timestamp": 1606930846521,
     "user": {
      "displayName": "Alicia Germán",
      "photoUrl": "",
      "userId": "00608908109085749123"
     },
     "user_tz": -60
    },
    "id": "cB-LqahbgEYo",
    "outputId": "36c4a034-4905-42a1-8868-13a781104dc5"
   },
   "outputs": [
    {
     "data": {
      "text/plain": [
       "<matplotlib.axes._subplots.AxesSubplot at 0x7fb9da17a518>"
      ]
     },
     "execution_count": 45,
     "metadata": {
      "tags": []
     },
     "output_type": "execute_result"
    },
    {
     "data": {
      "image/png": "[encoded data removed]",
      "text/plain": [
       "<Figure size 432x288 with 1 Axes>"
      ]
     },
     "metadata": {
      "needs_background": "light",
      "tags": []
     },
     "output_type": "display_data"
    }
   ],
   "source": [
    "dataset.boxplot(column=[\"residual sugar\"])"
   ]
  },
  {
   "cell_type": "code",
   "execution_count": 46,
   "metadata": {
    "colab": {
     "base_uri": "https://localhost:8080/",
     "height": 386
    },
    "executionInfo": {
     "elapsed": 9343,
     "status": "ok",
     "timestamp": 1606930847559,
     "user": {
      "displayName": "Alicia Germán",
      "photoUrl": "",
      "userId": "00608908109085749123"
     },
     "user_tz": -60
    },
    "id": "Xuliej53NMhh",
    "outputId": "4a8e3bb7-ed66-4792-bb6d-1e6561f0169b"
   },
   "outputs": [
    {
     "data": {
      "text/plain": [
       "<seaborn.axisgrid.FacetGrid at 0x7fb9da1352e8>"
      ]
     },
     "execution_count": 46,
     "metadata": {
      "tags": []
     },
     "output_type": "execute_result"
    },
    {
     "data": {
      "image/png": "[encoded data removed]",
      "text/plain": [
       "<Figure size 360x360 with 1 Axes>"
      ]
     },
     "metadata": {
      "needs_background": "light",
      "tags": []
     },
     "output_type": "display_data"
    }
   ],
   "source": [
    "sns.displot(dataset[\"chlorides\"],kde=False,rug=True)"
   ]
  },
  {
   "cell_type": "code",
   "execution_count": 47,
   "metadata": {
    "colab": {
     "base_uri": "https://localhost:8080/",
     "height": 282
    },
    "executionInfo": {
     "elapsed": 12649,
     "status": "ok",
     "timestamp": 1606930850901,
     "user": {
      "displayName": "Alicia Germán",
      "photoUrl": "",
      "userId": "00608908109085749123"
     },
     "user_tz": -60
    },
    "id": "vGiqnnXuKSIA",
    "outputId": "ff033978-c344-446c-ef3c-087ef9890484"
   },
   "outputs": [
    {
     "data": {
      "text/plain": [
       "<matplotlib.axes._subplots.AxesSubplot at 0x7fb9d9c10208>"
      ]
     },
     "execution_count": 47,
     "metadata": {
      "tags": []
     },
     "output_type": "execute_result"
    },
    {
     "data": {
      "image/png": "[encoded data removed]",
      "text/plain": [
       "<Figure size 432x288 with 1 Axes>"
      ]
     },
     "metadata": {
      "needs_background": "light",
      "tags": []
     },
     "output_type": "display_data"
    }
   ],
   "source": [
    "dataset.boxplot(column=[\"chlorides\"])"
   ]
  },
  {
   "cell_type": "code",
   "execution_count": 48,
   "metadata": {
    "colab": {
     "base_uri": "https://localhost:8080/"
    },
    "executionInfo": {
     "elapsed": 12623,
     "status": "ok",
     "timestamp": 1606930850903,
     "user": {
      "displayName": "Alicia Germán",
      "photoUrl": "",
      "userId": "00608908109085749123"
     },
     "user_tz": -60
    },
    "id": "5G1LXOf3NVr6",
    "outputId": "0e463558-b1fd-4efc-bcc1-b9a1002b1ea7"
   },
   "outputs": [
    {
     "name": "stdout",
     "output_type": "stream",
     "text": [
      "minimum:  0.009000000000000001 Maximum:  0.34600000000000003\n"
     ]
    }
   ],
   "source": [
    "print(\"minimum: \",np.amin(dataset[\"chlorides\"].values), \"Maximum: \", np.amax(dataset[\"chlorides\"].values))"
   ]
  },
  {
   "cell_type": "code",
   "execution_count": 49,
   "metadata": {
    "executionInfo": {
     "elapsed": 12620,
     "status": "ok",
     "timestamp": 1606930850908,
     "user": {
      "displayName": "Alicia Germán",
      "photoUrl": "",
      "userId": "00608908109085749123"
     },
     "user_tz": -60
    },
    "id": "k-wC8L39NdWe"
   },
   "outputs": [],
   "source": [
    "dataset.loc[dataset['chlorides'] > 0.22,'chlorides']=0.22"
   ]
  },
  {
   "cell_type": "code",
   "execution_count": 50,
   "metadata": {
    "colab": {
     "base_uri": "https://localhost:8080/",
     "height": 282
    },
    "executionInfo": {
     "elapsed": 12591,
     "status": "ok",
     "timestamp": 1606930850910,
     "user": {
      "displayName": "Alicia Germán",
      "photoUrl": "",
      "userId": "00608908109085749123"
     },
     "user_tz": -60
    },
    "id": "uo4XfcsJgVdM",
    "outputId": "210f6f25-5e68-4792-81cf-ccbf0f39af4e"
   },
   "outputs": [
    {
     "data": {
      "text/plain": [
       "<matplotlib.axes._subplots.AxesSubplot at 0x7fb9d9bdf240>"
      ]
     },
     "execution_count": 50,
     "metadata": {
      "tags": []
     },
     "output_type": "execute_result"
    },
    {
     "data": {
      "image/png": "[encoded data removed]",
      "text/plain": [
       "<Figure size 432x288 with 1 Axes>"
      ]
     },
     "metadata": {
      "needs_background": "light",
      "tags": []
     },
     "output_type": "display_data"
    }
   ],
   "source": [
    "dataset.boxplot(column=[\"chlorides\"])"
   ]
  },
  {
   "cell_type": "code",
   "execution_count": 51,
   "metadata": {
    "colab": {
     "base_uri": "https://localhost:8080/",
     "height": 386
    },
    "executionInfo": {
     "elapsed": 12561,
     "status": "ok",
     "timestamp": 1606930850912,
     "user": {
      "displayName": "Alicia Germán",
      "photoUrl": "",
      "userId": "00608908109085749123"
     },
     "user_tz": -60
    },
    "id": "K0PYJmBTOeLU",
    "outputId": "09596791-d435-40b5-b588-d66afc7e3653"
   },
   "outputs": [
    {
     "data": {
      "text/plain": [
       "<seaborn.axisgrid.FacetGrid at 0x7fb9d9b81f60>"
      ]
     },
     "execution_count": 51,
     "metadata": {
      "tags": []
     },
     "output_type": "execute_result"
    },
    {
     "data": {
      "image/png": "[encoded data removed]",
      "text/plain": [
       "<Figure size 360x360 with 1 Axes>"
      ]
     },
     "metadata": {
      "needs_background": "light",
      "tags": []
     },
     "output_type": "display_data"
    }
   ],
   "source": [
    "sns.displot(dataset[\"free sulfur dioxide\"],kde=False,rug=True)"
   ]
  },
  {
   "cell_type": "code",
   "execution_count": 52,
   "metadata": {
    "colab": {
     "base_uri": "https://localhost:8080/",
     "height": 284
    },
    "executionInfo": {
     "elapsed": 13219,
     "status": "ok",
     "timestamp": 1606930851611,
     "user": {
      "displayName": "Alicia Germán",
      "photoUrl": "",
      "userId": "00608908109085749123"
     },
     "user_tz": -60
    },
    "id": "Ul76VrCpOTyJ",
    "outputId": "7627e563-d2ca-467e-9d93-a56f3b652d95"
   },
   "outputs": [
    {
     "data": {
      "text/plain": [
       "<matplotlib.axes._subplots.AxesSubplot at 0x7fb9d974efd0>"
      ]
     },
     "execution_count": 52,
     "metadata": {
      "tags": []
     },
     "output_type": "execute_result"
    },
    {
     "data": {
      "image/png": "[encoded data removed]",
      "text/plain": [
       "<Figure size 432x288 with 1 Axes>"
      ]
     },
     "metadata": {
      "needs_background": "light",
      "tags": []
     },
     "output_type": "display_data"
    }
   ],
   "source": [
    "dataset.boxplot(column=[\"free sulfur dioxide\"])"
   ]
  },
  {
   "cell_type": "code",
   "execution_count": 53,
   "metadata": {
    "executionInfo": {
     "elapsed": 13202,
     "status": "ok",
     "timestamp": 1606930851613,
     "user": {
      "displayName": "Alicia Germán",
      "photoUrl": "",
      "userId": "00608908109085749123"
     },
     "user_tz": -60
    },
    "id": "1gkivqt6Om74"
   },
   "outputs": [],
   "source": [
    "dataset.loc[dataset['free sulfur dioxide'] > 130,'free sulfur dioxide']=130"
   ]
  },
  {
   "cell_type": "code",
   "execution_count": 54,
   "metadata": {
    "colab": {
     "base_uri": "https://localhost:8080/",
     "height": 282
    },
    "executionInfo": {
     "elapsed": 13157,
     "status": "ok",
     "timestamp": 1606930851615,
     "user": {
      "displayName": "Alicia Germán",
      "photoUrl": "",
      "userId": "00608908109085749123"
     },
     "user_tz": -60
    },
    "id": "4_eVONdigxOB",
    "outputId": "d1e3bdab-deb5-4a33-8e2e-dba4521374f6"
   },
   "outputs": [
    {
     "data": {
      "text/plain": [
       "<matplotlib.axes._subplots.AxesSubplot at 0x7fb9d976ca20>"
      ]
     },
     "execution_count": 54,
     "metadata": {
      "tags": []
     },
     "output_type": "execute_result"
    },
    {
     "data": {
      "image/png": "[encoded data removed]",
      "text/plain": [
       "<Figure size 432x288 with 1 Axes>"
      ]
     },
     "metadata": {
      "needs_background": "light",
      "tags": []
     },
     "output_type": "display_data"
    }
   ],
   "source": [
    "dataset.boxplot(column=[\"free sulfur dioxide\"])"
   ]
  },
  {
   "cell_type": "code",
   "execution_count": 55,
   "metadata": {
    "colab": {
     "base_uri": "https://localhost:8080/",
     "height": 386
    },
    "executionInfo": {
     "elapsed": 13133,
     "status": "ok",
     "timestamp": 1606930851617,
     "user": {
      "displayName": "Alicia Germán",
      "photoUrl": "",
      "userId": "00608908109085749123"
     },
     "user_tz": -60
    },
    "id": "qhzwcDxpPiVZ",
    "outputId": "e78c45d4-f05e-4169-ac7a-a3016954fa60"
   },
   "outputs": [
    {
     "data": {
      "text/plain": [
       "<seaborn.axisgrid.FacetGrid at 0x7fb9d967c828>"
      ]
     },
     "execution_count": 55,
     "metadata": {
      "tags": []
     },
     "output_type": "execute_result"
    },
    {
     "data": {
      "image/png": "[encoded data removed]",
      "text/plain": [
       "<Figure size 360x360 with 1 Axes>"
      ]
     },
     "metadata": {
      "needs_background": "light",
      "tags": []
     },
     "output_type": "display_data"
    }
   ],
   "source": [
    "sns.displot(dataset[\"total sulfur dioxide\"],kde=False,rug=True)"
   ]
  },
  {
   "cell_type": "code",
   "execution_count": 56,
   "metadata": {
    "colab": {
     "base_uri": "https://localhost:8080/",
     "height": 282
    },
    "executionInfo": {
     "elapsed": 13109,
     "status": "ok",
     "timestamp": 1606930851618,
     "user": {
      "displayName": "Alicia Germán",
      "photoUrl": "",
      "userId": "00608908109085749123"
     },
     "user_tz": -60
    },
    "id": "GAhNBCCmPUn2",
    "outputId": "a0cc9df9-1867-4dc5-b6ac-9a2dcdbf4909"
   },
   "outputs": [
    {
     "data": {
      "text/plain": [
       "<matplotlib.axes._subplots.AxesSubplot at 0x7fb9d931e208>"
      ]
     },
     "execution_count": 56,
     "metadata": {
      "tags": []
     },
     "output_type": "execute_result"
    },
    {
     "data": {
      "image/png": "[encoded data removed]",
      "text/plain": [
       "<Figure size 432x288 with 1 Axes>"
      ]
     },
     "metadata": {
      "needs_background": "light",
      "tags": []
     },
     "output_type": "display_data"
    }
   ],
   "source": [
    "dataset.boxplot(column=[\"total sulfur dioxide\"])"
   ]
  },
  {
   "cell_type": "code",
   "execution_count": 57,
   "metadata": {
    "executionInfo": {
     "elapsed": 13104,
     "status": "ok",
     "timestamp": 1606930851621,
     "user": {
      "displayName": "Alicia Germán",
      "photoUrl": "",
      "userId": "00608908109085749123"
     },
     "user_tz": -60
    },
    "id": "MjS1WlFfPv7q"
   },
   "outputs": [],
   "source": [
    "dataset.loc[dataset['total sulfur dioxide'] > 320,'total sulfur dioxide']=320"
   ]
  },
  {
   "cell_type": "code",
   "execution_count": 58,
   "metadata": {
    "executionInfo": {
     "elapsed": 13096,
     "status": "ok",
     "timestamp": 1606930851622,
     "user": {
      "displayName": "Alicia Germán",
      "photoUrl": "",
      "userId": "00608908109085749123"
     },
     "user_tz": -60
    },
    "id": "1-jzQEb1QGr2"
   },
   "outputs": [],
   "source": [
    "dataset.loc[dataset['total sulfur dioxide'] < 15,'total sulfur dioxide']=15"
   ]
  },
  {
   "cell_type": "code",
   "execution_count": 59,
   "metadata": {
    "colab": {
     "base_uri": "https://localhost:8080/",
     "height": 282
    },
    "executionInfo": {
     "elapsed": 13052,
     "status": "ok",
     "timestamp": 1606930851623,
     "user": {
      "displayName": "Alicia Germán",
      "photoUrl": "",
      "userId": "00608908109085749123"
     },
     "user_tz": -60
    },
    "id": "H7jU8bfQg_2p",
    "outputId": "09c43253-120f-4835-ed71-65d6964cdd5d"
   },
   "outputs": [
    {
     "data": {
      "text/plain": [
       "<matplotlib.axes._subplots.AxesSubplot at 0x7fb9d92e2cc0>"
      ]
     },
     "execution_count": 59,
     "metadata": {
      "tags": []
     },
     "output_type": "execute_result"
    },
    {
     "data": {
      "image/png": "[encoded data removed]",
      "text/plain": [
       "<Figure size 432x288 with 1 Axes>"
      ]
     },
     "metadata": {
      "needs_background": "light",
      "tags": []
     },
     "output_type": "display_data"
    }
   ],
   "source": [
    "dataset.boxplot(column=[\"total sulfur dioxide\"])"
   ]
  },
  {
   "cell_type": "code",
   "execution_count": 60,
   "metadata": {
    "colab": {
     "base_uri": "https://localhost:8080/",
     "height": 386
    },
    "executionInfo": {
     "elapsed": 12977,
     "status": "ok",
     "timestamp": 1606930851625,
     "user": {
      "displayName": "Alicia Germán",
      "photoUrl": "",
      "userId": "00608908109085749123"
     },
     "user_tz": -60
    },
    "id": "6ICBVfO6QwPH",
    "outputId": "33397a2f-ea03-46ee-b079-62da697914b9"
   },
   "outputs": [
    {
     "data": {
      "text/plain": [
       "<seaborn.axisgrid.FacetGrid at 0x7fb9d9274978>"
      ]
     },
     "execution_count": 60,
     "metadata": {
      "tags": []
     },
     "output_type": "execute_result"
    },
    {
     "data": {
      "image/png": "[encoded data removed]",
      "text/plain": [
       "<Figure size 360x360 with 1 Axes>"
      ]
     },
     "metadata": {
      "needs_background": "light",
      "tags": []
     },
     "output_type": "display_data"
    }
   ],
   "source": [
    "sns.displot(dataset[\"density\"],kde=False,rug=True)"
   ]
  },
  {
   "cell_type": "code",
   "execution_count": 61,
   "metadata": {
    "colab": {
     "base_uri": "https://localhost:8080/",
     "height": 282
    },
    "executionInfo": {
     "elapsed": 12934,
     "status": "ok",
     "timestamp": 1606930851628,
     "user": {
      "displayName": "Alicia Germán",
      "photoUrl": "",
      "userId": "00608908109085749123"
     },
     "user_tz": -60
    },
    "id": "KqkAKGobQq7J",
    "outputId": "fff16acb-ae3d-4059-9c44-cfed10d7f1f7"
   },
   "outputs": [
    {
     "data": {
      "text/plain": [
       "<matplotlib.axes._subplots.AxesSubplot at 0x7fb9d8e472b0>"
      ]
     },
     "execution_count": 61,
     "metadata": {
      "tags": []
     },
     "output_type": "execute_result"
    },
    {
     "data": {
      "image/png": "[encoded data removed]",
      "text/plain": [
       "<Figure size 432x288 with 1 Axes>"
      ]
     },
     "metadata": {
      "needs_background": "light",
      "tags": []
     },
     "output_type": "display_data"
    }
   ],
   "source": [
    "dataset.boxplot(column=[\"density\"])"
   ]
  },
  {
   "cell_type": "code",
   "execution_count": 62,
   "metadata": {
    "executionInfo": {
     "elapsed": 12927,
     "status": "ok",
     "timestamp": 1606930851630,
     "user": {
      "displayName": "Alicia Germán",
      "photoUrl": "",
      "userId": "00608908109085749123"
     },
     "user_tz": -60
    },
    "id": "D4Zp4hukQ3aE"
   },
   "outputs": [],
   "source": [
    "dataset.loc[dataset['density'] > 1.0025,'density']=1.0025"
   ]
  },
  {
   "cell_type": "code",
   "execution_count": 63,
   "metadata": {
    "colab": {
     "base_uri": "https://localhost:8080/",
     "height": 282
    },
    "executionInfo": {
     "elapsed": 12883,
     "status": "ok",
     "timestamp": 1606930851631,
     "user": {
      "displayName": "Alicia Germán",
      "photoUrl": "",
      "userId": "00608908109085749123"
     },
     "user_tz": -60
    },
    "id": "-TJI4PtIhMBK",
    "outputId": "69a97e0f-51cc-48da-bd2a-af1d7fb72ad9"
   },
   "outputs": [
    {
     "data": {
      "text/plain": [
       "<matplotlib.axes._subplots.AxesSubplot at 0x7fb9d925c048>"
      ]
     },
     "execution_count": 63,
     "metadata": {
      "tags": []
     },
     "output_type": "execute_result"
    },
    {
     "data": {
      "image/png": "[encoded data removed]",
      "text/plain": [
       "<Figure size 432x288 with 1 Axes>"
      ]
     },
     "metadata": {
      "needs_background": "light",
      "tags": []
     },
     "output_type": "display_data"
    }
   ],
   "source": [
    "dataset.boxplot(column=[\"density\"])"
   ]
  },
  {
   "cell_type": "code",
   "execution_count": 64,
   "metadata": {
    "colab": {
     "base_uri": "https://localhost:8080/",
     "height": 386
    },
    "executionInfo": {
     "elapsed": 12852,
     "status": "ok",
     "timestamp": 1606930851634,
     "user": {
      "displayName": "Alicia Germán",
      "photoUrl": "",
      "userId": "00608908109085749123"
     },
     "user_tz": -60
    },
    "id": "zDfauQ1rRU0X",
    "outputId": "5ff0acb0-32fc-42df-cbdf-237394919de8"
   },
   "outputs": [
    {
     "data": {
      "text/plain": [
       "<seaborn.axisgrid.FacetGrid at 0x7fb9d8dbfd30>"
      ]
     },
     "execution_count": 64,
     "metadata": {
      "tags": []
     },
     "output_type": "execute_result"
    },
    {
     "data": {
      "image/png": "[encoded data removed]",
      "text/plain": [
       "<Figure size 360x360 with 1 Axes>"
      ]
     },
     "metadata": {
      "needs_background": "light",
      "tags": []
     },
     "output_type": "display_data"
    }
   ],
   "source": [
    "sns.displot(dataset[\"pH\"],kde=False,rug=True)"
   ]
  },
  {
   "cell_type": "code",
   "execution_count": 65,
   "metadata": {
    "colab": {
     "base_uri": "https://localhost:8080/",
     "height": 282
    },
    "executionInfo": {
     "elapsed": 12817,
     "status": "ok",
     "timestamp": 1606930851637,
     "user": {
      "displayName": "Alicia Germán",
      "photoUrl": "",
      "userId": "00608908109085749123"
     },
     "user_tz": -60
    },
    "id": "1FxmIxjbRHVV",
    "outputId": "b05f30cf-af52-4624-d46b-26c8d1770ac0"
   },
   "outputs": [
    {
     "data": {
      "text/plain": [
       "<matplotlib.axes._subplots.AxesSubplot at 0x7fb9d8a61b70>"
      ]
     },
     "execution_count": 65,
     "metadata": {
      "tags": []
     },
     "output_type": "execute_result"
    },
    {
     "data": {
      "image/png": "[encoded data removed]",
      "text/plain": [
       "<Figure size 432x288 with 1 Axes>"
      ]
     },
     "metadata": {
      "needs_background": "light",
      "tags": []
     },
     "output_type": "display_data"
    }
   ],
   "source": [
    "dataset.boxplot(column=[\"pH\"])"
   ]
  },
  {
   "cell_type": "code",
   "execution_count": 66,
   "metadata": {
    "executionInfo": {
     "elapsed": 12812,
     "status": "ok",
     "timestamp": 1606930851639,
     "user": {
      "displayName": "Alicia Germán",
      "photoUrl": "",
      "userId": "00608908109085749123"
     },
     "user_tz": -60
    },
    "id": "aETNOj2K2GF9"
   },
   "outputs": [],
   "source": [
    "dataset.loc[dataset['pH'] < 2.8,'pH']=2.8"
   ]
  },
  {
   "cell_type": "code",
   "execution_count": 67,
   "metadata": {
    "colab": {
     "base_uri": "https://localhost:8080/",
     "height": 282
    },
    "executionInfo": {
     "elapsed": 12798,
     "status": "ok",
     "timestamp": 1606930851641,
     "user": {
      "displayName": "Alicia Germán",
      "photoUrl": "",
      "userId": "00608908109085749123"
     },
     "user_tz": -60
    },
    "id": "CNjTIoQb2Km7",
    "outputId": "8b0524e5-d5ef-459e-9ac3-90f9c82d1a6b"
   },
   "outputs": [
    {
     "data": {
      "text/plain": [
       "<matplotlib.axes._subplots.AxesSubplot at 0x7fb9d9581400>"
      ]
     },
     "execution_count": 67,
     "metadata": {
      "tags": []
     },
     "output_type": "execute_result"
    },
    {
     "data": {
      "image/png": "[encoded data removed]",
      "text/plain": [
       "<Figure size 432x288 with 1 Axes>"
      ]
     },
     "metadata": {
      "needs_background": "light",
      "tags": []
     },
     "output_type": "display_data"
    }
   ],
   "source": [
    "dataset.boxplot(column=[\"pH\"])"
   ]
  },
  {
   "cell_type": "code",
   "execution_count": 68,
   "metadata": {
    "colab": {
     "base_uri": "https://localhost:8080/",
     "height": 386
    },
    "executionInfo": {
     "elapsed": 13604,
     "status": "ok",
     "timestamp": 1606930852463,
     "user": {
      "displayName": "Alicia Germán",
      "photoUrl": "",
      "userId": "00608908109085749123"
     },
     "user_tz": -60
    },
    "id": "N7IyJqNSRyqQ",
    "outputId": "ccbe05cf-78c9-41da-f09a-cdd956af4d96"
   },
   "outputs": [
    {
     "data": {
      "text/plain": [
       "<seaborn.axisgrid.FacetGrid at 0x7fb9d89c89b0>"
      ]
     },
     "execution_count": 68,
     "metadata": {
      "tags": []
     },
     "output_type": "execute_result"
    },
    {
     "data": {
      "image/png": "[encoded data removed]",
      "text/plain": [
       "<Figure size 360x360 with 1 Axes>"
      ]
     },
     "metadata": {
      "needs_background": "light",
      "tags": []
     },
     "output_type": "display_data"
    }
   ],
   "source": [
    "sns.displot(dataset[\"sulphates\"],kde=False,rug=True)"
   ]
  },
  {
   "cell_type": "code",
   "execution_count": 69,
   "metadata": {
    "colab": {
     "base_uri": "https://localhost:8080/",
     "height": 282
    },
    "executionInfo": {
     "elapsed": 13589,
     "status": "ok",
     "timestamp": 1606930852465,
     "user": {
      "displayName": "Alicia Germán",
      "photoUrl": "",
      "userId": "00608908109085749123"
     },
     "user_tz": -60
    },
    "id": "LYFMxG7kRlt_",
    "outputId": "7d271e35-3e60-447d-ad43-ecfb025821f9"
   },
   "outputs": [
    {
     "data": {
      "text/plain": [
       "<matplotlib.axes._subplots.AxesSubplot at 0x7fb9d8944710>"
      ]
     },
     "execution_count": 69,
     "metadata": {
      "tags": []
     },
     "output_type": "execute_result"
    },
    {
     "data": {
      "image/png": "[encoded data removed]",
      "text/plain": [
       "<Figure size 432x288 with 1 Axes>"
      ]
     },
     "metadata": {
      "needs_background": "light",
      "tags": []
     },
     "output_type": "display_data"
    }
   ],
   "source": [
    "dataset.boxplot(column=[\"sulphates\"])"
   ]
  },
  {
   "cell_type": "code",
   "execution_count": 70,
   "metadata": {
    "executionInfo": {
     "elapsed": 13586,
     "status": "ok",
     "timestamp": 1606930852468,
     "user": {
      "displayName": "Alicia Germán",
      "photoUrl": "",
      "userId": "00608908109085749123"
     },
     "user_tz": -60
    },
    "id": "X35y2-3_R4Hc"
   },
   "outputs": [],
   "source": [
    "dataset.loc[dataset['sulphates'] > 1,'sulphates']=1"
   ]
  },
  {
   "cell_type": "code",
   "execution_count": 71,
   "metadata": {
    "colab": {
     "base_uri": "https://localhost:8080/",
     "height": 282
    },
    "executionInfo": {
     "elapsed": 13569,
     "status": "ok",
     "timestamp": 1606930852469,
     "user": {
      "displayName": "Alicia Germán",
      "photoUrl": "",
      "userId": "00608908109085749123"
     },
     "user_tz": -60
    },
    "id": "HNBCmzsMiYvK",
    "outputId": "acbc41e2-1cfa-406f-f449-880427f7c163"
   },
   "outputs": [
    {
     "data": {
      "text/plain": [
       "<matplotlib.axes._subplots.AxesSubplot at 0x7fb9d856e7b8>"
      ]
     },
     "execution_count": 71,
     "metadata": {
      "tags": []
     },
     "output_type": "execute_result"
    },
    {
     "data": {
      "image/png": "[encoded data removed]",
      "text/plain": [
       "<Figure size 432x288 with 1 Axes>"
      ]
     },
     "metadata": {
      "needs_background": "light",
      "tags": []
     },
     "output_type": "display_data"
    }
   ],
   "source": [
    "dataset.boxplot(column=[\"sulphates\"])"
   ]
  },
  {
   "cell_type": "code",
   "execution_count": 72,
   "metadata": {
    "colab": {
     "base_uri": "https://localhost:8080/",
     "height": 386
    },
    "executionInfo": {
     "elapsed": 14046,
     "status": "ok",
     "timestamp": 1606930852961,
     "user": {
      "displayName": "Alicia Germán",
      "photoUrl": "",
      "userId": "00608908109085749123"
     },
     "user_tz": -60
    },
    "id": "vmWVPQDiSOQP",
    "outputId": "9e4ec3c8-a370-4c53-9139-9f39e93396ea"
   },
   "outputs": [
    {
     "data": {
      "text/plain": [
       "<seaborn.axisgrid.FacetGrid at 0x7fb9d85aca20>"
      ]
     },
     "execution_count": 72,
     "metadata": {
      "tags": []
     },
     "output_type": "execute_result"
    },
    {
     "data": {
      "image/png": "[encoded data removed]",
      "text/plain": [
       "<Figure size 360x360 with 1 Axes>"
      ]
     },
     "metadata": {
      "needs_background": "light",
      "tags": []
     },
     "output_type": "display_data"
    }
   ],
   "source": [
    "sns.displot(dataset[\"alcohol\"],kde=False,rug=True)"
   ]
  },
  {
   "cell_type": "code",
   "execution_count": 73,
   "metadata": {
    "colab": {
     "base_uri": "https://localhost:8080/",
     "height": 282
    },
    "executionInfo": {
     "elapsed": 14032,
     "status": "ok",
     "timestamp": 1606930852963,
     "user": {
      "displayName": "Alicia Germán",
      "photoUrl": "",
      "userId": "00608908109085749123"
     },
     "user_tz": -60
    },
    "id": "CuzumkXrSFpi",
    "outputId": "07a0a638-da1d-4392-8a00-1e59cc9d2ccc"
   },
   "outputs": [
    {
     "data": {
      "text/plain": [
       "<matplotlib.axes._subplots.AxesSubplot at 0x7fb9d8221e80>"
      ]
     },
     "execution_count": 73,
     "metadata": {
      "tags": []
     },
     "output_type": "execute_result"
    },
    {
     "data": {
      "image/png": "[encoded data removed]",
      "text/plain": [
       "<Figure size 432x288 with 1 Axes>"
      ]
     },
     "metadata": {
      "needs_background": "light",
      "tags": []
     },
     "output_type": "display_data"
    }
   ],
   "source": [
    "dataset.boxplot(column=[\"alcohol\"])"
   ]
  },
  {
   "cell_type": "code",
   "execution_count": 74,
   "metadata": {
    "colab": {
     "base_uri": "https://localhost:8080/",
     "height": 445
    },
    "executionInfo": {
     "elapsed": 14005,
     "status": "ok",
     "timestamp": 1606930852966,
     "user": {
      "displayName": "Alicia Germán",
      "photoUrl": "",
      "userId": "00608908109085749123"
     },
     "user_tz": -60
    },
    "id": "SskNmL3pSle5",
    "outputId": "c65a44ae-c383-4396-b7dd-ec27dd3efc74"
   },
   "outputs": [
    {
     "data": {
      "text/plain": [
       "<matplotlib.axes._subplots.AxesSubplot at 0x7fb9d81818d0>"
      ]
     },
     "execution_count": 74,
     "metadata": {
      "tags": []
     },
     "output_type": "execute_result"
    },
    {
     "data": {
      "image/png": "[encoded data removed]",
      "text/plain": [
       "<Figure size 1440x504 with 1 Axes>"
      ]
     },
     "metadata": {
      "needs_background": "light",
      "tags": []
     },
     "output_type": "display_data"
    }
   ],
   "source": [
    "standardized_ds = pd.DataFrame (minmax_scale (dataset.drop (columns=\"quality\"), axis=0, copy=True),columns=dataset.drop (columns=\"quality\").columns) \n",
    "standardized_ds.boxplot(figsize=(20,7))"
   ]
  },
  {
   "cell_type": "markdown",
   "metadata": {
    "id": "xiWcMNPMmCQq"
   },
   "source": [
    "Let's see the **correlation matrix** and **descriptive statistics** on the dataset:"
   ]
  },
  {
   "cell_type": "code",
   "execution_count": 75,
   "metadata": {
    "colab": {
     "base_uri": "https://localhost:8080/",
     "height": 472
    },
    "executionInfo": {
     "elapsed": 14426,
     "status": "ok",
     "timestamp": 1606930853402,
     "user": {
      "displayName": "Alicia Germán",
      "photoUrl": "",
      "userId": "00608908109085749123"
     },
     "user_tz": -60
    },
    "id": "VWApQK2lmFkB",
    "outputId": "55b18b51-b405-4189-a620-eb19f1e2a1eb"
   },
   "outputs": [
    {
     "data": {
      "text/html": [
       "<div>\n",
       "<style scoped>\n",
       "    .dataframe tbody tr th:only-of-type {\n",
       "        vertical-align: middle;\n",
       "    }\n",
       "\n",
       "    .dataframe tbody tr th {\n",
       "        vertical-align: top;\n",
       "    }\n",
       "\n",
       "    .dataframe thead th {\n",
       "        text-align: right;\n",
       "    }\n",
       "</style>\n",
       "<table border=\"1\" class=\"dataframe\">\n",
       "  <thead>\n",
       "    <tr style=\"text-align: right;\">\n",
       "      <th></th>\n",
       "      <th>fixed acidity</th>\n",
       "      <th>volatile acidity</th>\n",
       "      <th>citric acid</th>\n",
       "      <th>residual sugar</th>\n",
       "      <th>chlorides</th>\n",
       "      <th>free sulfur dioxide</th>\n",
       "      <th>total sulfur dioxide</th>\n",
       "      <th>density</th>\n",
       "      <th>pH</th>\n",
       "      <th>sulphates</th>\n",
       "      <th>alcohol</th>\n",
       "      <th>quality</th>\n",
       "    </tr>\n",
       "  </thead>\n",
       "  <tbody>\n",
       "    <tr>\n",
       "      <th>fixed acidity</th>\n",
       "      <td>1.000000</td>\n",
       "      <td>-0.025947</td>\n",
       "      <td>0.295449</td>\n",
       "      <td>0.089443</td>\n",
       "      <td>0.023874</td>\n",
       "      <td>-0.048303</td>\n",
       "      <td>0.091672</td>\n",
       "      <td>0.270610</td>\n",
       "      <td>-0.427152</td>\n",
       "      <td>-0.018590</td>\n",
       "      <td>-0.121566</td>\n",
       "      <td>-0.113093</td>\n",
       "    </tr>\n",
       "    <tr>\n",
       "      <th>volatile acidity</th>\n",
       "      <td>-0.025947</td>\n",
       "      <td>1.000000</td>\n",
       "      <td>-0.158325</td>\n",
       "      <td>0.052522</td>\n",
       "      <td>0.065871</td>\n",
       "      <td>-0.098734</td>\n",
       "      <td>0.089333</td>\n",
       "      <td>0.008482</td>\n",
       "      <td>-0.033048</td>\n",
       "      <td>-0.036767</td>\n",
       "      <td>0.067753</td>\n",
       "      <td>-0.193834</td>\n",
       "    </tr>\n",
       "    <tr>\n",
       "      <th>citric acid</th>\n",
       "      <td>0.295449</td>\n",
       "      <td>-0.158325</td>\n",
       "      <td>1.000000</td>\n",
       "      <td>0.093756</td>\n",
       "      <td>0.118614</td>\n",
       "      <td>0.098521</td>\n",
       "      <td>0.122959</td>\n",
       "      <td>0.153653</td>\n",
       "      <td>-0.167566</td>\n",
       "      <td>0.066402</td>\n",
       "      <td>-0.081920</td>\n",
       "      <td>-0.008669</td>\n",
       "    </tr>\n",
       "    <tr>\n",
       "      <th>residual sugar</th>\n",
       "      <td>0.089443</td>\n",
       "      <td>0.052522</td>\n",
       "      <td>0.093756</td>\n",
       "      <td>1.000000</td>\n",
       "      <td>0.089429</td>\n",
       "      <td>0.316174</td>\n",
       "      <td>0.409439</td>\n",
       "      <td>0.832960</td>\n",
       "      <td>-0.199547</td>\n",
       "      <td>-0.029132</td>\n",
       "      <td>-0.459703</td>\n",
       "      <td>-0.099631</td>\n",
       "    </tr>\n",
       "    <tr>\n",
       "      <th>chlorides</th>\n",
       "      <td>0.023874</td>\n",
       "      <td>0.065871</td>\n",
       "      <td>0.118614</td>\n",
       "      <td>0.089429</td>\n",
       "      <td>1.000000</td>\n",
       "      <td>0.105794</td>\n",
       "      <td>0.202571</td>\n",
       "      <td>0.267628</td>\n",
       "      <td>-0.092073</td>\n",
       "      <td>0.014746</td>\n",
       "      <td>-0.371390</td>\n",
       "      <td>-0.213545</td>\n",
       "    </tr>\n",
       "    <tr>\n",
       "      <th>free sulfur dioxide</th>\n",
       "      <td>-0.048303</td>\n",
       "      <td>-0.098734</td>\n",
       "      <td>0.098521</td>\n",
       "      <td>0.316174</td>\n",
       "      <td>0.105794</td>\n",
       "      <td>1.000000</td>\n",
       "      <td>0.613698</td>\n",
       "      <td>0.314066</td>\n",
       "      <td>-0.004344</td>\n",
       "      <td>0.058260</td>\n",
       "      <td>-0.255618</td>\n",
       "      <td>0.015571</td>\n",
       "    </tr>\n",
       "    <tr>\n",
       "      <th>total sulfur dioxide</th>\n",
       "      <td>0.091672</td>\n",
       "      <td>0.089333</td>\n",
       "      <td>0.122959</td>\n",
       "      <td>0.409439</td>\n",
       "      <td>0.202571</td>\n",
       "      <td>0.613698</td>\n",
       "      <td>1.000000</td>\n",
       "      <td>0.544759</td>\n",
       "      <td>0.001533</td>\n",
       "      <td>0.134080</td>\n",
       "      <td>-0.451026</td>\n",
       "      <td>-0.172976</td>\n",
       "    </tr>\n",
       "    <tr>\n",
       "      <th>density</th>\n",
       "      <td>0.270610</td>\n",
       "      <td>0.008482</td>\n",
       "      <td>0.153653</td>\n",
       "      <td>0.832960</td>\n",
       "      <td>0.267628</td>\n",
       "      <td>0.314066</td>\n",
       "      <td>0.544759</td>\n",
       "      <td>1.000000</td>\n",
       "      <td>-0.099240</td>\n",
       "      <td>0.073459</td>\n",
       "      <td>-0.802902</td>\n",
       "      <td>-0.316225</td>\n",
       "    </tr>\n",
       "    <tr>\n",
       "      <th>pH</th>\n",
       "      <td>-0.427152</td>\n",
       "      <td>-0.033048</td>\n",
       "      <td>-0.167566</td>\n",
       "      <td>-0.199547</td>\n",
       "      <td>-0.092073</td>\n",
       "      <td>-0.004344</td>\n",
       "      <td>0.001533</td>\n",
       "      <td>-0.099240</td>\n",
       "      <td>1.000000</td>\n",
       "      <td>0.156157</td>\n",
       "      <td>0.121428</td>\n",
       "      <td>0.099493</td>\n",
       "    </tr>\n",
       "    <tr>\n",
       "      <th>sulphates</th>\n",
       "      <td>-0.018590</td>\n",
       "      <td>-0.036767</td>\n",
       "      <td>0.066402</td>\n",
       "      <td>-0.029132</td>\n",
       "      <td>0.014746</td>\n",
       "      <td>0.058260</td>\n",
       "      <td>0.134080</td>\n",
       "      <td>0.073459</td>\n",
       "      <td>0.156157</td>\n",
       "      <td>1.000000</td>\n",
       "      <td>-0.017732</td>\n",
       "      <td>0.053548</td>\n",
       "    </tr>\n",
       "    <tr>\n",
       "      <th>alcohol</th>\n",
       "      <td>-0.121566</td>\n",
       "      <td>0.067753</td>\n",
       "      <td>-0.081920</td>\n",
       "      <td>-0.459703</td>\n",
       "      <td>-0.371390</td>\n",
       "      <td>-0.255618</td>\n",
       "      <td>-0.451026</td>\n",
       "      <td>-0.802902</td>\n",
       "      <td>0.121428</td>\n",
       "      <td>-0.017732</td>\n",
       "      <td>1.000000</td>\n",
       "      <td>0.435575</td>\n",
       "    </tr>\n",
       "    <tr>\n",
       "      <th>quality</th>\n",
       "      <td>-0.113093</td>\n",
       "      <td>-0.193834</td>\n",
       "      <td>-0.008669</td>\n",
       "      <td>-0.099631</td>\n",
       "      <td>-0.213545</td>\n",
       "      <td>0.015571</td>\n",
       "      <td>-0.172976</td>\n",
       "      <td>-0.316225</td>\n",
       "      <td>0.099493</td>\n",
       "      <td>0.053548</td>\n",
       "      <td>0.435575</td>\n",
       "      <td>1.000000</td>\n",
       "    </tr>\n",
       "  </tbody>\n",
       "</table>\n",
       "</div>"
      ],
      "text/plain": [
       "                      fixed acidity  volatile acidity  ...   alcohol   quality\n",
       "fixed acidity              1.000000         -0.025947  ... -0.121566 -0.113093\n",
       "volatile acidity          -0.025947          1.000000  ...  0.067753 -0.193834\n",
       "citric acid                0.295449         -0.158325  ... -0.081920 -0.008669\n",
       "residual sugar             0.089443          0.052522  ... -0.459703 -0.099631\n",
       "chlorides                  0.023874          0.065871  ... -0.371390 -0.213545\n",
       "free sulfur dioxide       -0.048303         -0.098734  ... -0.255618  0.015571\n",
       "total sulfur dioxide       0.091672          0.089333  ... -0.451026 -0.172976\n",
       "density                    0.270610          0.008482  ... -0.802902 -0.316225\n",
       "pH                        -0.427152         -0.033048  ...  0.121428  0.099493\n",
       "sulphates                 -0.018590         -0.036767  ... -0.017732  0.053548\n",
       "alcohol                   -0.121566          0.067753  ...  1.000000  0.435575\n",
       "quality                   -0.113093         -0.193834  ...  0.435575  1.000000\n",
       "\n",
       "[12 rows x 12 columns]"
      ]
     },
     "execution_count": 75,
     "metadata": {
      "tags": []
     },
     "output_type": "execute_result"
    }
   ],
   "source": [
    "dataset.corr()"
   ]
  },
  {
   "cell_type": "markdown",
   "metadata": {
    "id": "sJHhHR80IPmC"
   },
   "source": [
    "The **correlation matrix** permits to visualize dependencies between pairs of attributes: values close to -1 or +1 indicate a high correlation. A negative correlation value means than when the value of an attribute gets high, the value of the other attribute decreases, and vice-versa. Positive correlation values point out that both features increase or decrease simultaneously. "
   ]
  },
  {
   "cell_type": "code",
   "execution_count": 76,
   "metadata": {
    "colab": {
     "base_uri": "https://localhost:8080/",
     "height": 314
    },
    "executionInfo": {
     "elapsed": 14412,
     "status": "ok",
     "timestamp": 1606930853404,
     "user": {
      "displayName": "Alicia Germán",
      "photoUrl": "",
      "userId": "00608908109085749123"
     },
     "user_tz": -60
    },
    "id": "QGgJEqr7qoSw",
    "outputId": "0958f9c6-56bd-4476-f1c3-c0eeef71c818"
   },
   "outputs": [
    {
     "data": {
      "text/html": [
       "<div>\n",
       "<style scoped>\n",
       "    .dataframe tbody tr th:only-of-type {\n",
       "        vertical-align: middle;\n",
       "    }\n",
       "\n",
       "    .dataframe tbody tr th {\n",
       "        vertical-align: top;\n",
       "    }\n",
       "\n",
       "    .dataframe thead th {\n",
       "        text-align: right;\n",
       "    }\n",
       "</style>\n",
       "<table border=\"1\" class=\"dataframe\">\n",
       "  <thead>\n",
       "    <tr style=\"text-align: right;\">\n",
       "      <th></th>\n",
       "      <th>fixed acidity</th>\n",
       "      <th>volatile acidity</th>\n",
       "      <th>citric acid</th>\n",
       "      <th>residual sugar</th>\n",
       "      <th>chlorides</th>\n",
       "      <th>free sulfur dioxide</th>\n",
       "      <th>total sulfur dioxide</th>\n",
       "      <th>density</th>\n",
       "      <th>pH</th>\n",
       "      <th>sulphates</th>\n",
       "      <th>alcohol</th>\n",
       "      <th>quality</th>\n",
       "    </tr>\n",
       "  </thead>\n",
       "  <tbody>\n",
       "    <tr>\n",
       "      <th>count</th>\n",
       "      <td>4898.000000</td>\n",
       "      <td>4898.000000</td>\n",
       "      <td>4898.000000</td>\n",
       "      <td>4898.000000</td>\n",
       "      <td>4898.000000</td>\n",
       "      <td>4898.000000</td>\n",
       "      <td>4898.000000</td>\n",
       "      <td>4898.000000</td>\n",
       "      <td>4898.000000</td>\n",
       "      <td>4898.000000</td>\n",
       "      <td>4898.000000</td>\n",
       "      <td>4898.000000</td>\n",
       "    </tr>\n",
       "    <tr>\n",
       "      <th>mean</th>\n",
       "      <td>6.853563</td>\n",
       "      <td>0.278021</td>\n",
       "      <td>0.333387</td>\n",
       "      <td>6.374633</td>\n",
       "      <td>0.045685</td>\n",
       "      <td>35.270314</td>\n",
       "      <td>138.324010</td>\n",
       "      <td>0.994017</td>\n",
       "      <td>3.188307</td>\n",
       "      <td>0.489816</td>\n",
       "      <td>10.514267</td>\n",
       "      <td>5.877909</td>\n",
       "    </tr>\n",
       "    <tr>\n",
       "      <th>std</th>\n",
       "      <td>0.833509</td>\n",
       "      <td>0.099439</td>\n",
       "      <td>0.116886</td>\n",
       "      <td>4.976615</td>\n",
       "      <td>0.020985</td>\n",
       "      <td>16.638918</td>\n",
       "      <td>42.283398</td>\n",
       "      <td>0.002910</td>\n",
       "      <td>0.150888</td>\n",
       "      <td>0.113980</td>\n",
       "      <td>1.230621</td>\n",
       "      <td>0.885639</td>\n",
       "    </tr>\n",
       "    <tr>\n",
       "      <th>min</th>\n",
       "      <td>4.500000</td>\n",
       "      <td>0.080000</td>\n",
       "      <td>0.000000</td>\n",
       "      <td>0.600000</td>\n",
       "      <td>0.009000</td>\n",
       "      <td>2.000000</td>\n",
       "      <td>15.000000</td>\n",
       "      <td>0.987110</td>\n",
       "      <td>2.800000</td>\n",
       "      <td>0.220000</td>\n",
       "      <td>8.000000</td>\n",
       "      <td>3.000000</td>\n",
       "    </tr>\n",
       "    <tr>\n",
       "      <th>25%</th>\n",
       "      <td>6.300000</td>\n",
       "      <td>0.210000</td>\n",
       "      <td>0.270000</td>\n",
       "      <td>1.700000</td>\n",
       "      <td>0.036000</td>\n",
       "      <td>23.000000</td>\n",
       "      <td>108.000000</td>\n",
       "      <td>0.991723</td>\n",
       "      <td>3.090000</td>\n",
       "      <td>0.410000</td>\n",
       "      <td>9.500000</td>\n",
       "      <td>5.000000</td>\n",
       "    </tr>\n",
       "    <tr>\n",
       "      <th>50%</th>\n",
       "      <td>6.800000</td>\n",
       "      <td>0.260000</td>\n",
       "      <td>0.320000</td>\n",
       "      <td>5.200000</td>\n",
       "      <td>0.043000</td>\n",
       "      <td>34.000000</td>\n",
       "      <td>134.000000</td>\n",
       "      <td>0.993740</td>\n",
       "      <td>3.180000</td>\n",
       "      <td>0.470000</td>\n",
       "      <td>10.400000</td>\n",
       "      <td>6.000000</td>\n",
       "    </tr>\n",
       "    <tr>\n",
       "      <th>75%</th>\n",
       "      <td>7.300000</td>\n",
       "      <td>0.320000</td>\n",
       "      <td>0.390000</td>\n",
       "      <td>9.900000</td>\n",
       "      <td>0.050000</td>\n",
       "      <td>46.000000</td>\n",
       "      <td>167.000000</td>\n",
       "      <td>0.996100</td>\n",
       "      <td>3.280000</td>\n",
       "      <td>0.550000</td>\n",
       "      <td>11.400000</td>\n",
       "      <td>6.000000</td>\n",
       "    </tr>\n",
       "    <tr>\n",
       "      <th>max</th>\n",
       "      <td>10.000000</td>\n",
       "      <td>0.800000</td>\n",
       "      <td>0.750000</td>\n",
       "      <td>21.000000</td>\n",
       "      <td>0.220000</td>\n",
       "      <td>130.000000</td>\n",
       "      <td>320.000000</td>\n",
       "      <td>1.002500</td>\n",
       "      <td>3.820000</td>\n",
       "      <td>1.000000</td>\n",
       "      <td>14.200000</td>\n",
       "      <td>9.000000</td>\n",
       "    </tr>\n",
       "  </tbody>\n",
       "</table>\n",
       "</div>"
      ],
      "text/plain": [
       "       fixed acidity  volatile acidity  ...      alcohol      quality\n",
       "count    4898.000000       4898.000000  ...  4898.000000  4898.000000\n",
       "mean        6.853563          0.278021  ...    10.514267     5.877909\n",
       "std         0.833509          0.099439  ...     1.230621     0.885639\n",
       "min         4.500000          0.080000  ...     8.000000     3.000000\n",
       "25%         6.300000          0.210000  ...     9.500000     5.000000\n",
       "50%         6.800000          0.260000  ...    10.400000     6.000000\n",
       "75%         7.300000          0.320000  ...    11.400000     6.000000\n",
       "max        10.000000          0.800000  ...    14.200000     9.000000\n",
       "\n",
       "[8 rows x 12 columns]"
      ]
     },
     "execution_count": 76,
     "metadata": {
      "tags": []
     },
     "output_type": "execute_result"
    }
   ],
   "source": [
    "dataset.describe()"
   ]
  },
  {
   "cell_type": "markdown",
   "metadata": {
    "id": "qMx06rxoIPlh"
   },
   "source": [
    "**Third Step:** check how many instances per label there are and group them if necessary.\n",
    "\n",
    "\n",
    "\n"
   ]
  },
  {
   "cell_type": "code",
   "execution_count": 77,
   "metadata": {
    "colab": {
     "base_uri": "https://localhost:8080/"
    },
    "executionInfo": {
     "elapsed": 14402,
     "status": "ok",
     "timestamp": 1606930853406,
     "user": {
      "displayName": "Alicia Germán",
      "photoUrl": "",
      "userId": "00608908109085749123"
     },
     "user_tz": -60
    },
    "id": "aTrAF2c9IPlh",
    "outputId": "52bbdd55-0e1f-4d26-aa73-d0e02fa8489d"
   },
   "outputs": [
    {
     "data": {
      "text/plain": [
       "6    2198\n",
       "5    1457\n",
       "7     880\n",
       "8     175\n",
       "4     163\n",
       "3      20\n",
       "9       5\n",
       "Name: quality, dtype: int64"
      ]
     },
     "execution_count": 77,
     "metadata": {
      "tags": []
     },
     "output_type": "execute_result"
    }
   ],
   "source": [
    "dataset[\"quality\"].value_counts()"
   ]
  },
  {
   "cell_type": "markdown",
   "metadata": {
    "id": "HePsYcROIPlj"
   },
   "source": [
    "Note that there are no instances graded as 10 and from 0 to 2. Moreover, most of the grades are 5, 6, and 7. There are not instances enough for the rest of the classes to perform a classification task using neural networks. Grades 3, 4, and 5 are grouped as **poor** (quality),  grade 6 corresponds to **regular** quality, and grades 7,8, and 9 are grouped under **excellent** quality.  "
   ]
  },
  {
   "cell_type": "code",
   "execution_count": 78,
   "metadata": {
    "executionInfo": {
     "elapsed": 14400,
     "status": "ok",
     "timestamp": 1606930853408,
     "user": {
      "displayName": "Alicia Germán",
      "photoUrl": "",
      "userId": "00608908109085749123"
     },
     "user_tz": -60
    },
    "id": "T-LxjgyhIPlk"
   },
   "outputs": [],
   "source": [
    "dataset.loc[dataset['quality'] < 5,'quality']=5\n",
    "dataset.loc[dataset['quality'] > 7,'quality']=7"
   ]
  },
  {
   "cell_type": "code",
   "execution_count": 79,
   "metadata": {
    "colab": {
     "base_uri": "https://localhost:8080/"
    },
    "executionInfo": {
     "elapsed": 14388,
     "status": "ok",
     "timestamp": 1606930853410,
     "user": {
      "displayName": "Alicia Germán",
      "photoUrl": "",
      "userId": "00608908109085749123"
     },
     "user_tz": -60
    },
    "id": "tZv4QmW1IPln",
    "outputId": "9a6fa2f5-d3b8-4566-847c-a9cc52727933",
    "scrolled": true
   },
   "outputs": [
    {
     "data": {
      "text/plain": [
       "6    2198\n",
       "5    1640\n",
       "7    1060\n",
       "Name: quality, dtype: int64"
      ]
     },
     "execution_count": 79,
     "metadata": {
      "tags": []
     },
     "output_type": "execute_result"
    }
   ],
   "source": [
    "dataset[\"quality\"].value_counts()"
   ]
  },
  {
   "cell_type": "code",
   "execution_count": 80,
   "metadata": {
    "colab": {
     "base_uri": "https://localhost:8080/"
    },
    "executionInfo": {
     "elapsed": 14377,
     "status": "ok",
     "timestamp": 1606930853411,
     "user": {
      "displayName": "Alicia Germán",
      "photoUrl": "",
      "userId": "00608908109085749123"
     },
     "user_tz": -60
    },
    "id": "1qxM6qsaIPlr",
    "outputId": "58cbd307-df43-4aad-d9fe-27ea15c266a2",
    "scrolled": true
   },
   "outputs": [
    {
     "data": {
      "text/plain": [
       "(4898, 12)"
      ]
     },
     "execution_count": 80,
     "metadata": {
      "tags": []
     },
     "output_type": "execute_result"
    }
   ],
   "source": [
    "dataset.shape"
   ]
  },
  {
   "cell_type": "markdown",
   "metadata": {
    "id": "2IxAqfD4IPlu"
   },
   "source": [
    "**Fourth Step:** suffle the dataset (three times):"
   ]
  },
  {
   "cell_type": "code",
   "execution_count": 81,
   "metadata": {
    "colab": {
     "base_uri": "https://localhost:8080/",
     "height": 204
    },
    "executionInfo": {
     "elapsed": 14364,
     "status": "ok",
     "timestamp": 1606930853413,
     "user": {
      "displayName": "Alicia Germán",
      "photoUrl": "",
      "userId": "00608908109085749123"
     },
     "user_tz": -60
    },
    "id": "61IkP3sUIPlv",
    "outputId": "0b353407-c60f-4c34-ef71-d1ddb87beceb"
   },
   "outputs": [
    {
     "data": {
      "text/html": [
       "<div>\n",
       "<style scoped>\n",
       "    .dataframe tbody tr th:only-of-type {\n",
       "        vertical-align: middle;\n",
       "    }\n",
       "\n",
       "    .dataframe tbody tr th {\n",
       "        vertical-align: top;\n",
       "    }\n",
       "\n",
       "    .dataframe thead th {\n",
       "        text-align: right;\n",
       "    }\n",
       "</style>\n",
       "<table border=\"1\" class=\"dataframe\">\n",
       "  <thead>\n",
       "    <tr style=\"text-align: right;\">\n",
       "      <th></th>\n",
       "      <th>fixed acidity</th>\n",
       "      <th>volatile acidity</th>\n",
       "      <th>citric acid</th>\n",
       "      <th>residual sugar</th>\n",
       "      <th>chlorides</th>\n",
       "      <th>free sulfur dioxide</th>\n",
       "      <th>total sulfur dioxide</th>\n",
       "      <th>density</th>\n",
       "      <th>pH</th>\n",
       "      <th>sulphates</th>\n",
       "      <th>alcohol</th>\n",
       "      <th>quality</th>\n",
       "    </tr>\n",
       "  </thead>\n",
       "  <tbody>\n",
       "    <tr>\n",
       "      <th>0</th>\n",
       "      <td>6.8</td>\n",
       "      <td>0.22</td>\n",
       "      <td>0.29</td>\n",
       "      <td>8.9</td>\n",
       "      <td>0.046</td>\n",
       "      <td>82.0</td>\n",
       "      <td>188.0</td>\n",
       "      <td>0.99550</td>\n",
       "      <td>3.30</td>\n",
       "      <td>0.44</td>\n",
       "      <td>10.3</td>\n",
       "      <td>6</td>\n",
       "    </tr>\n",
       "    <tr>\n",
       "      <th>1</th>\n",
       "      <td>7.1</td>\n",
       "      <td>0.43</td>\n",
       "      <td>0.30</td>\n",
       "      <td>6.6</td>\n",
       "      <td>0.025</td>\n",
       "      <td>15.0</td>\n",
       "      <td>138.0</td>\n",
       "      <td>0.99126</td>\n",
       "      <td>3.18</td>\n",
       "      <td>0.46</td>\n",
       "      <td>12.6</td>\n",
       "      <td>6</td>\n",
       "    </tr>\n",
       "    <tr>\n",
       "      <th>2</th>\n",
       "      <td>6.9</td>\n",
       "      <td>0.30</td>\n",
       "      <td>0.21</td>\n",
       "      <td>15.7</td>\n",
       "      <td>0.056</td>\n",
       "      <td>49.0</td>\n",
       "      <td>159.0</td>\n",
       "      <td>0.99827</td>\n",
       "      <td>3.11</td>\n",
       "      <td>0.48</td>\n",
       "      <td>9.0</td>\n",
       "      <td>5</td>\n",
       "    </tr>\n",
       "    <tr>\n",
       "      <th>3</th>\n",
       "      <td>6.3</td>\n",
       "      <td>0.27</td>\n",
       "      <td>0.29</td>\n",
       "      <td>12.2</td>\n",
       "      <td>0.044</td>\n",
       "      <td>59.0</td>\n",
       "      <td>196.0</td>\n",
       "      <td>0.99782</td>\n",
       "      <td>3.14</td>\n",
       "      <td>0.40</td>\n",
       "      <td>8.8</td>\n",
       "      <td>6</td>\n",
       "    </tr>\n",
       "    <tr>\n",
       "      <th>4</th>\n",
       "      <td>7.2</td>\n",
       "      <td>0.23</td>\n",
       "      <td>0.46</td>\n",
       "      <td>6.4</td>\n",
       "      <td>0.036</td>\n",
       "      <td>17.0</td>\n",
       "      <td>85.0</td>\n",
       "      <td>0.99279</td>\n",
       "      <td>3.10</td>\n",
       "      <td>0.78</td>\n",
       "      <td>11.7</td>\n",
       "      <td>6</td>\n",
       "    </tr>\n",
       "  </tbody>\n",
       "</table>\n",
       "</div>"
      ],
      "text/plain": [
       "   fixed acidity  volatile acidity  citric acid  ...  sulphates  alcohol  quality\n",
       "0            6.8              0.22         0.29  ...       0.44     10.3        6\n",
       "1            7.1              0.43         0.30  ...       0.46     12.6        6\n",
       "2            6.9              0.30         0.21  ...       0.48      9.0        5\n",
       "3            6.3              0.27         0.29  ...       0.40      8.8        6\n",
       "4            7.2              0.23         0.46  ...       0.78     11.7        6\n",
       "\n",
       "[5 rows x 12 columns]"
      ]
     },
     "execution_count": 81,
     "metadata": {
      "tags": []
     },
     "output_type": "execute_result"
    }
   ],
   "source": [
    "dataset=dataset.sample(frac=1) #frac is the fraction of axis items to return. 1 means all of them\n",
    "dataset=dataset.sample(frac=1)\n",
    "dataset=dataset.sample(frac=1).reset_index(drop=True) #Reset index and drop the old one\n",
    "dataset.head()"
   ]
  },
  {
   "cell_type": "markdown",
   "metadata": {
    "id": "OwdDqhKIIPlw"
   },
   "source": [
    "**Fifth Step:** split the dataset vertically into attributes $x$ and label $t$ (target) for supervised learning. There are 11 *attributes*, and one *label* (quality) with three different values or *classes*."
   ]
  },
  {
   "cell_type": "code",
   "execution_count": 82,
   "metadata": {
    "colab": {
     "base_uri": "https://localhost:8080/"
    },
    "executionInfo": {
     "elapsed": 14353,
     "status": "ok",
     "timestamp": 1606930853415,
     "user": {
      "displayName": "Alicia Germán",
      "photoUrl": "",
      "userId": "00608908109085749123"
     },
     "user_tz": -60
    },
    "id": "7kexoclVIPlx",
    "outputId": "623dfc4b-10b9-4bfa-ccbe-09ce4d94bf9f"
   },
   "outputs": [
    {
     "data": {
      "text/plain": [
       "0    6\n",
       "1    6\n",
       "2    5\n",
       "3    6\n",
       "4    6\n",
       "5    6\n",
       "6    5\n",
       "7    7\n",
       "8    5\n",
       "9    7\n",
       "Name: quality, dtype: int64"
      ]
     },
     "execution_count": 82,
     "metadata": {
      "tags": []
     },
     "output_type": "execute_result"
    }
   ],
   "source": [
    "t = dataset.quality\n",
    "t[:10]"
   ]
  },
  {
   "cell_type": "code",
   "execution_count": 83,
   "metadata": {
    "executionInfo": {
     "elapsed": 14350,
     "status": "ok",
     "timestamp": 1606930853416,
     "user": {
      "displayName": "Alicia Germán",
      "photoUrl": "",
      "userId": "00608908109085749123"
     },
     "user_tz": -60
    },
    "id": "Kmmf9DASIPly"
   },
   "outputs": [],
   "source": [
    "x = dataset.drop (columns=\"quality\")"
   ]
  },
  {
   "cell_type": "code",
   "execution_count": 84,
   "metadata": {
    "colab": {
     "base_uri": "https://localhost:8080/",
     "height": 204
    },
    "executionInfo": {
     "elapsed": 14324,
     "status": "ok",
     "timestamp": 1606930853418,
     "user": {
      "displayName": "Alicia Germán",
      "photoUrl": "",
      "userId": "00608908109085749123"
     },
     "user_tz": -60
    },
    "id": "oubT3Sx2IPlz",
    "outputId": "ac7be354-cbba-4ddf-f6e7-9b4ead1bb713"
   },
   "outputs": [
    {
     "data": {
      "text/html": [
       "<div>\n",
       "<style scoped>\n",
       "    .dataframe tbody tr th:only-of-type {\n",
       "        vertical-align: middle;\n",
       "    }\n",
       "\n",
       "    .dataframe tbody tr th {\n",
       "        vertical-align: top;\n",
       "    }\n",
       "\n",
       "    .dataframe thead th {\n",
       "        text-align: right;\n",
       "    }\n",
       "</style>\n",
       "<table border=\"1\" class=\"dataframe\">\n",
       "  <thead>\n",
       "    <tr style=\"text-align: right;\">\n",
       "      <th></th>\n",
       "      <th>fixed acidity</th>\n",
       "      <th>volatile acidity</th>\n",
       "      <th>citric acid</th>\n",
       "      <th>residual sugar</th>\n",
       "      <th>chlorides</th>\n",
       "      <th>free sulfur dioxide</th>\n",
       "      <th>total sulfur dioxide</th>\n",
       "      <th>density</th>\n",
       "      <th>pH</th>\n",
       "      <th>sulphates</th>\n",
       "      <th>alcohol</th>\n",
       "    </tr>\n",
       "  </thead>\n",
       "  <tbody>\n",
       "    <tr>\n",
       "      <th>0</th>\n",
       "      <td>6.8</td>\n",
       "      <td>0.22</td>\n",
       "      <td>0.29</td>\n",
       "      <td>8.9</td>\n",
       "      <td>0.046</td>\n",
       "      <td>82.0</td>\n",
       "      <td>188.0</td>\n",
       "      <td>0.99550</td>\n",
       "      <td>3.30</td>\n",
       "      <td>0.44</td>\n",
       "      <td>10.3</td>\n",
       "    </tr>\n",
       "    <tr>\n",
       "      <th>1</th>\n",
       "      <td>7.1</td>\n",
       "      <td>0.43</td>\n",
       "      <td>0.30</td>\n",
       "      <td>6.6</td>\n",
       "      <td>0.025</td>\n",
       "      <td>15.0</td>\n",
       "      <td>138.0</td>\n",
       "      <td>0.99126</td>\n",
       "      <td>3.18</td>\n",
       "      <td>0.46</td>\n",
       "      <td>12.6</td>\n",
       "    </tr>\n",
       "    <tr>\n",
       "      <th>2</th>\n",
       "      <td>6.9</td>\n",
       "      <td>0.30</td>\n",
       "      <td>0.21</td>\n",
       "      <td>15.7</td>\n",
       "      <td>0.056</td>\n",
       "      <td>49.0</td>\n",
       "      <td>159.0</td>\n",
       "      <td>0.99827</td>\n",
       "      <td>3.11</td>\n",
       "      <td>0.48</td>\n",
       "      <td>9.0</td>\n",
       "    </tr>\n",
       "    <tr>\n",
       "      <th>3</th>\n",
       "      <td>6.3</td>\n",
       "      <td>0.27</td>\n",
       "      <td>0.29</td>\n",
       "      <td>12.2</td>\n",
       "      <td>0.044</td>\n",
       "      <td>59.0</td>\n",
       "      <td>196.0</td>\n",
       "      <td>0.99782</td>\n",
       "      <td>3.14</td>\n",
       "      <td>0.40</td>\n",
       "      <td>8.8</td>\n",
       "    </tr>\n",
       "    <tr>\n",
       "      <th>4</th>\n",
       "      <td>7.2</td>\n",
       "      <td>0.23</td>\n",
       "      <td>0.46</td>\n",
       "      <td>6.4</td>\n",
       "      <td>0.036</td>\n",
       "      <td>17.0</td>\n",
       "      <td>85.0</td>\n",
       "      <td>0.99279</td>\n",
       "      <td>3.10</td>\n",
       "      <td>0.78</td>\n",
       "      <td>11.7</td>\n",
       "    </tr>\n",
       "  </tbody>\n",
       "</table>\n",
       "</div>"
      ],
      "text/plain": [
       "   fixed acidity  volatile acidity  citric acid  ...    pH  sulphates  alcohol\n",
       "0            6.8              0.22         0.29  ...  3.30       0.44     10.3\n",
       "1            7.1              0.43         0.30  ...  3.18       0.46     12.6\n",
       "2            6.9              0.30         0.21  ...  3.11       0.48      9.0\n",
       "3            6.3              0.27         0.29  ...  3.14       0.40      8.8\n",
       "4            7.2              0.23         0.46  ...  3.10       0.78     11.7\n",
       "\n",
       "[5 rows x 11 columns]"
      ]
     },
     "execution_count": 84,
     "metadata": {
      "tags": []
     },
     "output_type": "execute_result"
    }
   ],
   "source": [
    "x.head()"
   ]
  },
  {
   "cell_type": "markdown",
   "metadata": {
    "id": "Vyr7s5agIPl1"
   },
   "source": [
    "**Sixth Step**: one-hot encode the classes for a classification problem."
   ]
  },
  {
   "cell_type": "code",
   "execution_count": 85,
   "metadata": {
    "colab": {
     "base_uri": "https://localhost:8080/"
    },
    "executionInfo": {
     "elapsed": 14310,
     "status": "ok",
     "timestamp": 1606930853419,
     "user": {
      "displayName": "Alicia Germán",
      "photoUrl": "",
      "userId": "00608908109085749123"
     },
     "user_tz": -60
    },
    "id": "KW7bPbDLIPl5",
    "outputId": "c4deacd4-2393-4ad1-83f5-721a1d6ac11e"
   },
   "outputs": [
    {
     "data": {
      "text/plain": [
       "array(['Poor', 'Regular', 'Excellent'], dtype='<U9')"
      ]
     },
     "execution_count": 85,
     "metadata": {
      "tags": []
     },
     "output_type": "execute_result"
    }
   ],
   "source": [
    "names = np.array([\"Poor\",\"Regular\",\"Excellent\"])\n",
    "names"
   ]
  },
  {
   "cell_type": "code",
   "execution_count": 86,
   "metadata": {
    "colab": {
     "base_uri": "https://localhost:8080/"
    },
    "executionInfo": {
     "elapsed": 14292,
     "status": "ok",
     "timestamp": 1606930853420,
     "user": {
      "displayName": "Alicia Germán",
      "photoUrl": "",
      "userId": "00608908109085749123"
     },
     "user_tz": -60
    },
    "id": "f1aEwnq2IPl8",
    "outputId": "97c6d1a1-8244-481a-fcaf-5cc63eb25ede"
   },
   "outputs": [
    {
     "data": {
      "text/plain": [
       "array([[0., 1., 0.],\n",
       "       [0., 1., 0.],\n",
       "       [1., 0., 0.],\n",
       "       [0., 1., 0.],\n",
       "       [0., 1., 0.],\n",
       "       [0., 1., 0.],\n",
       "       [1., 0., 0.],\n",
       "       [0., 0., 1.],\n",
       "       [1., 0., 0.],\n",
       "       [0., 0., 1.]])"
      ]
     },
     "execution_count": 86,
     "metadata": {
      "tags": []
     },
     "output_type": "execute_result"
    }
   ],
   "source": [
    "encoder = OneHotEncoder(categories=\"auto\", sparse=False) # Function that one-hot encodes integers\n",
    "one_hot_t = encoder.fit_transform (t.values.reshape(-1,1))\n",
    "one_hot_t[:10]"
   ]
  },
  {
   "cell_type": "code",
   "execution_count": 87,
   "metadata": {
    "colab": {
     "base_uri": "https://localhost:8080/",
     "height": 359
    },
    "executionInfo": {
     "elapsed": 14278,
     "status": "ok",
     "timestamp": 1606930853422,
     "user": {
      "displayName": "Alicia Germán",
      "photoUrl": "",
      "userId": "00608908109085749123"
     },
     "user_tz": -60
    },
    "id": "vXwOEgMDIPl9",
    "outputId": "f8601c1c-4727-4a62-eb46-1984813b9940"
   },
   "outputs": [
    {
     "data": {
      "text/html": [
       "<div>\n",
       "<style scoped>\n",
       "    .dataframe tbody tr th:only-of-type {\n",
       "        vertical-align: middle;\n",
       "    }\n",
       "\n",
       "    .dataframe tbody tr th {\n",
       "        vertical-align: top;\n",
       "    }\n",
       "\n",
       "    .dataframe thead th {\n",
       "        text-align: right;\n",
       "    }\n",
       "</style>\n",
       "<table border=\"1\" class=\"dataframe\">\n",
       "  <thead>\n",
       "    <tr style=\"text-align: right;\">\n",
       "      <th></th>\n",
       "      <th>Poor</th>\n",
       "      <th>Regular</th>\n",
       "      <th>Excellent</th>\n",
       "    </tr>\n",
       "  </thead>\n",
       "  <tbody>\n",
       "    <tr>\n",
       "      <th>0</th>\n",
       "      <td>0.0</td>\n",
       "      <td>1.0</td>\n",
       "      <td>0.0</td>\n",
       "    </tr>\n",
       "    <tr>\n",
       "      <th>1</th>\n",
       "      <td>0.0</td>\n",
       "      <td>1.0</td>\n",
       "      <td>0.0</td>\n",
       "    </tr>\n",
       "    <tr>\n",
       "      <th>2</th>\n",
       "      <td>1.0</td>\n",
       "      <td>0.0</td>\n",
       "      <td>0.0</td>\n",
       "    </tr>\n",
       "    <tr>\n",
       "      <th>3</th>\n",
       "      <td>0.0</td>\n",
       "      <td>1.0</td>\n",
       "      <td>0.0</td>\n",
       "    </tr>\n",
       "    <tr>\n",
       "      <th>4</th>\n",
       "      <td>0.0</td>\n",
       "      <td>1.0</td>\n",
       "      <td>0.0</td>\n",
       "    </tr>\n",
       "    <tr>\n",
       "      <th>5</th>\n",
       "      <td>0.0</td>\n",
       "      <td>1.0</td>\n",
       "      <td>0.0</td>\n",
       "    </tr>\n",
       "    <tr>\n",
       "      <th>6</th>\n",
       "      <td>1.0</td>\n",
       "      <td>0.0</td>\n",
       "      <td>0.0</td>\n",
       "    </tr>\n",
       "    <tr>\n",
       "      <th>7</th>\n",
       "      <td>0.0</td>\n",
       "      <td>0.0</td>\n",
       "      <td>1.0</td>\n",
       "    </tr>\n",
       "    <tr>\n",
       "      <th>8</th>\n",
       "      <td>1.0</td>\n",
       "      <td>0.0</td>\n",
       "      <td>0.0</td>\n",
       "    </tr>\n",
       "    <tr>\n",
       "      <th>9</th>\n",
       "      <td>0.0</td>\n",
       "      <td>0.0</td>\n",
       "      <td>1.0</td>\n",
       "    </tr>\n",
       "  </tbody>\n",
       "</table>\n",
       "</div>"
      ],
      "text/plain": [
       "   Poor  Regular  Excellent\n",
       "0   0.0      1.0        0.0\n",
       "1   0.0      1.0        0.0\n",
       "2   1.0      0.0        0.0\n",
       "3   0.0      1.0        0.0\n",
       "4   0.0      1.0        0.0\n",
       "5   0.0      1.0        0.0\n",
       "6   1.0      0.0        0.0\n",
       "7   0.0      0.0        1.0\n",
       "8   1.0      0.0        0.0\n",
       "9   0.0      0.0        1.0"
      ]
     },
     "execution_count": 87,
     "metadata": {
      "tags": []
     },
     "output_type": "execute_result"
    }
   ],
   "source": [
    "one_hot_t = pd.DataFrame(data=one_hot_t,columns=names)\n",
    "one_hot_t[:10]"
   ]
  },
  {
   "cell_type": "markdown",
   "metadata": {
    "id": "yIXn5SQGIPl-"
   },
   "source": [
    "**Seventh Step:** min-max scale of the input dataset (attributes) within the range [-1,1] for each feature independently."
   ]
  },
  {
   "cell_type": "code",
   "execution_count": 88,
   "metadata": {
    "executionInfo": {
     "elapsed": 14275,
     "status": "ok",
     "timestamp": 1606930853423,
     "user": {
      "displayName": "Alicia Germán",
      "photoUrl": "",
      "userId": "00608908109085749123"
     },
     "user_tz": -60
    },
    "id": "WsISN8HEIPl-"
   },
   "outputs": [],
   "source": [
    "x_s = pd.DataFrame (minmax_scale (x, feature_range=(-1, 1),axis=0, copy=True),columns=x.columns) "
   ]
  },
  {
   "cell_type": "code",
   "execution_count": 89,
   "metadata": {
    "colab": {
     "base_uri": "https://localhost:8080/",
     "height": 359
    },
    "executionInfo": {
     "elapsed": 14257,
     "status": "ok",
     "timestamp": 1606930853424,
     "user": {
      "displayName": "Alicia Germán",
      "photoUrl": "",
      "userId": "00608908109085749123"
     },
     "user_tz": -60
    },
    "id": "jM5DsEfOwM73",
    "outputId": "04436409-5359-421f-fd11-10290be3c8ed"
   },
   "outputs": [
    {
     "data": {
      "text/html": [
       "<div>\n",
       "<style scoped>\n",
       "    .dataframe tbody tr th:only-of-type {\n",
       "        vertical-align: middle;\n",
       "    }\n",
       "\n",
       "    .dataframe tbody tr th {\n",
       "        vertical-align: top;\n",
       "    }\n",
       "\n",
       "    .dataframe thead th {\n",
       "        text-align: right;\n",
       "    }\n",
       "</style>\n",
       "<table border=\"1\" class=\"dataframe\">\n",
       "  <thead>\n",
       "    <tr style=\"text-align: right;\">\n",
       "      <th></th>\n",
       "      <th>fixed acidity</th>\n",
       "      <th>volatile acidity</th>\n",
       "      <th>citric acid</th>\n",
       "      <th>residual sugar</th>\n",
       "      <th>chlorides</th>\n",
       "      <th>free sulfur dioxide</th>\n",
       "      <th>total sulfur dioxide</th>\n",
       "      <th>density</th>\n",
       "      <th>pH</th>\n",
       "      <th>sulphates</th>\n",
       "      <th>alcohol</th>\n",
       "    </tr>\n",
       "  </thead>\n",
       "  <tbody>\n",
       "    <tr>\n",
       "      <th>0</th>\n",
       "      <td>-0.163636</td>\n",
       "      <td>-0.611111</td>\n",
       "      <td>-0.226667</td>\n",
       "      <td>-0.186275</td>\n",
       "      <td>-0.649289</td>\n",
       "      <td>0.250000</td>\n",
       "      <td>0.134426</td>\n",
       "      <td>0.090318</td>\n",
       "      <td>-0.019608</td>\n",
       "      <td>-0.435897</td>\n",
       "      <td>-0.258065</td>\n",
       "    </tr>\n",
       "    <tr>\n",
       "      <th>1</th>\n",
       "      <td>-0.054545</td>\n",
       "      <td>-0.027778</td>\n",
       "      <td>-0.200000</td>\n",
       "      <td>-0.411765</td>\n",
       "      <td>-0.848341</td>\n",
       "      <td>-0.796875</td>\n",
       "      <td>-0.193443</td>\n",
       "      <td>-0.460689</td>\n",
       "      <td>-0.254902</td>\n",
       "      <td>-0.384615</td>\n",
       "      <td>0.483871</td>\n",
       "    </tr>\n",
       "    <tr>\n",
       "      <th>2</th>\n",
       "      <td>-0.127273</td>\n",
       "      <td>-0.388889</td>\n",
       "      <td>-0.440000</td>\n",
       "      <td>0.480392</td>\n",
       "      <td>-0.554502</td>\n",
       "      <td>-0.265625</td>\n",
       "      <td>-0.055738</td>\n",
       "      <td>0.450292</td>\n",
       "      <td>-0.392157</td>\n",
       "      <td>-0.333333</td>\n",
       "      <td>-0.677419</td>\n",
       "    </tr>\n",
       "    <tr>\n",
       "      <th>3</th>\n",
       "      <td>-0.345455</td>\n",
       "      <td>-0.472222</td>\n",
       "      <td>-0.226667</td>\n",
       "      <td>0.137255</td>\n",
       "      <td>-0.668246</td>\n",
       "      <td>-0.109375</td>\n",
       "      <td>0.186885</td>\n",
       "      <td>0.391813</td>\n",
       "      <td>-0.333333</td>\n",
       "      <td>-0.538462</td>\n",
       "      <td>-0.741935</td>\n",
       "    </tr>\n",
       "    <tr>\n",
       "      <th>4</th>\n",
       "      <td>-0.018182</td>\n",
       "      <td>-0.583333</td>\n",
       "      <td>0.226667</td>\n",
       "      <td>-0.431373</td>\n",
       "      <td>-0.744076</td>\n",
       "      <td>-0.765625</td>\n",
       "      <td>-0.540984</td>\n",
       "      <td>-0.261858</td>\n",
       "      <td>-0.411765</td>\n",
       "      <td>0.435897</td>\n",
       "      <td>0.193548</td>\n",
       "    </tr>\n",
       "    <tr>\n",
       "      <th>5</th>\n",
       "      <td>-0.563636</td>\n",
       "      <td>-0.472222</td>\n",
       "      <td>-0.573333</td>\n",
       "      <td>-0.176471</td>\n",
       "      <td>-0.582938</td>\n",
       "      <td>-0.531250</td>\n",
       "      <td>-0.370492</td>\n",
       "      <td>-0.008447</td>\n",
       "      <td>0.098039</td>\n",
       "      <td>-0.615385</td>\n",
       "      <td>-0.225806</td>\n",
       "    </tr>\n",
       "    <tr>\n",
       "      <th>6</th>\n",
       "      <td>-0.200000</td>\n",
       "      <td>-0.472222</td>\n",
       "      <td>-0.173333</td>\n",
       "      <td>0.480392</td>\n",
       "      <td>-0.744076</td>\n",
       "      <td>-0.343750</td>\n",
       "      <td>0.075410</td>\n",
       "      <td>0.402209</td>\n",
       "      <td>-0.098039</td>\n",
       "      <td>-0.128205</td>\n",
       "      <td>-0.483871</td>\n",
       "    </tr>\n",
       "    <tr>\n",
       "      <th>7</th>\n",
       "      <td>-0.236364</td>\n",
       "      <td>-0.527778</td>\n",
       "      <td>0.040000</td>\n",
       "      <td>-0.916667</td>\n",
       "      <td>-0.706161</td>\n",
       "      <td>-0.406250</td>\n",
       "      <td>-0.514754</td>\n",
       "      <td>-0.481481</td>\n",
       "      <td>0.078431</td>\n",
       "      <td>-0.538462</td>\n",
       "      <td>0.096774</td>\n",
       "    </tr>\n",
       "    <tr>\n",
       "      <th>8</th>\n",
       "      <td>-0.418182</td>\n",
       "      <td>-0.444444</td>\n",
       "      <td>-0.066667</td>\n",
       "      <td>0.196078</td>\n",
       "      <td>-0.630332</td>\n",
       "      <td>-0.046875</td>\n",
       "      <td>0.403279</td>\n",
       "      <td>0.350227</td>\n",
       "      <td>-0.450980</td>\n",
       "      <td>-0.538462</td>\n",
       "      <td>-0.709677</td>\n",
       "    </tr>\n",
       "    <tr>\n",
       "      <th>9</th>\n",
       "      <td>0.272727</td>\n",
       "      <td>-0.277778</td>\n",
       "      <td>0.306667</td>\n",
       "      <td>-0.176471</td>\n",
       "      <td>-0.772512</td>\n",
       "      <td>-0.421875</td>\n",
       "      <td>0.081967</td>\n",
       "      <td>-0.156595</td>\n",
       "      <td>-0.352941</td>\n",
       "      <td>-0.589744</td>\n",
       "      <td>0.387097</td>\n",
       "    </tr>\n",
       "  </tbody>\n",
       "</table>\n",
       "</div>"
      ],
      "text/plain": [
       "   fixed acidity  volatile acidity  citric acid  ...        pH  sulphates   alcohol\n",
       "0      -0.163636         -0.611111    -0.226667  ... -0.019608  -0.435897 -0.258065\n",
       "1      -0.054545         -0.027778    -0.200000  ... -0.254902  -0.384615  0.483871\n",
       "2      -0.127273         -0.388889    -0.440000  ... -0.392157  -0.333333 -0.677419\n",
       "3      -0.345455         -0.472222    -0.226667  ... -0.333333  -0.538462 -0.741935\n",
       "4      -0.018182         -0.583333     0.226667  ... -0.411765   0.435897  0.193548\n",
       "5      -0.563636         -0.472222    -0.573333  ...  0.098039  -0.615385 -0.225806\n",
       "6      -0.200000         -0.472222    -0.173333  ... -0.098039  -0.128205 -0.483871\n",
       "7      -0.236364         -0.527778     0.040000  ...  0.078431  -0.538462  0.096774\n",
       "8      -0.418182         -0.444444    -0.066667  ... -0.450980  -0.538462 -0.709677\n",
       "9       0.272727         -0.277778     0.306667  ... -0.352941  -0.589744  0.387097\n",
       "\n",
       "[10 rows x 11 columns]"
      ]
     },
     "execution_count": 89,
     "metadata": {
      "tags": []
     },
     "output_type": "execute_result"
    }
   ],
   "source": [
    "x_s[:10]"
   ]
  },
  {
   "cell_type": "code",
   "execution_count": 90,
   "metadata": {
    "colab": {
     "base_uri": "https://localhost:8080/",
     "height": 314
    },
    "executionInfo": {
     "elapsed": 14240,
     "status": "ok",
     "timestamp": 1606930853425,
     "user": {
      "displayName": "Alicia Germán",
      "photoUrl": "",
      "userId": "00608908109085749123"
     },
     "user_tz": -60
    },
    "id": "7D3_bHRTIPl_",
    "outputId": "760288ed-2db6-4e8f-e191-314e7eb159e0"
   },
   "outputs": [
    {
     "data": {
      "text/html": [
       "<div>\n",
       "<style scoped>\n",
       "    .dataframe tbody tr th:only-of-type {\n",
       "        vertical-align: middle;\n",
       "    }\n",
       "\n",
       "    .dataframe tbody tr th {\n",
       "        vertical-align: top;\n",
       "    }\n",
       "\n",
       "    .dataframe thead th {\n",
       "        text-align: right;\n",
       "    }\n",
       "</style>\n",
       "<table border=\"1\" class=\"dataframe\">\n",
       "  <thead>\n",
       "    <tr style=\"text-align: right;\">\n",
       "      <th></th>\n",
       "      <th>fixed acidity</th>\n",
       "      <th>volatile acidity</th>\n",
       "      <th>citric acid</th>\n",
       "      <th>residual sugar</th>\n",
       "      <th>chlorides</th>\n",
       "      <th>free sulfur dioxide</th>\n",
       "      <th>total sulfur dioxide</th>\n",
       "      <th>density</th>\n",
       "      <th>pH</th>\n",
       "      <th>sulphates</th>\n",
       "      <th>alcohol</th>\n",
       "    </tr>\n",
       "  </thead>\n",
       "  <tbody>\n",
       "    <tr>\n",
       "      <th>count</th>\n",
       "      <td>4898.000000</td>\n",
       "      <td>4898.000000</td>\n",
       "      <td>4898.000000</td>\n",
       "      <td>4898.000000</td>\n",
       "      <td>4898.000000</td>\n",
       "      <td>4898.000000</td>\n",
       "      <td>4898.000000</td>\n",
       "      <td>4898.000000</td>\n",
       "      <td>4898.000000</td>\n",
       "      <td>4898.000000</td>\n",
       "      <td>4898.000000</td>\n",
       "    </tr>\n",
       "    <tr>\n",
       "      <th>mean</th>\n",
       "      <td>-0.144159</td>\n",
       "      <td>-0.449943</td>\n",
       "      <td>-0.110968</td>\n",
       "      <td>-0.433860</td>\n",
       "      <td>-0.652271</td>\n",
       "      <td>-0.480151</td>\n",
       "      <td>-0.191318</td>\n",
       "      <td>-0.102461</td>\n",
       "      <td>-0.238613</td>\n",
       "      <td>-0.308163</td>\n",
       "      <td>-0.188946</td>\n",
       "    </tr>\n",
       "    <tr>\n",
       "      <th>std</th>\n",
       "      <td>0.303094</td>\n",
       "      <td>0.276219</td>\n",
       "      <td>0.311697</td>\n",
       "      <td>0.487903</td>\n",
       "      <td>0.198911</td>\n",
       "      <td>0.259983</td>\n",
       "      <td>0.277268</td>\n",
       "      <td>0.378107</td>\n",
       "      <td>0.295859</td>\n",
       "      <td>0.292256</td>\n",
       "      <td>0.396974</td>\n",
       "    </tr>\n",
       "    <tr>\n",
       "      <th>min</th>\n",
       "      <td>-1.000000</td>\n",
       "      <td>-1.000000</td>\n",
       "      <td>-1.000000</td>\n",
       "      <td>-1.000000</td>\n",
       "      <td>-1.000000</td>\n",
       "      <td>-1.000000</td>\n",
       "      <td>-1.000000</td>\n",
       "      <td>-1.000000</td>\n",
       "      <td>-1.000000</td>\n",
       "      <td>-1.000000</td>\n",
       "      <td>-1.000000</td>\n",
       "    </tr>\n",
       "    <tr>\n",
       "      <th>25%</th>\n",
       "      <td>-0.345455</td>\n",
       "      <td>-0.638889</td>\n",
       "      <td>-0.280000</td>\n",
       "      <td>-0.892157</td>\n",
       "      <td>-0.744076</td>\n",
       "      <td>-0.671875</td>\n",
       "      <td>-0.390164</td>\n",
       "      <td>-0.400585</td>\n",
       "      <td>-0.431373</td>\n",
       "      <td>-0.512821</td>\n",
       "      <td>-0.516129</td>\n",
       "    </tr>\n",
       "    <tr>\n",
       "      <th>50%</th>\n",
       "      <td>-0.163636</td>\n",
       "      <td>-0.500000</td>\n",
       "      <td>-0.146667</td>\n",
       "      <td>-0.549020</td>\n",
       "      <td>-0.677725</td>\n",
       "      <td>-0.500000</td>\n",
       "      <td>-0.219672</td>\n",
       "      <td>-0.138402</td>\n",
       "      <td>-0.254902</td>\n",
       "      <td>-0.358974</td>\n",
       "      <td>-0.225806</td>\n",
       "    </tr>\n",
       "    <tr>\n",
       "      <th>75%</th>\n",
       "      <td>0.018182</td>\n",
       "      <td>-0.333333</td>\n",
       "      <td>0.040000</td>\n",
       "      <td>-0.088235</td>\n",
       "      <td>-0.611374</td>\n",
       "      <td>-0.312500</td>\n",
       "      <td>-0.003279</td>\n",
       "      <td>0.168291</td>\n",
       "      <td>-0.058824</td>\n",
       "      <td>-0.153846</td>\n",
       "      <td>0.096774</td>\n",
       "    </tr>\n",
       "    <tr>\n",
       "      <th>max</th>\n",
       "      <td>1.000000</td>\n",
       "      <td>1.000000</td>\n",
       "      <td>1.000000</td>\n",
       "      <td>1.000000</td>\n",
       "      <td>1.000000</td>\n",
       "      <td>1.000000</td>\n",
       "      <td>1.000000</td>\n",
       "      <td>1.000000</td>\n",
       "      <td>1.000000</td>\n",
       "      <td>1.000000</td>\n",
       "      <td>1.000000</td>\n",
       "    </tr>\n",
       "  </tbody>\n",
       "</table>\n",
       "</div>"
      ],
      "text/plain": [
       "       fixed acidity  volatile acidity  ...    sulphates      alcohol\n",
       "count    4898.000000       4898.000000  ...  4898.000000  4898.000000\n",
       "mean       -0.144159         -0.449943  ...    -0.308163    -0.188946\n",
       "std         0.303094          0.276219  ...     0.292256     0.396974\n",
       "min        -1.000000         -1.000000  ...    -1.000000    -1.000000\n",
       "25%        -0.345455         -0.638889  ...    -0.512821    -0.516129\n",
       "50%        -0.163636         -0.500000  ...    -0.358974    -0.225806\n",
       "75%         0.018182         -0.333333  ...    -0.153846     0.096774\n",
       "max         1.000000          1.000000  ...     1.000000     1.000000\n",
       "\n",
       "[8 rows x 11 columns]"
      ]
     },
     "execution_count": 90,
     "metadata": {
      "tags": []
     },
     "output_type": "execute_result"
    }
   ],
   "source": [
    "x_s.describe()"
   ]
  },
  {
   "cell_type": "markdown",
   "metadata": {
    "id": "hLQpgrM1IPmE"
   },
   "source": [
    "Finally, both matrix $x$ and target values $t$ are **saved to csv files**."
   ]
  },
  {
   "cell_type": "code",
   "execution_count": 91,
   "metadata": {
    "executionInfo": {
     "elapsed": 14533,
     "status": "ok",
     "timestamp": 1606930853722,
     "user": {
      "displayName": "Alicia Germán",
      "photoUrl": "",
      "userId": "00608908109085749123"
     },
     "user_tz": -60
    },
    "id": "tmQX-ExaIPmE"
   },
   "outputs": [],
   "source": [
    "x_s.to_csv(ATT_FILE_NAME, index=False)\n",
    "one_hot_t.to_csv(ONE_HOT_ENCODED_CLASSES_FILE_NAME, index=False)"
   ]
  }
 ],
 "metadata": {
  "colab": {
   "collapsed_sections": [],
   "name": "PreparingWineQualityDataSet.ipynb",
   "provenance": []
  },
  "kernelspec": {
   "display_name": "Python 3",
   "language": "python",
   "name": "python3"
  },
  "language_info": {
   "codemirror_mode": {
    "name": "ipython",
    "version": 3
   },
   "file_extension": ".py",
   "mimetype": "text/x-python",
   "name": "python",
   "nbconvert_exporter": "python",
   "pygments_lexer": "ipython3",
   "version": "3.8.5"
  }
 },
 "nbformat": 4,
 "nbformat_minor": 1
}
